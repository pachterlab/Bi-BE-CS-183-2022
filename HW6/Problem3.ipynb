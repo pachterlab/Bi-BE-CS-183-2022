{
  "nbformat": 4,
  "nbformat_minor": 0,
  "metadata": {
    "colab": {
      "name": "Problem3.ipynb",
      "provenance": [],
      "collapsed_sections": [],
      "include_colab_link": true
    },
    "kernelspec": {
      "name": "python3",
      "display_name": "Python 3"
    },
    "language_info": {
      "name": "python"
    }
  },
  "cells": [
    {
      "cell_type": "markdown",
      "metadata": {
        "id": "view-in-github",
        "colab_type": "text"
      },
      "source": [
        "<a href=\"https://colab.research.google.com/github/pachterlab/Bi-BE-CS-183-2022/blob/main/HW6/Problem3.ipynb\" target=\"_parent\"><img src=\"https://colab.research.google.com/assets/colab-badge.svg\" alt=\"Open In Colab\"/></a>"
      ]
    },
    {
      "cell_type": "markdown",
      "metadata": {
        "id": "MozW3XxY8ezr"
      },
      "source": [
        "Bi/Be/Cs 183 2021-2022: Intro to Computational Biology\n",
        "TAs: Meichen Fang, Tara Chari, Zitong (Jerry) Wang\n",
        "\n",
        "**Submit your notebooks by sharing a clickable link with Viewer access. Link must be accessible from submitted assignment document.**\n",
        "\n",
        "Make sure Runtime $\\rightarrow$ Restart and run all works without error"
      ]
    },
    {
      "cell_type": "markdown",
      "source": [
        "**HW 6 Problem 3**\n",
        "\n",
        "In this problem you will test different methods for variance stabilization on real single-cell datasets, and analyze the results of these procedures. This follows a recent [paper](https://www.biorxiv.org/content/biorxiv/early/2021/08/25/2021.06.24.449781.full.pdf) and [blog post](https://www.nxn.se/valent/2017/10/15/variance-stabilizing-scrna-seq-counts) about their effects in single-cell.\n"
      ],
      "metadata": {
        "id": "Mu4obGyqS8fh"
      }
    },
    {
      "cell_type": "markdown",
      "source": [
        "##**Import data and install packages**"
      ],
      "metadata": {
        "id": "fJ8J92ntz2rk"
      }
    },
    {
      "cell_type": "code",
      "execution_count": null,
      "metadata": {
        "id": "rjy8W5hly24q"
      },
      "outputs": [],
      "source": [
        "import numpy as np\n",
        "import scipy.io as sio\n",
        "import pandas as pd\n",
        "import matplotlib.pyplot as plt #Can use other plotting packages like seaborn"
      ]
    },
    {
      "cell_type": "code",
      "execution_count": null,
      "metadata": {
        "id": "0Ep8gQNCNLHr"
      },
      "outputs": [],
      "source": [
        ""
      ]
    },
    {
      "cell_type": "code",
      "metadata": {
        "id": "yH-EpSmB9Y_x",
        "colab": {
          "base_uri": "https://localhost:8080/"
        },
        "outputId": "d1deb51d-7528-4976-c435-3e43f12580be"
      },
      "source": [
        "#Download the gene count matrix for Drop-seq Drospohila embryo data\n",
        "!wget --content-disposition https://ftp.ncbi.nlm.nih.gov/geo/samples/GSM2494nnn/GSM2494783/suppl/GSM2494783_dge_mel_vir_rep1.txt.gz"
      ],
      "execution_count": null,
      "outputs": [
        {
          "output_type": "stream",
          "name": "stdout",
          "text": [
            "--2022-02-08 17:37:53--  https://ftp.ncbi.nlm.nih.gov/geo/samples/GSM2494nnn/GSM2494783/suppl/GSM2494783_dge_mel_vir_rep1.txt.gz\n",
            "Resolving ftp.ncbi.nlm.nih.gov (ftp.ncbi.nlm.nih.gov)... 165.112.9.230, 130.14.250.7, 2607:f220:41f:250::230, ...\n",
            "Connecting to ftp.ncbi.nlm.nih.gov (ftp.ncbi.nlm.nih.gov)|165.112.9.230|:443... connected.\n",
            "HTTP request sent, awaiting response... 200 OK\n",
            "Length: 6388719 (6.1M) [application/x-gzip]\n",
            "Saving to: ‘GSM2494783_dge_mel_vir_rep1.txt.gz’\n",
            "\n",
            "GSM2494783_dge_mel_ 100%[===================>]   6.09M  33.8MB/s    in 0.2s    \n",
            "\n",
            "2022-02-08 17:37:54 (33.8 MB/s) - ‘GSM2494783_dge_mel_vir_rep1.txt.gz’ saved [6388719/6388719]\n",
            "\n"
          ]
        }
      ]
    },
    {
      "cell_type": "code",
      "source": [
        "!gunzip GSM2494783_dge_mel_vir_rep1.txt.gz"
      ],
      "metadata": {
        "id": "TL60kdVfBrSj"
      },
      "execution_count": null,
      "outputs": []
    },
    {
      "cell_type": "markdown",
      "source": [
        "## **Read in data for analysis**"
      ],
      "metadata": {
        "id": "PpeuucqgiDPx"
      }
    },
    {
      "cell_type": "markdown",
      "source": [
        "**The dataset**"
      ],
      "metadata": {
        "id": "swY2nSDukmXg"
      }
    },
    {
      "cell_type": "markdown",
      "source": [
        "This dataset is from a Drop-seq experiment whose purpose was to conduct a single-cell study of the early *Drosophila* (fruit fly) embryo at particular stages of development ([Karaiskos et al., 2017](http://dx.doi.org/10.1126/science.aan3235)), from both *Drosophila melanogaster* and *Drosophila virilis* species. Over 5000 embryos were sequenced to  generate a predictive 3D map of gene expression during development across the embryo (using previous *in situ* hybridization data)."
      ],
      "metadata": {
        "id": "NKSN3bu8cQ3O"
      }
    },
    {
      "cell_type": "markdown",
      "source": [
        "<center><img src=\"https://drive.google.com/uc?export=view&id=1p4qrvbhjGahIQL1s3M-UzAFbqhuNyTt7\" alt=\"EMFigure\" width=\"600\" height=\"300\"><center>\n",
        "\n"
      ],
      "metadata": {
        "id": "qquyzlw0pZ3a"
      }
    },
    {
      "cell_type": "markdown",
      "source": [
        "**The count matrix**\n",
        "\n",
        "The gene count matrix is 3,247 cells by 23,712 genes. These counts have not been processed/normalized, so they directly represent the UMI counts from each cell.\n"
      ],
      "metadata": {
        "id": "58nQkH9eko4-"
      }
    },
    {
      "cell_type": "code",
      "metadata": {
        "id": "tZ1h_dME8vJb",
        "colab": {
          "base_uri": "https://localhost:8080/",
          "height": 365
        },
        "outputId": "f789ec88-16c4-4eac-8e6e-dcddee01eff5"
      },
      "source": [
        "#Get gene count matrix\n",
        "data = pd.read_csv('GSM2494783_dge_mel_vir_rep1.txt', sep='\\t',index_col=0)\n",
        "data.head()"
      ],
      "execution_count": null,
      "outputs": [
        {
          "output_type": "execute_result",
          "data": {
            "text/html": [
              "\n",
              "  <div id=\"df-0c359ff0-447b-4dcf-a0bf-8b76e9d8b73c\">\n",
              "    <div class=\"colab-df-container\">\n",
              "      <div>\n",
              "<style scoped>\n",
              "    .dataframe tbody tr th:only-of-type {\n",
              "        vertical-align: middle;\n",
              "    }\n",
              "\n",
              "    .dataframe tbody tr th {\n",
              "        vertical-align: top;\n",
              "    }\n",
              "\n",
              "    .dataframe thead th {\n",
              "        text-align: right;\n",
              "    }\n",
              "</style>\n",
              "<table border=\"1\" class=\"dataframe\">\n",
              "  <thead>\n",
              "    <tr style=\"text-align: right;\">\n",
              "      <th></th>\n",
              "      <th>CATCTTGGTTCN</th>\n",
              "      <th>GTACTAATTACN</th>\n",
              "      <th>GGAAACACGTTC</th>\n",
              "      <th>ACGCACAACTCN</th>\n",
              "      <th>AGAGCTCGTGTA</th>\n",
              "      <th>AATCACCTCCAA</th>\n",
              "      <th>CATAATTTAGCT</th>\n",
              "      <th>GTGTATTTGTCN</th>\n",
              "      <th>TTCTTCACTTTC</th>\n",
              "      <th>CCAGTGTCTTGC</th>\n",
              "      <th>CAGAAGTTGCCG</th>\n",
              "      <th>TACTAGGTTTTC</th>\n",
              "      <th>GCCTTTTGGTTG</th>\n",
              "      <th>AGGCTAATGGAC</th>\n",
              "      <th>CCTGAATTTATN</th>\n",
              "      <th>CTTGCTATAACC</th>\n",
              "      <th>CTCGAGTCCTAA</th>\n",
              "      <th>GGATATCGACCA</th>\n",
              "      <th>GAAGCATTAACT</th>\n",
              "      <th>GAAGAGAACGTT</th>\n",
              "      <th>ATGGTCTATCAC</th>\n",
              "      <th>CTACTGTCAGGA</th>\n",
              "      <th>CCTGAAATTTAT</th>\n",
              "      <th>AACTAAACCATA</th>\n",
              "      <th>TCTAGTTACGCG</th>\n",
              "      <th>TAGACAAAAGCT</th>\n",
              "      <th>CTTAAGCGCGTC</th>\n",
              "      <th>TCTACTAGTGTN</th>\n",
              "      <th>CGTTGTTATGCT</th>\n",
              "      <th>ATTGACAGGGTC</th>\n",
              "      <th>CCGTGCTGAACA</th>\n",
              "      <th>TCCTCCATTCCA</th>\n",
              "      <th>GAGAAAATGAAG</th>\n",
              "      <th>TTGCGACCCAAN</th>\n",
              "      <th>AGCCCCCCGGGA</th>\n",
              "      <th>GCCTAGTGACGT</th>\n",
              "      <th>TTGTTAAAGTCG</th>\n",
              "      <th>CAGTATCGAGAN</th>\n",
              "      <th>CAAAGTATTCGG</th>\n",
              "      <th>CAGCCATCTCCC</th>\n",
              "      <th>...</th>\n",
              "      <th>TGATGATCTGTT</th>\n",
              "      <th>CAAACCTATACT</th>\n",
              "      <th>CCTATACTGGCC</th>\n",
              "      <th>TTACATATATGN</th>\n",
              "      <th>CCTTTTTACGTT</th>\n",
              "      <th>GTTAATGCATTC</th>\n",
              "      <th>TTATAATTGCAA</th>\n",
              "      <th>CTAGTGTAGTCT</th>\n",
              "      <th>TGGCACGATCAT</th>\n",
              "      <th>CAACAAGAGTGT</th>\n",
              "      <th>ACCTCGCGTGGN</th>\n",
              "      <th>CGACAGAGAGGA</th>\n",
              "      <th>CGGCCAGCGCAT</th>\n",
              "      <th>GTGTAGAACCTG</th>\n",
              "      <th>GAGTCACATCGC</th>\n",
              "      <th>AATGATCCGTGC</th>\n",
              "      <th>TCCAAGACCTGG</th>\n",
              "      <th>GTTGCATTTGGC</th>\n",
              "      <th>GTCGATCTACGC</th>\n",
              "      <th>CCGCGTGGTAAT</th>\n",
              "      <th>ATTAAGATATTG</th>\n",
              "      <th>CGGTGAACTAAT</th>\n",
              "      <th>TTTAGCAGTCTT</th>\n",
              "      <th>TACTCAAGAGAC</th>\n",
              "      <th>CAGTGAATAACT</th>\n",
              "      <th>GTATGTGTTTCA</th>\n",
              "      <th>ACTAGCAATGTA</th>\n",
              "      <th>CGGTGCGATAAA</th>\n",
              "      <th>CTGTATGCTCGG</th>\n",
              "      <th>GTAACGAATTAN</th>\n",
              "      <th>TTCCCTAGGTAA</th>\n",
              "      <th>CCTGTAGCGATA</th>\n",
              "      <th>TAAGGGCGCCTC</th>\n",
              "      <th>ATCTGACCAGAA</th>\n",
              "      <th>ATTCCCACTCGT</th>\n",
              "      <th>ATTCCTTATTAG</th>\n",
              "      <th>CGGTAAGCAGGC</th>\n",
              "      <th>AGCAATGAGTCT</th>\n",
              "      <th>CTTCACCTAAGA</th>\n",
              "      <th>TCGCTAATGCCN</th>\n",
              "    </tr>\n",
              "    <tr>\n",
              "      <th>GENE</th>\n",
              "      <th></th>\n",
              "      <th></th>\n",
              "      <th></th>\n",
              "      <th></th>\n",
              "      <th></th>\n",
              "      <th></th>\n",
              "      <th></th>\n",
              "      <th></th>\n",
              "      <th></th>\n",
              "      <th></th>\n",
              "      <th></th>\n",
              "      <th></th>\n",
              "      <th></th>\n",
              "      <th></th>\n",
              "      <th></th>\n",
              "      <th></th>\n",
              "      <th></th>\n",
              "      <th></th>\n",
              "      <th></th>\n",
              "      <th></th>\n",
              "      <th></th>\n",
              "      <th></th>\n",
              "      <th></th>\n",
              "      <th></th>\n",
              "      <th></th>\n",
              "      <th></th>\n",
              "      <th></th>\n",
              "      <th></th>\n",
              "      <th></th>\n",
              "      <th></th>\n",
              "      <th></th>\n",
              "      <th></th>\n",
              "      <th></th>\n",
              "      <th></th>\n",
              "      <th></th>\n",
              "      <th></th>\n",
              "      <th></th>\n",
              "      <th></th>\n",
              "      <th></th>\n",
              "      <th></th>\n",
              "      <th></th>\n",
              "      <th></th>\n",
              "      <th></th>\n",
              "      <th></th>\n",
              "      <th></th>\n",
              "      <th></th>\n",
              "      <th></th>\n",
              "      <th></th>\n",
              "      <th></th>\n",
              "      <th></th>\n",
              "      <th></th>\n",
              "      <th></th>\n",
              "      <th></th>\n",
              "      <th></th>\n",
              "      <th></th>\n",
              "      <th></th>\n",
              "      <th></th>\n",
              "      <th></th>\n",
              "      <th></th>\n",
              "      <th></th>\n",
              "      <th></th>\n",
              "      <th></th>\n",
              "      <th></th>\n",
              "      <th></th>\n",
              "      <th></th>\n",
              "      <th></th>\n",
              "      <th></th>\n",
              "      <th></th>\n",
              "      <th></th>\n",
              "      <th></th>\n",
              "      <th></th>\n",
              "      <th></th>\n",
              "      <th></th>\n",
              "      <th></th>\n",
              "      <th></th>\n",
              "      <th></th>\n",
              "      <th></th>\n",
              "      <th></th>\n",
              "      <th></th>\n",
              "      <th></th>\n",
              "      <th></th>\n",
              "    </tr>\n",
              "  </thead>\n",
              "  <tbody>\n",
              "    <tr>\n",
              "      <th>128up</th>\n",
              "      <td>6</td>\n",
              "      <td>4</td>\n",
              "      <td>0</td>\n",
              "      <td>0</td>\n",
              "      <td>0</td>\n",
              "      <td>0</td>\n",
              "      <td>0</td>\n",
              "      <td>0</td>\n",
              "      <td>0</td>\n",
              "      <td>0</td>\n",
              "      <td>0</td>\n",
              "      <td>0</td>\n",
              "      <td>2</td>\n",
              "      <td>2</td>\n",
              "      <td>0</td>\n",
              "      <td>0</td>\n",
              "      <td>0</td>\n",
              "      <td>0</td>\n",
              "      <td>0</td>\n",
              "      <td>0</td>\n",
              "      <td>0</td>\n",
              "      <td>0</td>\n",
              "      <td>0</td>\n",
              "      <td>0</td>\n",
              "      <td>0</td>\n",
              "      <td>0</td>\n",
              "      <td>0</td>\n",
              "      <td>0</td>\n",
              "      <td>0</td>\n",
              "      <td>0</td>\n",
              "      <td>0</td>\n",
              "      <td>0</td>\n",
              "      <td>0</td>\n",
              "      <td>0</td>\n",
              "      <td>0</td>\n",
              "      <td>0</td>\n",
              "      <td>1</td>\n",
              "      <td>1</td>\n",
              "      <td>0</td>\n",
              "      <td>0</td>\n",
              "      <td>...</td>\n",
              "      <td>0</td>\n",
              "      <td>0</td>\n",
              "      <td>0</td>\n",
              "      <td>0</td>\n",
              "      <td>0</td>\n",
              "      <td>0</td>\n",
              "      <td>0</td>\n",
              "      <td>0</td>\n",
              "      <td>0</td>\n",
              "      <td>0</td>\n",
              "      <td>0</td>\n",
              "      <td>0</td>\n",
              "      <td>0</td>\n",
              "      <td>0</td>\n",
              "      <td>0</td>\n",
              "      <td>0</td>\n",
              "      <td>0</td>\n",
              "      <td>0</td>\n",
              "      <td>0</td>\n",
              "      <td>0</td>\n",
              "      <td>0</td>\n",
              "      <td>0</td>\n",
              "      <td>0</td>\n",
              "      <td>0</td>\n",
              "      <td>0</td>\n",
              "      <td>0</td>\n",
              "      <td>0</td>\n",
              "      <td>0</td>\n",
              "      <td>0</td>\n",
              "      <td>0</td>\n",
              "      <td>0</td>\n",
              "      <td>1</td>\n",
              "      <td>0</td>\n",
              "      <td>0</td>\n",
              "      <td>0</td>\n",
              "      <td>0</td>\n",
              "      <td>0</td>\n",
              "      <td>0</td>\n",
              "      <td>0</td>\n",
              "      <td>0</td>\n",
              "    </tr>\n",
              "    <tr>\n",
              "      <th>14-3-3epsilon</th>\n",
              "      <td>665</td>\n",
              "      <td>370</td>\n",
              "      <td>4</td>\n",
              "      <td>5</td>\n",
              "      <td>1</td>\n",
              "      <td>1</td>\n",
              "      <td>4</td>\n",
              "      <td>1</td>\n",
              "      <td>0</td>\n",
              "      <td>8</td>\n",
              "      <td>4</td>\n",
              "      <td>1</td>\n",
              "      <td>209</td>\n",
              "      <td>188</td>\n",
              "      <td>2</td>\n",
              "      <td>1</td>\n",
              "      <td>2</td>\n",
              "      <td>0</td>\n",
              "      <td>5</td>\n",
              "      <td>1</td>\n",
              "      <td>1</td>\n",
              "      <td>1</td>\n",
              "      <td>2</td>\n",
              "      <td>1</td>\n",
              "      <td>0</td>\n",
              "      <td>115</td>\n",
              "      <td>1</td>\n",
              "      <td>119</td>\n",
              "      <td>2</td>\n",
              "      <td>0</td>\n",
              "      <td>92</td>\n",
              "      <td>2</td>\n",
              "      <td>120</td>\n",
              "      <td>1</td>\n",
              "      <td>6</td>\n",
              "      <td>107</td>\n",
              "      <td>51</td>\n",
              "      <td>95</td>\n",
              "      <td>2</td>\n",
              "      <td>2</td>\n",
              "      <td>...</td>\n",
              "      <td>0</td>\n",
              "      <td>0</td>\n",
              "      <td>4</td>\n",
              "      <td>0</td>\n",
              "      <td>5</td>\n",
              "      <td>3</td>\n",
              "      <td>1</td>\n",
              "      <td>0</td>\n",
              "      <td>3</td>\n",
              "      <td>0</td>\n",
              "      <td>0</td>\n",
              "      <td>1</td>\n",
              "      <td>0</td>\n",
              "      <td>0</td>\n",
              "      <td>1</td>\n",
              "      <td>6</td>\n",
              "      <td>0</td>\n",
              "      <td>3</td>\n",
              "      <td>3</td>\n",
              "      <td>0</td>\n",
              "      <td>6</td>\n",
              "      <td>1</td>\n",
              "      <td>2</td>\n",
              "      <td>4</td>\n",
              "      <td>1</td>\n",
              "      <td>1</td>\n",
              "      <td>8</td>\n",
              "      <td>4</td>\n",
              "      <td>0</td>\n",
              "      <td>0</td>\n",
              "      <td>4</td>\n",
              "      <td>2</td>\n",
              "      <td>0</td>\n",
              "      <td>0</td>\n",
              "      <td>1</td>\n",
              "      <td>0</td>\n",
              "      <td>0</td>\n",
              "      <td>1</td>\n",
              "      <td>3</td>\n",
              "      <td>1</td>\n",
              "    </tr>\n",
              "    <tr>\n",
              "      <th>14-3-3zeta</th>\n",
              "      <td>120</td>\n",
              "      <td>49</td>\n",
              "      <td>0</td>\n",
              "      <td>1</td>\n",
              "      <td>0</td>\n",
              "      <td>0</td>\n",
              "      <td>1</td>\n",
              "      <td>0</td>\n",
              "      <td>0</td>\n",
              "      <td>4</td>\n",
              "      <td>0</td>\n",
              "      <td>0</td>\n",
              "      <td>39</td>\n",
              "      <td>18</td>\n",
              "      <td>0</td>\n",
              "      <td>3</td>\n",
              "      <td>0</td>\n",
              "      <td>0</td>\n",
              "      <td>0</td>\n",
              "      <td>0</td>\n",
              "      <td>0</td>\n",
              "      <td>0</td>\n",
              "      <td>0</td>\n",
              "      <td>0</td>\n",
              "      <td>0</td>\n",
              "      <td>16</td>\n",
              "      <td>0</td>\n",
              "      <td>8</td>\n",
              "      <td>0</td>\n",
              "      <td>1</td>\n",
              "      <td>18</td>\n",
              "      <td>0</td>\n",
              "      <td>13</td>\n",
              "      <td>0</td>\n",
              "      <td>1</td>\n",
              "      <td>12</td>\n",
              "      <td>7</td>\n",
              "      <td>8</td>\n",
              "      <td>0</td>\n",
              "      <td>0</td>\n",
              "      <td>...</td>\n",
              "      <td>0</td>\n",
              "      <td>0</td>\n",
              "      <td>0</td>\n",
              "      <td>0</td>\n",
              "      <td>0</td>\n",
              "      <td>2</td>\n",
              "      <td>1</td>\n",
              "      <td>0</td>\n",
              "      <td>0</td>\n",
              "      <td>1</td>\n",
              "      <td>0</td>\n",
              "      <td>0</td>\n",
              "      <td>0</td>\n",
              "      <td>0</td>\n",
              "      <td>0</td>\n",
              "      <td>0</td>\n",
              "      <td>0</td>\n",
              "      <td>0</td>\n",
              "      <td>1</td>\n",
              "      <td>0</td>\n",
              "      <td>0</td>\n",
              "      <td>0</td>\n",
              "      <td>0</td>\n",
              "      <td>0</td>\n",
              "      <td>0</td>\n",
              "      <td>0</td>\n",
              "      <td>1</td>\n",
              "      <td>0</td>\n",
              "      <td>0</td>\n",
              "      <td>0</td>\n",
              "      <td>0</td>\n",
              "      <td>0</td>\n",
              "      <td>0</td>\n",
              "      <td>0</td>\n",
              "      <td>1</td>\n",
              "      <td>0</td>\n",
              "      <td>0</td>\n",
              "      <td>0</td>\n",
              "      <td>0</td>\n",
              "      <td>0</td>\n",
              "    </tr>\n",
              "    <tr>\n",
              "      <th>140up</th>\n",
              "      <td>6</td>\n",
              "      <td>1</td>\n",
              "      <td>0</td>\n",
              "      <td>0</td>\n",
              "      <td>0</td>\n",
              "      <td>0</td>\n",
              "      <td>0</td>\n",
              "      <td>0</td>\n",
              "      <td>0</td>\n",
              "      <td>0</td>\n",
              "      <td>0</td>\n",
              "      <td>0</td>\n",
              "      <td>2</td>\n",
              "      <td>3</td>\n",
              "      <td>0</td>\n",
              "      <td>0</td>\n",
              "      <td>0</td>\n",
              "      <td>0</td>\n",
              "      <td>0</td>\n",
              "      <td>0</td>\n",
              "      <td>0</td>\n",
              "      <td>0</td>\n",
              "      <td>0</td>\n",
              "      <td>0</td>\n",
              "      <td>0</td>\n",
              "      <td>0</td>\n",
              "      <td>0</td>\n",
              "      <td>0</td>\n",
              "      <td>0</td>\n",
              "      <td>0</td>\n",
              "      <td>0</td>\n",
              "      <td>0</td>\n",
              "      <td>2</td>\n",
              "      <td>0</td>\n",
              "      <td>0</td>\n",
              "      <td>2</td>\n",
              "      <td>0</td>\n",
              "      <td>3</td>\n",
              "      <td>0</td>\n",
              "      <td>0</td>\n",
              "      <td>...</td>\n",
              "      <td>0</td>\n",
              "      <td>0</td>\n",
              "      <td>0</td>\n",
              "      <td>0</td>\n",
              "      <td>0</td>\n",
              "      <td>0</td>\n",
              "      <td>0</td>\n",
              "      <td>0</td>\n",
              "      <td>0</td>\n",
              "      <td>0</td>\n",
              "      <td>0</td>\n",
              "      <td>0</td>\n",
              "      <td>0</td>\n",
              "      <td>0</td>\n",
              "      <td>0</td>\n",
              "      <td>0</td>\n",
              "      <td>0</td>\n",
              "      <td>0</td>\n",
              "      <td>0</td>\n",
              "      <td>0</td>\n",
              "      <td>0</td>\n",
              "      <td>0</td>\n",
              "      <td>0</td>\n",
              "      <td>0</td>\n",
              "      <td>0</td>\n",
              "      <td>0</td>\n",
              "      <td>0</td>\n",
              "      <td>0</td>\n",
              "      <td>0</td>\n",
              "      <td>0</td>\n",
              "      <td>0</td>\n",
              "      <td>0</td>\n",
              "      <td>0</td>\n",
              "      <td>0</td>\n",
              "      <td>0</td>\n",
              "      <td>0</td>\n",
              "      <td>0</td>\n",
              "      <td>0</td>\n",
              "      <td>0</td>\n",
              "      <td>0</td>\n",
              "    </tr>\n",
              "    <tr>\n",
              "      <th>18SrRNA-Psi:CR41602</th>\n",
              "      <td>4</td>\n",
              "      <td>0</td>\n",
              "      <td>3</td>\n",
              "      <td>0</td>\n",
              "      <td>1</td>\n",
              "      <td>0</td>\n",
              "      <td>1</td>\n",
              "      <td>0</td>\n",
              "      <td>0</td>\n",
              "      <td>1</td>\n",
              "      <td>0</td>\n",
              "      <td>1</td>\n",
              "      <td>1</td>\n",
              "      <td>0</td>\n",
              "      <td>0</td>\n",
              "      <td>1</td>\n",
              "      <td>0</td>\n",
              "      <td>1</td>\n",
              "      <td>0</td>\n",
              "      <td>0</td>\n",
              "      <td>0</td>\n",
              "      <td>0</td>\n",
              "      <td>1</td>\n",
              "      <td>1</td>\n",
              "      <td>0</td>\n",
              "      <td>0</td>\n",
              "      <td>0</td>\n",
              "      <td>0</td>\n",
              "      <td>0</td>\n",
              "      <td>0</td>\n",
              "      <td>0</td>\n",
              "      <td>0</td>\n",
              "      <td>1</td>\n",
              "      <td>0</td>\n",
              "      <td>0</td>\n",
              "      <td>0</td>\n",
              "      <td>1</td>\n",
              "      <td>0</td>\n",
              "      <td>0</td>\n",
              "      <td>0</td>\n",
              "      <td>...</td>\n",
              "      <td>0</td>\n",
              "      <td>0</td>\n",
              "      <td>0</td>\n",
              "      <td>0</td>\n",
              "      <td>0</td>\n",
              "      <td>0</td>\n",
              "      <td>0</td>\n",
              "      <td>0</td>\n",
              "      <td>0</td>\n",
              "      <td>0</td>\n",
              "      <td>0</td>\n",
              "      <td>0</td>\n",
              "      <td>0</td>\n",
              "      <td>0</td>\n",
              "      <td>0</td>\n",
              "      <td>0</td>\n",
              "      <td>0</td>\n",
              "      <td>0</td>\n",
              "      <td>0</td>\n",
              "      <td>0</td>\n",
              "      <td>0</td>\n",
              "      <td>0</td>\n",
              "      <td>0</td>\n",
              "      <td>0</td>\n",
              "      <td>0</td>\n",
              "      <td>0</td>\n",
              "      <td>0</td>\n",
              "      <td>0</td>\n",
              "      <td>0</td>\n",
              "      <td>0</td>\n",
              "      <td>0</td>\n",
              "      <td>0</td>\n",
              "      <td>0</td>\n",
              "      <td>0</td>\n",
              "      <td>0</td>\n",
              "      <td>0</td>\n",
              "      <td>0</td>\n",
              "      <td>0</td>\n",
              "      <td>0</td>\n",
              "      <td>0</td>\n",
              "    </tr>\n",
              "  </tbody>\n",
              "</table>\n",
              "<p>5 rows × 3247 columns</p>\n",
              "</div>\n",
              "      <button class=\"colab-df-convert\" onclick=\"convertToInteractive('df-0c359ff0-447b-4dcf-a0bf-8b76e9d8b73c')\"\n",
              "              title=\"Convert this dataframe to an interactive table.\"\n",
              "              style=\"display:none;\">\n",
              "        \n",
              "  <svg xmlns=\"http://www.w3.org/2000/svg\" height=\"24px\"viewBox=\"0 0 24 24\"\n",
              "       width=\"24px\">\n",
              "    <path d=\"M0 0h24v24H0V0z\" fill=\"none\"/>\n",
              "    <path d=\"M18.56 5.44l.94 2.06.94-2.06 2.06-.94-2.06-.94-.94-2.06-.94 2.06-2.06.94zm-11 1L8.5 8.5l.94-2.06 2.06-.94-2.06-.94L8.5 2.5l-.94 2.06-2.06.94zm10 10l.94 2.06.94-2.06 2.06-.94-2.06-.94-.94-2.06-.94 2.06-2.06.94z\"/><path d=\"M17.41 7.96l-1.37-1.37c-.4-.4-.92-.59-1.43-.59-.52 0-1.04.2-1.43.59L10.3 9.45l-7.72 7.72c-.78.78-.78 2.05 0 2.83L4 21.41c.39.39.9.59 1.41.59.51 0 1.02-.2 1.41-.59l7.78-7.78 2.81-2.81c.8-.78.8-2.07 0-2.86zM5.41 20L4 18.59l7.72-7.72 1.47 1.35L5.41 20z\"/>\n",
              "  </svg>\n",
              "      </button>\n",
              "      \n",
              "  <style>\n",
              "    .colab-df-container {\n",
              "      display:flex;\n",
              "      flex-wrap:wrap;\n",
              "      gap: 12px;\n",
              "    }\n",
              "\n",
              "    .colab-df-convert {\n",
              "      background-color: #E8F0FE;\n",
              "      border: none;\n",
              "      border-radius: 50%;\n",
              "      cursor: pointer;\n",
              "      display: none;\n",
              "      fill: #1967D2;\n",
              "      height: 32px;\n",
              "      padding: 0 0 0 0;\n",
              "      width: 32px;\n",
              "    }\n",
              "\n",
              "    .colab-df-convert:hover {\n",
              "      background-color: #E2EBFA;\n",
              "      box-shadow: 0px 1px 2px rgba(60, 64, 67, 0.3), 0px 1px 3px 1px rgba(60, 64, 67, 0.15);\n",
              "      fill: #174EA6;\n",
              "    }\n",
              "\n",
              "    [theme=dark] .colab-df-convert {\n",
              "      background-color: #3B4455;\n",
              "      fill: #D2E3FC;\n",
              "    }\n",
              "\n",
              "    [theme=dark] .colab-df-convert:hover {\n",
              "      background-color: #434B5C;\n",
              "      box-shadow: 0px 1px 3px 1px rgba(0, 0, 0, 0.15);\n",
              "      filter: drop-shadow(0px 1px 2px rgba(0, 0, 0, 0.3));\n",
              "      fill: #FFFFFF;\n",
              "    }\n",
              "  </style>\n",
              "\n",
              "      <script>\n",
              "        const buttonEl =\n",
              "          document.querySelector('#df-0c359ff0-447b-4dcf-a0bf-8b76e9d8b73c button.colab-df-convert');\n",
              "        buttonEl.style.display =\n",
              "          google.colab.kernel.accessAllowed ? 'block' : 'none';\n",
              "\n",
              "        async function convertToInteractive(key) {\n",
              "          const element = document.querySelector('#df-0c359ff0-447b-4dcf-a0bf-8b76e9d8b73c');\n",
              "          const dataTable =\n",
              "            await google.colab.kernel.invokeFunction('convertToInteractive',\n",
              "                                                     [key], {});\n",
              "          if (!dataTable) return;\n",
              "\n",
              "          const docLinkHtml = 'Like what you see? Visit the ' +\n",
              "            '<a target=\"_blank\" href=https://colab.research.google.com/notebooks/data_table.ipynb>data table notebook</a>'\n",
              "            + ' to learn more about interactive tables.';\n",
              "          element.innerHTML = '';\n",
              "          dataTable['output_type'] = 'display_data';\n",
              "          await google.colab.output.renderOutput(dataTable, element);\n",
              "          const docLink = document.createElement('div');\n",
              "          docLink.innerHTML = docLinkHtml;\n",
              "          element.appendChild(docLink);\n",
              "        }\n",
              "      </script>\n",
              "    </div>\n",
              "  </div>\n",
              "  "
            ],
            "text/plain": [
              "                     CATCTTGGTTCN  GTACTAATTACN  ...  CTTCACCTAAGA  TCGCTAATGCCN\n",
              "GENE                                             ...                            \n",
              "128up                           6             4  ...             0             0\n",
              "14-3-3epsilon                 665           370  ...             3             1\n",
              "14-3-3zeta                    120            49  ...             0             0\n",
              "140up                           6             1  ...             0             0\n",
              "18SrRNA-Psi:CR41602             4             0  ...             0             0\n",
              "\n",
              "[5 rows x 3247 columns]"
            ]
          },
          "metadata": {},
          "execution_count": 4
        }
      ]
    },
    {
      "cell_type": "code",
      "source": [
        "#Extract just the counts and transpose (to get cells x genes)\n",
        "count_mat = data.to_numpy().T\n",
        "count_mat.shape"
      ],
      "metadata": {
        "id": "740kCU8WB9np",
        "colab": {
          "base_uri": "https://localhost:8080/"
        },
        "outputId": "42fe3ea6-f5d4-4c59-b08e-ef90cac2d8a7"
      },
      "execution_count": null,
      "outputs": [
        {
          "output_type": "execute_result",
          "data": {
            "text/plain": [
              "(3247, 23712)"
            ]
          },
          "metadata": {},
          "execution_count": 5
        }
      ]
    },
    {
      "cell_type": "markdown",
      "source": [
        "## **Problem 3 (40 points)**"
      ],
      "metadata": {
        "id": "u2DFUfz9OGGd"
      }
    },
    {
      "cell_type": "markdown",
      "source": [
        "For our purposes, we will use the $\\mu,\\phi$ parametrization of the negative binomial (NB) for this problem. Here $\\phi$ is the dispersion and $\\mu$ is the mean.\n",
        "\n",
        "In this configuration, $\\operatorname {var}(X) = \\mu + \\phi\\mu^2$ (unlike the Poisson where $\\operatorname{var}(X) = \\mu$). $x_i$ represents expression of gene $i$.\n",
        "\n",
        "\n",
        "As described in the assignment, we can find a variance-stabilizing transform, where given\n",
        "\\begin{align}\n",
        "\\operatorname {var} (X)=h(\\mu ),\\,\n",
        "\\end{align}\n",
        "a suitable transform would be\n",
        "\\begin{align}\n",
        " y\\propto \\int ^{x}{\\frac {1}{\\sqrt {h(\\mu )}}}\\,d\\mu \n",
        "\\end{align}\n",
        "to result in a constant (mean-independent) variance.\n"
      ],
      "metadata": {
        "id": "8hpGQY0VCgHX"
      }
    },
    {
      "cell_type": "markdown",
      "source": [
        "### **a) Find the expression for the transformation $y$ given the var$(X)$ expression for a NB (given in the Problem statement). (5 points)**\n",
        "\n",
        "If working by hand attach an image of your work, or directly type your answer into a text cell. Feel free to use https://www.wolframalpha.com/ for the integral calculation."
      ],
      "metadata": {
        "id": "HbO0uB43EcsD"
      }
    },
    {
      "cell_type": "code",
      "source": [
        ""
      ],
      "metadata": {
        "id": "7RZU6Bm4Auam"
      },
      "execution_count": null,
      "outputs": []
    },
    {
      "cell_type": "code",
      "source": [
        ""
      ],
      "metadata": {
        "id": "jbI6-I9MAu2I"
      },
      "execution_count": null,
      "outputs": []
    },
    {
      "cell_type": "markdown",
      "source": [
        "### **b) Run PCA on the data matrix (with genes as features), extract the top two principal components and transform the data matrix, then plot the cells in their 2D, transformed coordinates. (5 points)**\n",
        "\n",
        "You can use the [sklearn PCA](https://scikit-learn.org/stable/modules/generated/sklearn.decomposition.PCA.html) function, similar to HW3."
      ],
      "metadata": {
        "id": "hl4U4fh7Nq3x"
      }
    },
    {
      "cell_type": "code",
      "source": [
        ""
      ],
      "metadata": {
        "id": "2y0N0DtaNrFz"
      },
      "execution_count": null,
      "outputs": []
    },
    {
      "cell_type": "markdown",
      "source": [
        "### **c) Plot the variance ($\\sigma^2$) versus the mean ($\\mu$) expression for all genes in a single plot, and comment on any trends you notice (how variance relates to the mean). (5 points)**"
      ],
      "metadata": {
        "id": "f6mhUMiOEg-H"
      }
    },
    {
      "cell_type": "code",
      "source": [
        ""
      ],
      "metadata": {
        "id": "lCa5LDe5Au5F"
      },
      "execution_count": null,
      "outputs": []
    },
    {
      "cell_type": "code",
      "source": [
        ""
      ],
      "metadata": {
        "id": "KsxpYw3xAu8i"
      },
      "execution_count": null,
      "outputs": []
    },
    {
      "cell_type": "markdown",
      "source": [
        "### **d) Fit a polynomial to $\\sigma^2$ vs $\\mu$ (the plot from c) to approximate a single $\\phi$ value (across all genes). (5 points)**\n",
        "\n",
        "$\\sigma^2$ is var$(X)$. Given that  $\\operatorname {var}(X) = \\mu + \\phi\\mu^2$ you can find the fit for $\\phi$ as the coefficent for the squared term.\n",
        "\n",
        "You can use the package [polyfit](https://numpy.org/doc/stable/reference/generated/numpy.polyfit.html) with degree 2, which returns the highest power coefficient first.\n",
        "\n",
        "**Report you value of $\\phi$ from the fit (one value across all genes).**"
      ],
      "metadata": {
        "id": "mHQfL3bvEm0j"
      }
    },
    {
      "cell_type": "code",
      "source": [
        ""
      ],
      "metadata": {
        "id": "E5lWM0zjAvAP"
      },
      "execution_count": null,
      "outputs": []
    },
    {
      "cell_type": "code",
      "source": [
        ""
      ],
      "metadata": {
        "id": "yzA1M2HMAvC1"
      },
      "execution_count": null,
      "outputs": []
    },
    {
      "cell_type": "markdown",
      "source": [
        "### **e) Run the log1p, Pearson residual, and $\\mathbf{\\text{sinh}^{-1}}$ variance stabilization transforms on the full dataset. (10 points)**\n",
        "\n",
        "Below you will test out the effect of common variance-stabilization procedures.\n",
        "\n",
        "[In 1948](https://academic.oup.com/biomet/article-abstract/35/3-4/246/280278?redirectedFrom=fulltext), Frank Anscombe developed several transformations for the Poisson and NB distributions including\n",
        "\n",
        "\\begin{align}\n",
        "y \\propto \\dfrac{\\text{sinh}^{-1}(\\sqrt{\\phi x_i})}{\\sqrt{\\phi}} \\tag{1}\n",
        "\\end{align} and\n",
        "\\begin{align}\n",
        "y \\propto \\text{log}(x_i+\\dfrac{1}{2\\phi}) \\tag{2}\n",
        "\\end{align} (similar to the log1p we've seen before) which can approximate the $\\text{sinh}^{-1}$ solution.\n",
        "\n"
      ],
      "metadata": {
        "id": "Qv_ZpCiME4VA"
      }
    },
    {
      "cell_type": "markdown",
      "source": [
        "Another common method is to use Pearson residuals, shown below:\n",
        "\n",
        "\\begin{align}\n",
        "y \\propto \\dfrac{x_i − \\mu_i}{\\sqrt{\\mu_i + \\phi \\mu_i^2}}. \\tag{3}\n",
        "\\end{align}\n",
        "\n",
        "Again $x_i$ represents expression of gene $i$.\n",
        "\n",
        "**After running each transformation, print *only* the transformed values for the first gene, for the first 10 cells, under each transform (1-3).**"
      ],
      "metadata": {
        "id": "dL_lqc8rH19t"
      }
    },
    {
      "cell_type": "code",
      "source": [
        ""
      ],
      "metadata": {
        "id": "-nNESXe_AvE_"
      },
      "execution_count": null,
      "outputs": []
    },
    {
      "cell_type": "code",
      "source": [
        ""
      ],
      "metadata": {
        "id": "0ZFuTVjoAvIg"
      },
      "execution_count": null,
      "outputs": []
    },
    {
      "cell_type": "markdown",
      "source": [
        "### **f) For each of the three transformation methods, make a single plot of the variance ($\\sigma^2$) versus the mean ($\\mu$) for all genes, and comment on the trends you notice (particularly compared to c). (5 points)**"
      ],
      "metadata": {
        "id": "gVAauh99FnUG"
      }
    },
    {
      "cell_type": "code",
      "source": [
        ""
      ],
      "metadata": {
        "id": "ESLQ2iOAFvV7"
      },
      "execution_count": null,
      "outputs": []
    },
    {
      "cell_type": "code",
      "source": [
        ""
      ],
      "metadata": {
        "id": "eKCdcClrFvZF"
      },
      "execution_count": null,
      "outputs": []
    },
    {
      "cell_type": "markdown",
      "source": [
        "### **g) For each transformation, run PCA on the variance-stabilized data matrices (with genes as features), extract the top two principal components and transform the matrix, then plot the cells in their 2D, transformed coordinates. There should be one plot for each transformation method. Comment on how these plots compare to that of b. (5 points)**"
      ],
      "metadata": {
        "id": "zRRxKAraOFUZ"
      }
    },
    {
      "cell_type": "code",
      "source": [
        ""
      ],
      "metadata": {
        "id": "Z4Rzkb5aOFUm"
      },
      "execution_count": null,
      "outputs": []
    },
    {
      "cell_type": "code",
      "source": [
        ""
      ],
      "metadata": {
        "id": "iQq2V1P6Fu3N"
      },
      "execution_count": null,
      "outputs": []
    }
  ]
}