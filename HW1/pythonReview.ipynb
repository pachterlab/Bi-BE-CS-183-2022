{
  "nbformat": 4,
  "nbformat_minor": 0,
  "metadata": {
    "colab": {
      "name": "pythonReview.ipynb",
      "provenance": [],
      "collapsed_sections": [],
      "authorship_tag": "ABX9TyPM8z/WZc19EdQ/mW9borOf",
      "include_colab_link": true
    },
    "kernelspec": {
      "name": "python3",
      "display_name": "Python 3"
    },
    "language_info": {
      "name": "python"
    }
  },
  "cells": [
    {
      "cell_type": "markdown",
      "metadata": {
        "id": "view-in-github",
        "colab_type": "text"
      },
      "source": [
        "<a href=\"https://colab.research.google.com/github/pachterlab/Bi-BE-CS-183-2022/blob/main/HW1/pythonReview.ipynb\" target=\"_parent\"><img src=\"https://colab.research.google.com/assets/colab-badge.svg\" alt=\"Open In Colab\"/></a>"
      ]
    },
    {
      "cell_type": "code",
      "metadata": {
        "id": "_tty4AYi77ys"
      },
      "source": [
        "#To run a code cell, select the cell and hit Command/Ctrl+Enter or click the run/play symbol\n",
        "#Click Insert --> Code Cell or the '+ Code' option to insert a new code cell"
      ],
      "execution_count": null,
      "outputs": []
    },
    {
      "cell_type": "code",
      "metadata": {
        "id": "BAjFr_0y8Sxb"
      },
      "source": [
        "#Click Insert --> Text Cell or the '+ Text' option to insert a cell for text as below"
      ],
      "execution_count": null,
      "outputs": []
    },
    {
      "cell_type": "markdown",
      "metadata": {
        "id": "MozW3XxY8ezr"
      },
      "source": [
        "Text here for descriptions, explanations, etc"
      ]
    },
    {
      "cell_type": "markdown",
      "metadata": {
        "id": "u00RYDUlGu-T"
      },
      "source": [
        "## **Variables and Data Types**"
      ]
    },
    {
      "cell_type": "markdown",
      "metadata": {
        "id": "v-h-je1vHItn"
      },
      "source": [
        "Numerical Types"
      ]
    },
    {
      "cell_type": "code",
      "metadata": {
        "id": "SAE_gD-GG0KX"
      },
      "source": [
        "#Integers\n",
        "x = 10\n",
        "y = -50\n",
        "\n",
        "#Float\n",
        "a = 10.0\n",
        "\n",
        "#Complex\n",
        "c = 3.14j\n",
        "\n"
      ],
      "execution_count": null,
      "outputs": []
    },
    {
      "cell_type": "code",
      "metadata": {
        "id": "v4b3DzBtH-Ld",
        "colab": {
          "base_uri": "https://localhost:8080/"
        },
        "outputId": "117c9408-216c-45b2-a14b-781db5702770"
      },
      "source": [
        "#Print function (built-in)\n",
        "print(x)\n",
        "print(y)\n",
        "\n",
        "print(a)\n",
        "\n",
        "print(c)"
      ],
      "execution_count": null,
      "outputs": [
        {
          "output_type": "stream",
          "name": "stdout",
          "text": [
            "10\n",
            "-50\n",
            "10.0\n",
            "3.14j\n"
          ]
        }
      ]
    },
    {
      "cell_type": "code",
      "metadata": {
        "id": "5Xy-EQlPH_8U"
      },
      "source": [
        "#Assign multiple variables at the same time\n",
        "a = b = c = 5\n",
        "\n",
        "i,j,k = 1,2,3\n"
      ],
      "execution_count": null,
      "outputs": []
    },
    {
      "cell_type": "code",
      "metadata": {
        "id": "HAIWQQLcIPJO"
      },
      "source": [
        "b = 3\n"
      ],
      "execution_count": null,
      "outputs": []
    },
    {
      "cell_type": "code",
      "metadata": {
        "colab": {
          "base_uri": "https://localhost:8080/"
        },
        "id": "xboeAMDxzbwz",
        "outputId": "de154411-157c-44b9-c2e9-8af1b072c7ee"
      },
      "source": [
        "a"
      ],
      "execution_count": null,
      "outputs": [
        {
          "output_type": "execute_result",
          "data": {
            "text/plain": [
              "5"
            ]
          },
          "metadata": {},
          "execution_count": 12
        }
      ]
    },
    {
      "cell_type": "markdown",
      "metadata": {
        "id": "DZvja8C1Hrbe"
      },
      "source": [
        "Strings"
      ]
    },
    {
      "cell_type": "code",
      "metadata": {
        "colab": {
          "base_uri": "https://localhost:8080/"
        },
        "id": "9cLUs5OnHR40",
        "outputId": "9d8c7612-ea8a-4800-fc21-c6fd156771f4"
      },
      "source": [
        "word = 'Hello World!'\n",
        "\n",
        "# Prints complete string\n",
        "print(word)\n",
        "# Prints first character of the string\n",
        "print(word[0])\n",
        "\n",
        "# Prints third through fifth characters\n",
        "print(word[2:5]) #2:5, "
      ],
      "execution_count": null,
      "outputs": [
        {
          "output_type": "stream",
          "name": "stdout",
          "text": [
            "Hello World!\n",
            "H\n",
            "llo\n"
          ]
        }
      ]
    },
    {
      "cell_type": "code",
      "metadata": {
        "colab": {
          "base_uri": "https://localhost:8080/",
          "height": 164
        },
        "id": "Tb2LPfLy0EVX",
        "outputId": "e199abfb-daf6-4b85-971d-e5525327c9a5"
      },
      "source": [
        "word[0] = 'B'"
      ],
      "execution_count": null,
      "outputs": [
        {
          "output_type": "error",
          "ename": "NameError",
          "evalue": "ignored",
          "traceback": [
            "\u001b[0;31m---------------------------------------------------------------------------\u001b[0m",
            "\u001b[0;31mNameError\u001b[0m                                 Traceback (most recent call last)",
            "\u001b[0;32m<ipython-input-13-dd0fcdc3acc8>\u001b[0m in \u001b[0;36m<module>\u001b[0;34m()\u001b[0m\n\u001b[0;32m----> 1\u001b[0;31m \u001b[0mword\u001b[0m\u001b[0;34m[\u001b[0m\u001b[0;36m0\u001b[0m\u001b[0;34m]\u001b[0m \u001b[0;34m=\u001b[0m \u001b[0;34m'B'\u001b[0m\u001b[0;34m\u001b[0m\u001b[0;34m\u001b[0m\u001b[0m\n\u001b[0m",
            "\u001b[0;31mNameError\u001b[0m: name 'word' is not defined"
          ]
        }
      ]
    },
    {
      "cell_type": "code",
      "metadata": {
        "id": "ORahg7muUvFH"
      },
      "source": [
        "#Indexing starts at 0\n",
        "#0:5 is 0,1,2,3,4"
      ],
      "execution_count": null,
      "outputs": []
    },
    {
      "cell_type": "markdown",
      "metadata": {
        "id": "hFUk4qCrHsQu"
      },
      "source": [
        "Lists: Can change their size and their elements"
      ]
    },
    {
      "cell_type": "code",
      "metadata": {
        "colab": {
          "base_uri": "https://localhost:8080/"
        },
        "id": "eVCoUlQgHskZ",
        "outputId": "4eb7ecb6-a5c4-40f2-ab9c-42471796853c"
      },
      "source": [
        "l = [ 'abcd', 786 , 2.23, 'john', 70.2 ]\n",
        "small_l = [123, 'john']\n",
        "\n",
        "# Prints complete list\n",
        "print(l)\n",
        "# Prints first element of the list\n",
        "print(l[0])\n",
        "# Prints elements starting from 2nd till 3rd \n",
        "print(l[1:3])\n",
        "# Prints elements starting from 3rd element\n",
        "print(l[2:])"
      ],
      "execution_count": null,
      "outputs": [
        {
          "output_type": "stream",
          "name": "stdout",
          "text": [
            "['abcd', 786, 2.23, 'john', 70.2]\n",
            "abcd\n",
            "[786, 2.23]\n",
            "[2.23, 'john', 70.2]\n"
          ]
        }
      ]
    },
    {
      "cell_type": "code",
      "metadata": {
        "colab": {
          "base_uri": "https://localhost:8080/"
        },
        "id": "XFyWilxB0eHh",
        "outputId": "c5588cb7-e404-47e5-948b-d7a510861014"
      },
      "source": [
        "l[-1]"
      ],
      "execution_count": null,
      "outputs": [
        {
          "output_type": "execute_result",
          "data": {
            "text/plain": [
              "70.2"
            ]
          },
          "metadata": {},
          "execution_count": 15
        }
      ]
    },
    {
      "cell_type": "code",
      "metadata": {
        "colab": {
          "base_uri": "https://localhost:8080/"
        },
        "id": "-hsxavohKp6X",
        "outputId": "03bdd2ed-488c-466a-c275-27bde8ba46f4"
      },
      "source": [
        "# Prints list two times\n",
        "print(small_l * 2)\n",
        "# Prints concatenated lists\n",
        "print(small_l + small_l +small_l)"
      ],
      "execution_count": null,
      "outputs": [
        {
          "output_type": "stream",
          "name": "stdout",
          "text": [
            "[123, 'john', 123, 'john']\n",
            "[123, 'john', 123, 'john', 123, 'john']\n"
          ]
        }
      ]
    },
    {
      "cell_type": "code",
      "metadata": {
        "colab": {
          "base_uri": "https://localhost:8080/"
        },
        "id": "AwDYqF20KzKr",
        "outputId": "a0d32856-f82d-48ba-c102-93eacdfe9d09"
      },
      "source": [
        "small_l == [123, 'john']\n"
      ],
      "execution_count": null,
      "outputs": [
        {
          "output_type": "execute_result",
          "data": {
            "text/plain": [
              "True"
            ]
          },
          "metadata": {},
          "execution_count": 19
        }
      ]
    },
    {
      "cell_type": "code",
      "metadata": {
        "colab": {
          "base_uri": "https://localhost:8080/"
        },
        "id": "IjjI0Mbd06j8",
        "outputId": "1e95c676-7264-4b74-d9ec-e8168061f6c3"
      },
      "source": [
        "123 in small_l"
      ],
      "execution_count": null,
      "outputs": [
        {
          "output_type": "execute_result",
          "data": {
            "text/plain": [
              "True"
            ]
          },
          "metadata": {},
          "execution_count": 20
        }
      ]
    },
    {
      "cell_type": "code",
      "metadata": {
        "id": "l7pawKCBKXQY"
      },
      "source": [
        "#Don't call variables 'list' (or str)\n",
        "#list = [1,2,3]\n",
        "\n",
        "#d = list([1,2,3]) will give an error"
      ],
      "execution_count": null,
      "outputs": []
    },
    {
      "cell_type": "markdown",
      "metadata": {
        "id": "XZISIhswHtJB"
      },
      "source": [
        "Tuples: Essentially 'Read-only'"
      ]
    },
    {
      "cell_type": "code",
      "metadata": {
        "colab": {
          "base_uri": "https://localhost:8080/"
        },
        "id": "tvsV48cmHuCp",
        "outputId": "29cd8d90-5c29-4a29-ec28-928ea88336a8"
      },
      "source": [
        "tup = ( 'abcd', 786 , 2.23, 'john', 70.2  )\n",
        "small_tup = (123, 'john')\n",
        "\n",
        "# Prints the complete tuple\n",
        "print(tup)\n",
        "# Prints first element of the tuple\n",
        "print(tup[0])\n",
        "# Prints elements of the tuple starting from 2nd till 3rd \n",
        "print(tup[1:3])\n",
        "# Prints elements of the tuple starting from 3rd element\n",
        "print(tup[2:])\n",
        "# Prints the contents of the tuple twice\n",
        "print(small_tup *2)\n",
        "# Prints concatenated tuples\n",
        "print(tup + small_tup)"
      ],
      "execution_count": null,
      "outputs": [
        {
          "output_type": "stream",
          "name": "stdout",
          "text": [
            "('abcd', 786, 2.23, 'john', 70.2)\n",
            "abcd\n",
            "(786, 2.23)\n",
            "(2.23, 'john', 70.2)\n",
            "(123, 'john', 123, 'john')\n",
            "('abcd', 786, 2.23, 'john', 70.2, 123, 'john')\n"
          ]
        }
      ]
    },
    {
      "cell_type": "code",
      "metadata": {
        "colab": {
          "base_uri": "https://localhost:8080/",
          "height": 181
        },
        "id": "8COqwwWqQPSd",
        "outputId": "ae912908-6e5c-4348-fe31-45fc80c52954"
      },
      "source": [
        "#Cannot do\n",
        "tup[2] = 5"
      ],
      "execution_count": null,
      "outputs": [
        {
          "output_type": "error",
          "ename": "TypeError",
          "evalue": "ignored",
          "traceback": [
            "\u001b[0;31m---------------------------------------------------------------------------\u001b[0m",
            "\u001b[0;31mTypeError\u001b[0m                                 Traceback (most recent call last)",
            "\u001b[0;32m<ipython-input-22-aef1ea126a4c>\u001b[0m in \u001b[0;36m<module>\u001b[0;34m()\u001b[0m\n\u001b[1;32m      1\u001b[0m \u001b[0;31m#Cannot do\u001b[0m\u001b[0;34m\u001b[0m\u001b[0;34m\u001b[0m\u001b[0;34m\u001b[0m\u001b[0m\n\u001b[0;32m----> 2\u001b[0;31m \u001b[0mtup\u001b[0m\u001b[0;34m[\u001b[0m\u001b[0;36m2\u001b[0m\u001b[0;34m]\u001b[0m \u001b[0;34m=\u001b[0m \u001b[0;36m5\u001b[0m\u001b[0;34m\u001b[0m\u001b[0;34m\u001b[0m\u001b[0m\n\u001b[0m",
            "\u001b[0;31mTypeError\u001b[0m: 'tuple' object does not support item assignment"
          ]
        }
      ]
    },
    {
      "cell_type": "code",
      "metadata": {
        "colab": {
          "base_uri": "https://localhost:8080/"
        },
        "id": "vmFcGb1C1kCM",
        "outputId": "2408f86a-8cda-41ea-9b14-9e52533707c4"
      },
      "source": [
        "l = [1,2,3]\n",
        "l"
      ],
      "execution_count": null,
      "outputs": [
        {
          "output_type": "execute_result",
          "data": {
            "text/plain": [
              "[1, 2, 3]"
            ]
          },
          "metadata": {},
          "execution_count": 23
        }
      ]
    },
    {
      "cell_type": "code",
      "metadata": {
        "colab": {
          "base_uri": "https://localhost:8080/"
        },
        "id": "Ldwidz381nID",
        "outputId": "f7f60bc5-ce7e-4b04-b7cf-a3cdb2ea21a2"
      },
      "source": [
        "l[0] = 4\n",
        "l"
      ],
      "execution_count": null,
      "outputs": [
        {
          "output_type": "execute_result",
          "data": {
            "text/plain": [
              "[4, 2, 3]"
            ]
          },
          "metadata": {},
          "execution_count": 24
        }
      ]
    },
    {
      "cell_type": "markdown",
      "metadata": {
        "id": "YhsRGyEWHuZv"
      },
      "source": [
        "Dictionaries"
      ]
    },
    {
      "cell_type": "code",
      "metadata": {
        "colab": {
          "base_uri": "https://localhost:8080/"
        },
        "id": "osMjYsCW11Xt",
        "outputId": "cb49ae94-88f6-4ebf-d3a7-de8326792e2c"
      },
      "source": [
        "\n",
        "grads = {}\n",
        "grads"
      ],
      "execution_count": null,
      "outputs": [
        {
          "output_type": "execute_result",
          "data": {
            "text/plain": [
              "{}"
            ]
          },
          "metadata": {},
          "execution_count": 25
        }
      ]
    },
    {
      "cell_type": "code",
      "metadata": {
        "colab": {
          "base_uri": "https://localhost:8080/"
        },
        "id": "3cs1E4blHvJZ",
        "outputId": "54d69711-05fc-4ab8-baf2-2c9c3ef60ed4"
      },
      "source": [
        "grads = {}\n",
        "\n",
        "#Add elements\n",
        "\n",
        "grads['Amy'] = \"G4\"\n",
        "grads['James'] = \"G2\"\n",
        "grads['Total'] = 2\n",
        "\n",
        "# Prints complete dictionary\n",
        "print(grads)\n",
        "# Prints value for Amy key\n",
        "print(grads['Amy'])\n",
        "\n",
        "# Prints all the keys\n",
        "print(grads.keys())\n",
        "# Prints all the values\n",
        "print(grads.values())"
      ],
      "execution_count": null,
      "outputs": [
        {
          "output_type": "stream",
          "name": "stdout",
          "text": [
            "{'Amy': 'G4', 'James': 'G2', 'Total': 2}\n",
            "G4\n",
            "dict_keys(['Amy', 'James', 'Total'])\n",
            "dict_values(['G4', 'G2', 2])\n"
          ]
        }
      ]
    },
    {
      "cell_type": "code",
      "metadata": {
        "colab": {
          "base_uri": "https://localhost:8080/",
          "height": 164
        },
        "id": "6-g2XZOz2dH-",
        "outputId": "b735f07c-49b1-447c-835c-bd85119f39e7"
      },
      "source": [
        "print(grads['AMy'])"
      ],
      "execution_count": null,
      "outputs": [
        {
          "output_type": "error",
          "ename": "KeyError",
          "evalue": "ignored",
          "traceback": [
            "\u001b[0;31m---------------------------------------------------------------------------\u001b[0m",
            "\u001b[0;31mKeyError\u001b[0m                                  Traceback (most recent call last)",
            "\u001b[0;32m<ipython-input-27-f4f6809e57b0>\u001b[0m in \u001b[0;36m<module>\u001b[0;34m()\u001b[0m\n\u001b[0;32m----> 1\u001b[0;31m \u001b[0mprint\u001b[0m\u001b[0;34m(\u001b[0m\u001b[0mgrads\u001b[0m\u001b[0;34m[\u001b[0m\u001b[0;34m'AMy'\u001b[0m\u001b[0;34m]\u001b[0m\u001b[0;34m)\u001b[0m\u001b[0;34m\u001b[0m\u001b[0;34m\u001b[0m\u001b[0m\n\u001b[0m",
            "\u001b[0;31mKeyError\u001b[0m: 'AMy'"
          ]
        }
      ]
    },
    {
      "cell_type": "markdown",
      "metadata": {
        "id": "gniwE8r_Hvg2"
      },
      "source": [
        "Conversions"
      ]
    },
    {
      "cell_type": "code",
      "metadata": {
        "colab": {
          "base_uri": "https://localhost:8080/"
        },
        "id": "dlHkefFCS1sk",
        "outputId": "6cb5933e-4998-47a1-daba-144c46d3d3c9"
      },
      "source": [
        "#int(), str(), list() all functions\n",
        "\n",
        "f = 32.9\n",
        "#Not a rounding function\n",
        "int(f)"
      ],
      "execution_count": null,
      "outputs": [
        {
          "output_type": "execute_result",
          "data": {
            "text/plain": [
              "32"
            ]
          },
          "metadata": {},
          "execution_count": 28
        }
      ]
    },
    {
      "cell_type": "code",
      "metadata": {
        "colab": {
          "base_uri": "https://localhost:8080/",
          "height": 35
        },
        "id": "n9z1fT2tTqAb",
        "outputId": "a9141043-46c4-4cd4-d6bd-2ee40602d252"
      },
      "source": [
        "#Convert to string\n",
        "i = 32\n",
        "str(i)"
      ],
      "execution_count": null,
      "outputs": [
        {
          "output_type": "execute_result",
          "data": {
            "application/vnd.google.colaboratory.intrinsic+json": {
              "type": "string"
            },
            "text/plain": [
              "'32'"
            ]
          },
          "metadata": {},
          "execution_count": 29
        }
      ]
    },
    {
      "cell_type": "code",
      "metadata": {
        "colab": {
          "base_uri": "https://localhost:8080/",
          "height": 35
        },
        "id": "FnJyz1i_Trko",
        "outputId": "c2f8a273-a4b9-4891-de18-0f6fa2163207"
      },
      "source": [
        "#Concatenate strings \n",
        "str(i) + str(i)"
      ],
      "execution_count": null,
      "outputs": [
        {
          "output_type": "execute_result",
          "data": {
            "application/vnd.google.colaboratory.intrinsic+json": {
              "type": "string"
            },
            "text/plain": [
              "'3232'"
            ]
          },
          "metadata": {},
          "execution_count": 30
        }
      ]
    },
    {
      "cell_type": "code",
      "metadata": {
        "colab": {
          "base_uri": "https://localhost:8080/"
        },
        "id": "ttGq3uno2-SZ",
        "outputId": "b681b986-16ff-4c41-ee42-27f76edd7a30"
      },
      "source": [
        "print('This is i: ',i)"
      ],
      "execution_count": null,
      "outputs": [
        {
          "output_type": "stream",
          "name": "stdout",
          "text": [
            "This is i:  32\n"
          ]
        }
      ]
    },
    {
      "cell_type": "markdown",
      "metadata": {
        "id": "iFqb2uQiLB5f"
      },
      "source": [
        "## **Loops and List Comprehension**"
      ]
    },
    {
      "cell_type": "markdown",
      "metadata": {
        "id": "maRBztf1VXpk"
      },
      "source": [
        "Operators"
      ]
    },
    {
      "cell_type": "code",
      "metadata": {
        "id": "EjYyBE_7VZJD"
      },
      "source": [
        "#Examples of operators\n",
        "x = 1 + 2\n",
        "y = 1/2\n",
        "\n",
        "z = 4%2\n",
        "\n",
        "a = 1*2\n",
        "\n"
      ],
      "execution_count": null,
      "outputs": []
    },
    {
      "cell_type": "code",
      "metadata": {
        "colab": {
          "base_uri": "https://localhost:8080/"
        },
        "id": "ghVFKuWkWCol",
        "outputId": "1cf25c33-4ed7-4367-b083-c4078e61951e"
      },
      "source": [
        "print(x)\n",
        "print(y)\n",
        "print(z)\n",
        "print(a)"
      ],
      "execution_count": null,
      "outputs": [
        {
          "output_type": "stream",
          "name": "stdout",
          "text": [
            "3\n",
            "0.5\n",
            "0\n",
            "2\n"
          ]
        }
      ]
    },
    {
      "cell_type": "code",
      "metadata": {
        "colab": {
          "base_uri": "https://localhost:8080/"
        },
        "id": "ZnUz0eL_V-_1",
        "outputId": "c5085e2d-983d-4330-bde3-17c61ab337ad"
      },
      "source": [
        "print(a == z) #not the same as a = z\n",
        "\n",
        "print(a != z)\n",
        "\n",
        "print(a > z)\n",
        "\n",
        "print(a <= z)"
      ],
      "execution_count": null,
      "outputs": [
        {
          "output_type": "stream",
          "name": "stdout",
          "text": [
            "False\n",
            "True\n",
            "True\n",
            "False\n"
          ]
        }
      ]
    },
    {
      "cell_type": "code",
      "metadata": {
        "colab": {
          "base_uri": "https://localhost:8080/"
        },
        "id": "p-aFUVc4LD_L",
        "outputId": "aa9c5b55-d08c-4362-9ddb-79eef754510c"
      },
      "source": [
        "~(a == z)"
      ],
      "execution_count": null,
      "outputs": [
        {
          "output_type": "execute_result",
          "data": {
            "text/plain": [
              "-1"
            ]
          },
          "metadata": {},
          "execution_count": 39
        }
      ]
    },
    {
      "cell_type": "code",
      "metadata": {
        "colab": {
          "base_uri": "https://localhost:8080/"
        },
        "id": "ua4Ge2j8WZWG",
        "outputId": "c65ae97b-4989-411e-818e-78db59948a16"
      },
      "source": [
        "#AND , OR operators\n",
        "#&, |, ^\n",
        "\n",
        "print((a > z) & (a != z)) #True & True\n"
      ],
      "execution_count": null,
      "outputs": [
        {
          "output_type": "stream",
          "name": "stdout",
          "text": [
            "True\n"
          ]
        }
      ]
    },
    {
      "cell_type": "markdown",
      "metadata": {
        "id": "69Q2ZkRwWy8V"
      },
      "source": [
        "Looping (Indentation very important here!)"
      ]
    },
    {
      "cell_type": "code",
      "metadata": {
        "colab": {
          "base_uri": "https://localhost:8080/"
        },
        "id": "AW7LQ2lwW0F4",
        "outputId": "8ce233af-30eb-46eb-b454-2aaede7da46b"
      },
      "source": [
        "#Set condition\n",
        "if (a > 0):\n",
        "  #Action if condition True\n",
        "  print('Nonzero!')"
      ],
      "execution_count": null,
      "outputs": [
        {
          "output_type": "stream",
          "name": "stdout",
          "text": [
            "Nonzero!\n"
          ]
        }
      ]
    },
    {
      "cell_type": "code",
      "metadata": {
        "colab": {
          "base_uri": "https://localhost:8080/"
        },
        "id": "VIpcXBGTXXTh",
        "outputId": "df26f722-5a27-487e-c20b-177be236c82d"
      },
      "source": [
        "#Make a test list\n",
        "test_list = [1,2,3,4,5]\n",
        "len(test_list)"
      ],
      "execution_count": null,
      "outputs": [
        {
          "output_type": "execute_result",
          "data": {
            "text/plain": [
              "5"
            ]
          },
          "metadata": {},
          "execution_count": 48
        }
      ]
    },
    {
      "cell_type": "code",
      "metadata": {
        "colab": {
          "base_uri": "https://localhost:8080/"
        },
        "id": "RWnb66v2W0Is",
        "outputId": "aba8227b-ec94-493a-b35a-38a92665e193"
      },
      "source": [
        "#Loop through each value in list and print out operation on those values\n",
        "for i in range(len(test_list)):\n",
        "#Range will give you values from 0:5 (0,1,2,3,4)\n",
        "  i += 1\n",
        "  \n",
        "  #Equivalent to i = i + 1\n",
        "\n",
        "  print(i)\n"
      ],
      "execution_count": null,
      "outputs": [
        {
          "output_type": "stream",
          "name": "stdout",
          "text": [
            "1\n",
            "2\n",
            "3\n",
            "4\n",
            "5\n"
          ]
        }
      ]
    },
    {
      "cell_type": "code",
      "metadata": {
        "colab": {
          "base_uri": "https://localhost:8080/"
        },
        "id": "kvfFKVvAXTCQ",
        "outputId": "cd7facc7-f125-4904-fef3-5c968f322bcd"
      },
      "source": [
        "#Example while loop\n",
        "z = 5\n",
        "while(z > 0):\n",
        "  z -= 1\n",
        "  print(z)"
      ],
      "execution_count": null,
      "outputs": [
        {
          "output_type": "stream",
          "name": "stdout",
          "text": [
            "4\n",
            "3\n",
            "2\n",
            "1\n",
            "0\n"
          ]
        }
      ]
    },
    {
      "cell_type": "code",
      "metadata": {
        "colab": {
          "base_uri": "https://localhost:8080/"
        },
        "id": "OhWRX0tRXTFQ",
        "outputId": "18169f15-6bd3-422d-fa31-43706396ff4e"
      },
      "source": [
        "#Use += with lists\n",
        "\n",
        "#Add things to empty list\n",
        "example = []\n",
        "\n",
        "example += [2]\n",
        "\n",
        "example"
      ],
      "execution_count": null,
      "outputs": [
        {
          "output_type": "execute_result",
          "data": {
            "text/plain": [
              "[2]"
            ]
          },
          "metadata": {},
          "execution_count": 51
        }
      ]
    },
    {
      "cell_type": "code",
      "metadata": {
        "id": "bK5FoXjo6e9N"
      },
      "source": [
        "example += [3]"
      ],
      "execution_count": null,
      "outputs": []
    },
    {
      "cell_type": "code",
      "metadata": {
        "colab": {
          "base_uri": "https://localhost:8080/"
        },
        "id": "JV3OSZuQ6iqy",
        "outputId": "c677a162-8c03-488a-b52e-bda3a88d7daa"
      },
      "source": [
        "example"
      ],
      "execution_count": null,
      "outputs": [
        {
          "output_type": "execute_result",
          "data": {
            "text/plain": [
              "[2, 3]"
            ]
          },
          "metadata": {},
          "execution_count": 53
        }
      ]
    },
    {
      "cell_type": "markdown",
      "metadata": {
        "id": "XrDmd-D7W0YP"
      },
      "source": [
        "List Comprehension (looping through lists and operating on items)"
      ]
    },
    {
      "cell_type": "code",
      "metadata": {
        "id": "_RlriigeW4V1",
        "colab": {
          "base_uri": "https://localhost:8080/"
        },
        "outputId": "80216873-e20b-4ca1-b4bf-c2a386758335"
      },
      "source": [
        "#Loops within list\n",
        "fruits = [\"apple\", \"banana\",\"cherry\",\"kiwi\",\"mango\"]\n",
        "\n",
        "newlist = [x for x in fruits if \"a\" in x]\n",
        "\n",
        "newlist"
      ],
      "execution_count": null,
      "outputs": [
        {
          "output_type": "execute_result",
          "data": {
            "text/plain": [
              "['apple', 'banana', 'mango']"
            ]
          },
          "metadata": {},
          "execution_count": 54
        }
      ]
    },
    {
      "cell_type": "code",
      "metadata": {
        "id": "4pwGFFqUW4Ym",
        "colab": {
          "base_uri": "https://localhost:8080/"
        },
        "outputId": "9709b3bf-d806-4bab-8dee-0fe95d31d1d4"
      },
      "source": [
        "for i in fruits:\n",
        "  print(i)"
      ],
      "execution_count": null,
      "outputs": [
        {
          "output_type": "stream",
          "name": "stdout",
          "text": [
            "apple\n",
            "banana\n",
            "cherry\n",
            "kiwi\n",
            "mango\n"
          ]
        }
      ]
    },
    {
      "cell_type": "markdown",
      "metadata": {
        "id": "MftwR3ypLEtM"
      },
      "source": [
        "## **Functions**"
      ]
    },
    {
      "cell_type": "markdown",
      "metadata": {
        "id": "foxnxM1XqhuU"
      },
      "source": [
        "Define functions when you have a task you want to run multiple times, possibly on different inputs"
      ]
    },
    {
      "cell_type": "code",
      "metadata": {
        "id": "-zNezF7pLJMN"
      },
      "source": [
        "#Define a function\n",
        "def say_hello():\n",
        "  print('Hello World!')"
      ],
      "execution_count": null,
      "outputs": []
    },
    {
      "cell_type": "code",
      "metadata": {
        "colab": {
          "base_uri": "https://localhost:8080/"
        },
        "id": "mRrOrXyf8NrA",
        "outputId": "06f5d18f-e55d-403b-d692-bff220fd321c"
      },
      "source": [
        "say_hello()\n",
        "say_hello()"
      ],
      "execution_count": null,
      "outputs": [
        {
          "output_type": "stream",
          "name": "stdout",
          "text": [
            "Hello World!\n",
            "Hello World!\n"
          ]
        }
      ]
    },
    {
      "cell_type": "code",
      "metadata": {
        "id": "lWp1iTfFql8s"
      },
      "source": [
        "#Define a function that returns a value\n",
        "def mean(values):\n",
        "  avg = sum(values)/len(values)\n",
        "  return avg"
      ],
      "execution_count": null,
      "outputs": []
    },
    {
      "cell_type": "code",
      "metadata": {
        "id": "OUPr4qcQu2A4",
        "colab": {
          "base_uri": "https://localhost:8080/"
        },
        "outputId": "9b8913f5-467c-4e51-cf3e-e4e8f651561c"
      },
      "source": [
        "#Call function with input\n",
        "mean([1,2,3])"
      ],
      "execution_count": null,
      "outputs": [
        {
          "output_type": "execute_result",
          "data": {
            "text/plain": [
              "2.0"
            ]
          },
          "metadata": {},
          "execution_count": 64
        }
      ]
    },
    {
      "cell_type": "markdown",
      "metadata": {
        "id": "wv6Sn9j4LNDa"
      },
      "source": [
        "## **Useful Packages and Data Types**"
      ]
    },
    {
      "cell_type": "markdown",
      "metadata": {
        "id": "KVO0mEq-rqgj"
      },
      "source": [
        "Numpy (faster calculations with arrays/matrices)"
      ]
    },
    {
      "cell_type": "code",
      "metadata": {
        "colab": {
          "base_uri": "https://localhost:8080/"
        },
        "id": "6fXrkeuzLP12",
        "outputId": "b89a6ce4-c052-4e82-997b-2c392bfa554d"
      },
      "source": [
        "import numpy as np #np is abbreviation\n",
        "\n",
        "#Call functions within numpy package\n",
        "np.mean([1,2,3])"
      ],
      "execution_count": null,
      "outputs": [
        {
          "output_type": "execute_result",
          "data": {
            "text/plain": [
              "2.0"
            ]
          },
          "metadata": {},
          "execution_count": 65
        }
      ]
    },
    {
      "cell_type": "code",
      "metadata": {
        "id": "M_ZvYmkPvlv0",
        "colab": {
          "base_uri": "https://localhost:8080/"
        },
        "outputId": "02025311-a4e5-47ab-ef39-54ba2b6586a4"
      },
      "source": [
        "#Test on numpy array\n",
        "arr = np.array([1,2,3,4])\n",
        "arr.mean()"
      ],
      "execution_count": null,
      "outputs": [
        {
          "output_type": "execute_result",
          "data": {
            "text/plain": [
              "2.5"
            ]
          },
          "metadata": {},
          "execution_count": 66
        }
      ]
    },
    {
      "cell_type": "code",
      "metadata": {
        "id": "sSdOsbPjvuI-",
        "colab": {
          "base_uri": "https://localhost:8080/"
        },
        "outputId": "a5d36b3f-5a84-44a3-bf15-cd6d9ffd2dfc"
      },
      "source": [
        "#Access values\n",
        "\n",
        "arr[3] = 6\n",
        "arr\n",
        "#Every other value"
      ],
      "execution_count": null,
      "outputs": [
        {
          "output_type": "execute_result",
          "data": {
            "text/plain": [
              "array([1, 2, 3, 6])"
            ]
          },
          "metadata": {},
          "execution_count": 68
        }
      ]
    },
    {
      "cell_type": "code",
      "metadata": {
        "colab": {
          "base_uri": "https://localhost:8080/"
        },
        "id": "entb3jxev1AP",
        "outputId": "23ba4272-80e3-42e4-a0fd-5ac91b4ce135"
      },
      "source": [
        "#Create `empty' array\n",
        "arr = np.zeros((2,3))\n",
        "arr"
      ],
      "execution_count": null,
      "outputs": [
        {
          "output_type": "execute_result",
          "data": {
            "text/plain": [
              "array([[0., 0., 0.],\n",
              "       [0., 0., 0.]])"
            ]
          },
          "metadata": {},
          "execution_count": 70
        }
      ]
    },
    {
      "cell_type": "code",
      "metadata": {
        "colab": {
          "base_uri": "https://localhost:8080/"
        },
        "id": "uXxZLLNS8-tl",
        "outputId": "d647775f-99ab-4521-8e87-e3f2cf038bc8"
      },
      "source": [
        "arr[0,1] = 1\n",
        "arr"
      ],
      "execution_count": null,
      "outputs": [
        {
          "output_type": "execute_result",
          "data": {
            "text/plain": [
              "array([[0., 1., 0.],\n",
              "       [0., 0., 0.]])"
            ]
          },
          "metadata": {},
          "execution_count": 71
        }
      ]
    },
    {
      "cell_type": "markdown",
      "metadata": {
        "id": "E22GWy07rrbg"
      },
      "source": [
        "Pandas"
      ]
    },
    {
      "cell_type": "code",
      "metadata": {
        "id": "q_buqZiZrr5M"
      },
      "source": [
        "import pandas as pd"
      ],
      "execution_count": null,
      "outputs": []
    },
    {
      "cell_type": "code",
      "metadata": {
        "id": "31MMAhHDwMBv"
      },
      "source": [
        "#Large lookup table/dictionary --> pandas DataFrame\n",
        "df = pd.DataFrame()"
      ],
      "execution_count": null,
      "outputs": []
    },
    {
      "cell_type": "code",
      "metadata": {
        "id": "v3jcF-hfwME3",
        "colab": {
          "base_uri": "https://localhost:8080/",
          "height": 142
        },
        "outputId": "414c3186-f9e1-4071-e3a1-f0b52108d174"
      },
      "source": [
        "#Populate dataframe\n",
        "df['Names'] = ['Amy','James','Kelly']\n",
        "df['Ages'] = [22,24,26]\n",
        "df"
      ],
      "execution_count": null,
      "outputs": [
        {
          "output_type": "execute_result",
          "data": {
            "text/html": [
              "<div>\n",
              "<style scoped>\n",
              "    .dataframe tbody tr th:only-of-type {\n",
              "        vertical-align: middle;\n",
              "    }\n",
              "\n",
              "    .dataframe tbody tr th {\n",
              "        vertical-align: top;\n",
              "    }\n",
              "\n",
              "    .dataframe thead th {\n",
              "        text-align: right;\n",
              "    }\n",
              "</style>\n",
              "<table border=\"1\" class=\"dataframe\">\n",
              "  <thead>\n",
              "    <tr style=\"text-align: right;\">\n",
              "      <th></th>\n",
              "      <th>Names</th>\n",
              "      <th>Ages</th>\n",
              "    </tr>\n",
              "  </thead>\n",
              "  <tbody>\n",
              "    <tr>\n",
              "      <th>0</th>\n",
              "      <td>Amy</td>\n",
              "      <td>22</td>\n",
              "    </tr>\n",
              "    <tr>\n",
              "      <th>1</th>\n",
              "      <td>James</td>\n",
              "      <td>24</td>\n",
              "    </tr>\n",
              "    <tr>\n",
              "      <th>2</th>\n",
              "      <td>Kelly</td>\n",
              "      <td>26</td>\n",
              "    </tr>\n",
              "  </tbody>\n",
              "</table>\n",
              "</div>"
            ],
            "text/plain": [
              "   Names  Ages\n",
              "0    Amy    22\n",
              "1  James    24\n",
              "2  Kelly    26"
            ]
          },
          "metadata": {},
          "execution_count": 74
        }
      ]
    },
    {
      "cell_type": "code",
      "metadata": {
        "id": "KaEpOUYMwPnt",
        "colab": {
          "base_uri": "https://localhost:8080/"
        },
        "outputId": "fb42fff6-3e21-47f2-90ad-45d95b1fd30b"
      },
      "source": [
        "#See df['Names'] column\n",
        "df.Names"
      ],
      "execution_count": null,
      "outputs": [
        {
          "output_type": "execute_result",
          "data": {
            "text/plain": [
              "0      Amy\n",
              "1    James\n",
              "2    Kelly\n",
              "Name: Names, dtype: object"
            ]
          },
          "metadata": {},
          "execution_count": 76
        }
      ]
    },
    {
      "cell_type": "code",
      "metadata": {
        "id": "L1nalilAwoJJ",
        "colab": {
          "base_uri": "https://localhost:8080/"
        },
        "outputId": "b935f18c-20e4-4271-8316-1c2ccc6101fa"
      },
      "source": [
        "#Check for conditions\n",
        "df['Names'].isin(['Amy','Kelly'])"
      ],
      "execution_count": null,
      "outputs": [
        {
          "output_type": "execute_result",
          "data": {
            "text/plain": [
              "0     True\n",
              "1    False\n",
              "2     True\n",
              "Name: Names, dtype: bool"
            ]
          },
          "metadata": {},
          "execution_count": 77
        }
      ]
    },
    {
      "cell_type": "code",
      "metadata": {
        "id": "lfPbPNLOwtu8",
        "colab": {
          "base_uri": "https://localhost:8080/",
          "height": 111
        },
        "outputId": "e3e4f12d-36a3-43bc-a013-48ec4e01279c"
      },
      "source": [
        "#Subset your dataframe with conditions\n",
        "df[df['Names'].isin(['Amy','Kelly'])]"
      ],
      "execution_count": null,
      "outputs": [
        {
          "output_type": "execute_result",
          "data": {
            "text/html": [
              "<div>\n",
              "<style scoped>\n",
              "    .dataframe tbody tr th:only-of-type {\n",
              "        vertical-align: middle;\n",
              "    }\n",
              "\n",
              "    .dataframe tbody tr th {\n",
              "        vertical-align: top;\n",
              "    }\n",
              "\n",
              "    .dataframe thead th {\n",
              "        text-align: right;\n",
              "    }\n",
              "</style>\n",
              "<table border=\"1\" class=\"dataframe\">\n",
              "  <thead>\n",
              "    <tr style=\"text-align: right;\">\n",
              "      <th></th>\n",
              "      <th>Names</th>\n",
              "      <th>Ages</th>\n",
              "    </tr>\n",
              "  </thead>\n",
              "  <tbody>\n",
              "    <tr>\n",
              "      <th>0</th>\n",
              "      <td>Amy</td>\n",
              "      <td>22</td>\n",
              "    </tr>\n",
              "    <tr>\n",
              "      <th>2</th>\n",
              "      <td>Kelly</td>\n",
              "      <td>26</td>\n",
              "    </tr>\n",
              "  </tbody>\n",
              "</table>\n",
              "</div>"
            ],
            "text/plain": [
              "   Names  Ages\n",
              "0    Amy    22\n",
              "2  Kelly    26"
            ]
          },
          "metadata": {},
          "execution_count": 79
        }
      ]
    }
  ]
}