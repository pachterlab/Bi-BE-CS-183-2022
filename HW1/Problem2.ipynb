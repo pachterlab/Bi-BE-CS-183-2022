{
  "nbformat": 4,
  "nbformat_minor": 0,
  "metadata": {
    "colab": {
      "name": "Problem2.ipynb",
      "provenance": [],
      "collapsed_sections": [],
      "include_colab_link": true
    },
    "kernelspec": {
      "name": "python3",
      "display_name": "Python 3"
    },
    "language_info": {
      "name": "python"
    }
  },
  "cells": [
    {
      "cell_type": "markdown",
      "metadata": {
        "id": "view-in-github",
        "colab_type": "text"
      },
      "source": [
        "<a href=\"https://colab.research.google.com/github/pachterlab/Bi-BE-CS-183-2022/blob/main/HW1/Problem2.ipynb\" target=\"_parent\"><img src=\"https://colab.research.google.com/assets/colab-badge.svg\" alt=\"Open In Colab\"/></a>"
      ]
    },
    {
      "cell_type": "code",
      "source": [
        "# This is  used to time the running of the notebook\n",
        "import time\n",
        "start_time = time.time()"
      ],
      "metadata": {
        "id": "aRNLZMXg2vzS"
      },
      "execution_count": null,
      "outputs": []
    },
    {
      "cell_type": "code",
      "metadata": {
        "id": "qy_Is21USn3O"
      },
      "source": [
        "#import packages\n",
        "import numpy as np"
      ],
      "execution_count": null,
      "outputs": []
    },
    {
      "cell_type": "code",
      "metadata": {
        "id": "mrIBjeB1SzTs"
      },
      "source": [
        "#gene expression matrix\n",
        "G = np.array([[1,2,3,3],[3,1,9,4],[1,4,3,5]])"
      ],
      "execution_count": null,
      "outputs": []
    },
    {
      "cell_type": "code",
      "metadata": {
        "id": "WnUa5E-DS81y",
        "colab": {
          "base_uri": "https://localhost:8080/"
        },
        "outputId": "e43f8dfc-193d-44ba-f771-50f8270424e5"
      },
      "source": [
        "# Running time of the notebook\n",
        "print(\"{:.2f} minutes\".format((time.time()-start_time)/60))"
      ],
      "execution_count": null,
      "outputs": [
        {
          "output_type": "stream",
          "name": "stdout",
          "text": [
            "0.00 minutes\n"
          ]
        }
      ]
    }
  ]
}