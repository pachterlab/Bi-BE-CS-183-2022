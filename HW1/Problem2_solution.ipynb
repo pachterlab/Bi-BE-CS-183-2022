{
  "nbformat": 4,
  "nbformat_minor": 0,
  "metadata": {
    "colab": {
      "name": "Problem2_solution.ipynb",
      "provenance": [],
      "collapsed_sections": [],
      "include_colab_link": true
    },
    "kernelspec": {
      "name": "python3",
      "display_name": "Python 3"
    },
    "language_info": {
      "name": "python"
    }
  },
  "cells": [
    {
      "cell_type": "markdown",
      "metadata": {
        "id": "view-in-github",
        "colab_type": "text"
      },
      "source": [
        "<a href=\"https://colab.research.google.com/github/pachterlab/Bi-BE-CS-183-2022/blob/main/HW1/Problem2_solution.ipynb\" target=\"_parent\"><img src=\"https://colab.research.google.com/assets/colab-badge.svg\" alt=\"Open In Colab\"/></a>"
      ]
    },
    {
      "cell_type": "markdown",
      "source": [
        "Bi/Be/Cs 183 2021-2022: Intro to Computational Biology\n",
        "TAs: Meichen Fang, Tara Chari, Zitong (Jerry) Wang\n",
        "\n",
        "**Submit your notebooks by sharing a clickable link with Viewer access. Link must be accessible from submitted assignment document.**\n",
        "\n",
        "Make sure Runtime $\\rightarrow$ Restart and run all works without error"
      ],
      "metadata": {
        "id": "J-LuN1ps0XcH"
      }
    },
    {
      "cell_type": "code",
      "source": [
        "# This is  used to time the running of the notebook\n",
        "import time\n",
        "start_time = time.time()"
      ],
      "metadata": {
        "id": "D3z9ArJw2x4N"
      },
      "execution_count": 1,
      "outputs": []
    },
    {
      "cell_type": "markdown",
      "source": [
        "# **Problem 2**\n"
      ],
      "metadata": {
        "id": "ds9WBExw7YGl"
      }
    },
    {
      "cell_type": "code",
      "metadata": {
        "id": "qy_Is21USn3O"
      },
      "source": [
        "#import packages\n",
        "import numpy as np"
      ],
      "execution_count": 2,
      "outputs": []
    },
    {
      "cell_type": "code",
      "metadata": {
        "id": "mrIBjeB1SzTs"
      },
      "source": [
        "#gene expression matrix\n",
        "G = np.array([[1,2,3,3],[3,1,9,4],[1,4,3,5]])"
      ],
      "execution_count": 3,
      "outputs": []
    },
    {
      "cell_type": "markdown",
      "source": [
        "## (c)"
      ],
      "metadata": {
        "id": "_HLwc_5JUajF"
      }
    },
    {
      "cell_type": "code",
      "metadata": {
        "id": "WnUa5E-DS81y",
        "colab": {
          "base_uri": "https://localhost:8080/"
        },
        "outputId": "bd023857-eb58-4976-a574-c66f747b9a9c"
      },
      "source": [
        "r = np.linalg.matrix_rank(G)\n",
        "print(\"The rank of G is \", r)"
      ],
      "execution_count": 4,
      "outputs": [
        {
          "output_type": "stream",
          "name": "stdout",
          "text": [
            "The rank of G is  2\n"
          ]
        }
      ]
    },
    {
      "cell_type": "markdown",
      "source": [
        "## (e)"
      ],
      "metadata": {
        "id": "DmR5qqXd9AdW"
      }
    },
    {
      "cell_type": "markdown",
      "source": [
        "### (i)"
      ],
      "metadata": {
        "id": "Dby0UJ9EFqHd"
      }
    },
    {
      "cell_type": "markdown",
      "source": [
        "$L_1$ distance"
      ],
      "metadata": {
        "id": "tTekuOcBW_OE"
      }
    },
    {
      "cell_type": "code",
      "source": [
        "D=np.zeros((3,3))\n",
        "for i,c in enumerate(G):\n",
        "  for j in range(i+1,len(G)):\n",
        "    D[i,j]=np.sum(np.abs(G[i]-G[j]))\n",
        "    D[j,i]=D[i,j]\n",
        "D"
      ],
      "metadata": {
        "colab": {
          "base_uri": "https://localhost:8080/"
        },
        "id": "YpBICCv6WzUa",
        "outputId": "083ebe27-d2b4-492c-8a95-09002e15a758"
      },
      "execution_count": 5,
      "outputs": [
        {
          "output_type": "execute_result",
          "data": {
            "text/plain": [
              "array([[ 0., 10.,  4.],\n",
              "       [10.,  0., 12.],\n",
              "       [ 4., 12.,  0.]])"
            ]
          },
          "metadata": {},
          "execution_count": 5
        }
      ]
    },
    {
      "cell_type": "markdown",
      "source": [
        "$L_2$ distance"
      ],
      "metadata": {
        "id": "ms53pPTQXnb1"
      }
    },
    {
      "cell_type": "code",
      "source": [
        "D=np.zeros((3,3))\n",
        "for i,c in enumerate(G):\n",
        "  for j in range(i+1,len(G)):\n",
        "    D[i,j]=np.sqrt(np.sum((G[i]-G[j])**2))\n",
        "    D[j,i]=D[i,j]\n",
        "D"
      ],
      "metadata": {
        "colab": {
          "base_uri": "https://localhost:8080/"
        },
        "id": "8JeYDOu3Xi8S",
        "outputId": "87cbd89b-24a7-4d0b-a858-0d47fbdb4866"
      },
      "execution_count": 6,
      "outputs": [
        {
          "output_type": "execute_result",
          "data": {
            "text/plain": [
              "array([[0.        , 6.4807407 , 2.82842712],\n",
              "       [6.4807407 , 0.        , 7.07106781],\n",
              "       [2.82842712, 7.07106781, 0.        ]])"
            ]
          },
          "metadata": {},
          "execution_count": 6
        }
      ]
    },
    {
      "cell_type": "markdown",
      "source": [
        "cosine similarity"
      ],
      "metadata": {
        "id": "Wr7dI5_AX0NB"
      }
    },
    {
      "cell_type": "code",
      "source": [
        "g=G/np.sqrt(np.sum(G**2,axis=1)).reshape(3,-1)\n",
        "D=g@np.transpose(g)\n",
        "D"
      ],
      "metadata": {
        "colab": {
          "base_uri": "https://localhost:8080/"
        },
        "id": "Z913asoWXsle",
        "outputId": "da2e07b6-24c1-433a-891d-bb69ae0c6953"
      },
      "execution_count": 7,
      "outputs": [
        {
          "output_type": "execute_result",
          "data": {
            "text/plain": [
              "array([[1.        , 0.88694537, 0.96352932],\n",
              "       [0.88694537, 1.        , 0.730999  ],\n",
              "       [0.96352932, 0.730999  , 1.        ]])"
            ]
          },
          "metadata": {},
          "execution_count": 7
        }
      ]
    },
    {
      "cell_type": "markdown",
      "source": [
        "### (iii)"
      ],
      "metadata": {
        "id": "dO71JyAucjR_"
      }
    },
    {
      "cell_type": "code",
      "source": [
        "#gene expression matrix\n",
        "G = np.array([[1,2,3,3],[3,1,9,4],[1,4,3,5]])+1"
      ],
      "metadata": {
        "id": "1VfTU39lYe-s"
      },
      "execution_count": 8,
      "outputs": []
    },
    {
      "cell_type": "code",
      "source": [
        "g=G/np.sqrt(np.sum(G**2,axis=1)).reshape(3,-1)\n",
        "D=g@np.transpose(g)\n",
        "D"
      ],
      "metadata": {
        "colab": {
          "base_uri": "https://localhost:8080/"
        },
        "id": "rQ_g9tZScqpI",
        "outputId": "fa558458-13e2-43cc-e693-abe05e57c8bb"
      },
      "execution_count": 9,
      "outputs": [
        {
          "output_type": "execute_result",
          "data": {
            "text/plain": [
              "array([[1.        , 0.916097  , 0.97724452],\n",
              "       [0.916097  , 1.        , 0.81200025],\n",
              "       [0.97724452, 0.81200025, 1.        ]])"
            ]
          },
          "metadata": {},
          "execution_count": 9
        }
      ]
    },
    {
      "cell_type": "code",
      "source": [
        "# Running time of the notebook\n",
        "print(\"{:.2f} minutes\".format((time.time()-start_time)/60))"
      ],
      "metadata": {
        "colab": {
          "base_uri": "https://localhost:8080/"
        },
        "id": "Snk3_YyG20xu",
        "outputId": "7f89af53-ec44-4c3d-8087-f06b4913f014"
      },
      "execution_count": 10,
      "outputs": [
        {
          "output_type": "stream",
          "name": "stdout",
          "text": [
            "0.00 minutes\n"
          ]
        }
      ]
    }
  ]
}