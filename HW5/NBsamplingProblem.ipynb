{
  "nbformat": 4,
  "nbformat_minor": 0,
  "metadata": {
    "colab": {
      "name": "NBsamplingProblem.ipynb",
      "provenance": [],
      "authorship_tag": "ABX9TyOluqNv8m9/oRIAujbX/2kR",
      "include_colab_link": true
    },
    "kernelspec": {
      "name": "python3",
      "display_name": "Python 3"
    },
    "language_info": {
      "name": "python"
    }
  },
  "cells": [
    {
      "cell_type": "markdown",
      "metadata": {
        "id": "view-in-github",
        "colab_type": "text"
      },
      "source": [
        "<a href=\"https://colab.research.google.com/github/pachterlab/Bi-BE-CS-183-2022/blob/main/HW5/NBsamplingProblem.ipynb\" target=\"_parent\"><img src=\"https://colab.research.google.com/assets/colab-badge.svg\" alt=\"Open In Colab\"/></a>"
      ]
    },
    {
      "cell_type": "markdown",
      "source": [
        "Problem 3c)\n",
        "\n",
        "The sum of $n$ i.i.d. geometric random variables with parameter $p$ has a negative binomial distribution with parameters $r=n$ and $p$.\n",
        "\n",
        "Draw 10,000 samples from a negative binomial distribution with $r=10$, $p=0.5$ and plot your sampled values in the form of a histogram. \n",
        "\n",
        "You may **not** use functions that directly generate samples from a negative binomial distribution such as `numpy.random.negative_binomial`. (Hint: a useful function is  `numpy.random.geometric`)"
      ],
      "metadata": {
        "id": "f7gjgkundKkZ"
      }
    },
    {
      "cell_type": "code",
      "source": [
        "import numpy as np\n",
        "import matplotlib.pyplot as plt"
      ],
      "metadata": {
        "id": "HeFoMEu3dbrl"
      },
      "execution_count": null,
      "outputs": []
    },
    {
      "cell_type": "code",
      "source": [
        ""
      ],
      "metadata": {
        "id": "dWJJHF6ld6m-"
      },
      "execution_count": null,
      "outputs": []
    }
  ]
}