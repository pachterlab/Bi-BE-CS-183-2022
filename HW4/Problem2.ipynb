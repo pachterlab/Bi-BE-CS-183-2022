{
  "nbformat": 4,
  "nbformat_minor": 0,
  "metadata": {
    "colab": {
      "name": "Problem2.ipynb",
      "provenance": [],
      "collapsed_sections": [],
      "include_colab_link": true
    },
    "kernelspec": {
      "name": "python3",
      "display_name": "Python 3"
    },
    "language_info": {
      "name": "python"
    }
  },
  "cells": [
    {
      "cell_type": "markdown",
      "metadata": {
        "id": "view-in-github",
        "colab_type": "text"
      },
      "source": [
        "<a href=\"https://colab.research.google.com/github/pachterlab/Bi-BE-CS-183-2022/blob/main/HW4/Problem2.ipynb\" target=\"_parent\"><img src=\"https://colab.research.google.com/assets/colab-badge.svg\" alt=\"Open In Colab\"/></a>"
      ]
    },
    {
      "cell_type": "markdown",
      "metadata": {
        "id": "MozW3XxY8ezr"
      },
      "source": [
        "Bi/Be/Cs 183 2021-2022: Intro to Computational Biology\n",
        "TAs: Meichen Fang, Tara Chari, Zitong (Jerry) Wang\n",
        "\n",
        "**Submit your notebooks by sharing a clickable link with Viewer access. Link must be accessible from submitted assignment document.**\n",
        "\n",
        "Make sure Runtime $\\rightarrow$ Restart and run all works without error"
      ]
    },
    {
      "cell_type": "markdown",
      "source": [
        "**HW 4 Problem 2**\n",
        "\n",
        "In this problem you will develop code for running the EM algorithm on a small toy example of transcripts, by iteratively estimating the read counts per transcript and approximating the relative transcript abundances from those counts.\n"
      ],
      "metadata": {
        "id": "Mu4obGyqS8fh"
      }
    },
    {
      "cell_type": "markdown",
      "source": [
        "##**Import data and install packages**"
      ],
      "metadata": {
        "id": "fJ8J92ntz2rk"
      }
    },
    {
      "cell_type": "code",
      "execution_count": null,
      "metadata": {
        "id": "rjy8W5hly24q"
      },
      "outputs": [],
      "source": [
        "import numpy as np\n",
        "import scipy.io as sio\n",
        "import pandas as pd\n",
        "import matplotlib.pyplot as plt #Can use other plotting packages like seaborn"
      ]
    },
    {
      "cell_type": "markdown",
      "source": [
        "## **Problem 2 (30 points)**\n",
        "This contains parts b-d of for Problem 2. "
      ],
      "metadata": {
        "id": "jF7jC36yz_uL"
      }
    },
    {
      "cell_type": "markdown",
      "source": [
        "Below you can see an example of the first few steps of the EM procedure with this toy example. This begins with an initial, uniform guess for the Transcript abundances $\\alpha$, which is then iteratively updated by running the expecation (E) and maximization (M) steps. We are assuming transcripts of the same length here."
      ],
      "metadata": {
        "id": "q8H8aKLsgaxv"
      }
    },
    {
      "cell_type": "markdown",
      "source": [
        "<img src=\"https://drive.google.com/uc?export=view&id=1C6U4n4hNS7WCPzB8yNdSGb2rovuaf0M4\" alt=\"EMFigure\" width=\"500\" height=\"500\">"
      ],
      "metadata": {
        "id": "9s3f2TXp10sA"
      }
    },
    {
      "cell_type": "markdown",
      "source": [
        "From the compatibility matrix $\\mathbf{Y}$ we can see the alignment of the $N$ Reads to the $K$ Transcripts. For example, Read $c$ does not align to any sequence in Transcript $green$ (the value at Y[1,2] = 0).\n",
        "\n"
      ],
      "metadata": {
        "id": "1OYzoakF1E2a"
      }
    },
    {
      "cell_type": "code",
      "source": [
        "#Compatibility Matrix for the diagram\n",
        "\n",
        "Y = np.array([[1,0,1,1,1],[1,1,0,0,1],[1, 1, 1 ,0 ,0]])\n",
        "\n",
        "YLabeled = pd.DataFrame(Y, index=['red','green','blue'], columns=['a','b','c','d','e'])\n",
        "\n",
        "print(Y)\n",
        "print(YLabeled)"
      ],
      "metadata": {
        "colab": {
          "base_uri": "https://localhost:8080/"
        },
        "id": "yKjBOBya1bG5",
        "outputId": "f4794b63-a613-4020-823e-459d9081e54e"
      },
      "execution_count": null,
      "outputs": [
        {
          "output_type": "stream",
          "name": "stdout",
          "text": [
            "[[1 0 1 1 1]\n",
            " [1 1 0 0 1]\n",
            " [1 1 1 0 0]]\n",
            "       a  b  c  d  e\n",
            "red    1  0  1  1  1\n",
            "green  1  1  0  0  1\n",
            "blue   1  1  1  0  0\n"
          ]
        }
      ]
    },
    {
      "cell_type": "markdown",
      "source": [
        "Let $\\alpha$ represent transcript abundance estimates ($\\alpha_{red}, \\alpha_{blue}, \\alpha_{green} $), start at all $\\alpha = 0.33$ (all transcripts equally represented/counted). \n",
        "\n",
        "The Q function for optimization is $\\sum_{n=1}^N \\sum_{k=1}^K \\frac{ y_{k,n} \\alpha^{(t)}_{k} }{ \\sum_{l=1}^K  y_{ln} \\alpha^{(t)}_{l}} \\log ( y_{k,n} \\alpha_{k})$."
      ],
      "metadata": {
        "id": "EtLoPTKlhVDv"
      }
    },
    {
      "cell_type": "markdown",
      "source": [
        "### **b) Implement the expectation (E) step as a function (5 points)**\n",
        "\n",
        "In the E step we will calculate the posterior \\begin{align}\n",
        "p(Z_n=k|Y_n;\\alpha^{(t)}) = \\frac{  y_{k,n} \\alpha^{(t)}_{k}}{ \\sum_{l=1}^K y_{l,n} \\alpha^{(t)}_{l}}\\end{align}\n",
        "for each pair of the $n$ reads and $k$ transcripts given a set of transcript abundances $\\alpha$.\n",
        "\n",
        "\n"
      ],
      "metadata": {
        "id": "-MipaFP21gp9"
      }
    },
    {
      "cell_type": "markdown",
      "source": [
        "**Fill in the e_step() function below to accept a given vector of transcript abundances ($\\alpha^{(t)}$) and the compatibility matrix, and return the values of the posterior.**"
      ],
      "metadata": {
        "id": "rpr69ao2eKj1"
      }
    },
    {
      "cell_type": "code",
      "source": [
        "#Implement expectation step as function given transcript abundance estimates alpha and the compatibility matrix Y\n",
        "def e_step():\n",
        "\n",
        "  return\n"
      ],
      "metadata": {
        "id": "ERJTnw-y1bKJ"
      },
      "execution_count": null,
      "outputs": []
    },
    {
      "cell_type": "code",
      "source": [
        ""
      ],
      "metadata": {
        "id": "v0MbSMjq5Sr0"
      },
      "execution_count": null,
      "outputs": []
    },
    {
      "cell_type": "code",
      "source": [
        ""
      ],
      "metadata": {
        "id": "pry_zs4N5SuM"
      },
      "execution_count": null,
      "outputs": []
    },
    {
      "cell_type": "markdown",
      "source": [
        "### **c) Implement the maximization (M) step as a function (5 points)**\n",
        "\n",
        "During the maximization step we re-calculate the values for $\\alpha$, given the posterior values and the previously determined $\\alpha^{(t)}$ values. The formula for the new $\\alpha$ values which maximize the $Q$ function is\n",
        "\\begin{align}\n",
        " \\alpha_k^{(t+1)}= \\frac{1}{N}\\sum_{n=1}^N  \\frac{ y_{k,n} \\alpha^{(t)}_{k}}{\\sum_{l=1}^K  y_{l,n} \\alpha^{(t)}_{l}} \\quad.\n",
        "\\end{align}"
      ],
      "metadata": {
        "id": "BKCczmsn1hUL"
      }
    },
    {
      "cell_type": "markdown",
      "source": [
        "**Fill in the m_step() function below to accept the posterior values and to return a vector of updated abundance estimates $\\alpha$ for each transcript.**"
      ],
      "metadata": {
        "id": "e8NYDC9Ke2dT"
      }
    },
    {
      "cell_type": "code",
      "source": [
        "#Implement maximization step as function taking in Read counts for each transcript\n",
        "def m_step():\n",
        "\n",
        "  return"
      ],
      "metadata": {
        "id": "s0zYUMtj1dWJ"
      },
      "execution_count": null,
      "outputs": []
    },
    {
      "cell_type": "code",
      "source": [
        ""
      ],
      "metadata": {
        "id": "Wa3_6knQ5TQx"
      },
      "execution_count": null,
      "outputs": []
    },
    {
      "cell_type": "code",
      "source": [
        ""
      ],
      "metadata": {
        "id": "xpI0b71K5TTq"
      },
      "execution_count": null,
      "outputs": []
    },
    {
      "cell_type": "markdown",
      "source": [
        "### **d) Run the EM algorithm to produce estimated abundaces for $\\alpha_{red}, \\alpha_{blue}, \\alpha_{green}$ and plot the log likelihood at each iteration. (15 points)**\n",
        "\n",
        "Begin with $\\alpha_{red} = \\alpha_{blue} = \\alpha_{green} = 0.33$, successively call the E then M functions until the $\\alpha$ values from the current M step are within .0001 of the previous M step estimates."
      ],
      "metadata": {
        "id": "xQTS_yXn1iZR"
      }
    },
    {
      "cell_type": "markdown",
      "source": [
        "**Implement the EM algorithm as described and (1) report the final $\\alpha$ abundance values and (2) plot the log likelihood (not the Q-function) at each iteration.**"
      ],
      "metadata": {
        "id": "QDTc8aHbfeEh"
      }
    },
    {
      "cell_type": "code",
      "source": [
        "#Call both until < .0001 difference in estimated abundances"
      ],
      "metadata": {
        "id": "38DVCE_x1gWl"
      },
      "execution_count": null,
      "outputs": []
    },
    {
      "cell_type": "code",
      "source": [
        ""
      ],
      "metadata": {
        "id": "IWHN8XlP5T4x"
      },
      "execution_count": null,
      "outputs": []
    },
    {
      "cell_type": "code",
      "source": [
        ""
      ],
      "metadata": {
        "id": "Ocq95ALr5T-R"
      },
      "execution_count": null,
      "outputs": []
    },
    {
      "cell_type": "markdown",
      "source": [
        "### **e) Comment on the behavior of the likelihood plot i.e. monotonicity, plateaus, etc, and if it is expected behavior. (5 points)**"
      ],
      "metadata": {
        "id": "BLZ7QTyQ7kn9"
      }
    },
    {
      "cell_type": "markdown",
      "source": [
        ""
      ],
      "metadata": {
        "id": "qaTg7ZdH7xez"
      }
    },
    {
      "cell_type": "markdown",
      "source": [
        ""
      ],
      "metadata": {
        "id": "CFp_k0AJ7y_-"
      }
    }
  ]
}