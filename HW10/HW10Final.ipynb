{
  "cells": [
    {
      "cell_type": "markdown",
      "metadata": {
        "id": "view-in-github",
        "colab_type": "text"
      },
      "source": [
        "<a href=\"https://colab.research.google.com/github/pachterlab/Bi-BE-CS-183-2022/blob/main/HW10/HW10Final.ipynb\" target=\"_parent\"><img src=\"https://colab.research.google.com/assets/colab-badge.svg\" alt=\"Open In Colab\"/></a>"
      ]
    },
    {
      "cell_type": "markdown",
      "metadata": {
        "id": "MozW3XxY8ezr"
      },
      "source": [
        "Bi/Be/Cs 183 2021-2022: Intro to Computational Biology\n",
        "TAs: Meichen Fang, Tara Chari, Zitong (Jerry) Wang\n",
        "\n",
        "**Submit your notebooks by sharing a clickable link with Viewer access. Link must be accessible from submitted assignment document.**\n",
        "\n",
        "Make sure Runtime $\\rightarrow$ Restart and run all works without error"
      ]
    },
    {
      "cell_type": "markdown",
      "metadata": {
        "id": "Mu4obGyqS8fh"
      },
      "source": [
        "**HW 10 Final Problem**\n",
        "\n",
        "In this problem you will process a single-cell dataset from the raw fastqs (sequencing reads of the cDNA library) to produce the cell x gene count matrix we usually work with. Given this count matrix you will additionally investigate the impact of various normalization techniques and dimensionality reduction on clustering of the cells (i.e. looking for cell types). With the metadata for this dataset, the cell types and ages of the mice used, you will then compare the efficacy of logistic regression vs neural network based techniques for classifying the age of the mouse a cell came from.\n"
      ]
    },
    {
      "cell_type": "markdown",
      "metadata": {
        "id": "fJ8J92ntz2rk"
      },
      "source": [
        "##**Install packages**"
      ]
    },
    {
      "cell_type": "markdown",
      "metadata": {
        "id": "X5QduXCj1tLC"
      },
      "source": [
        "Install kb-python\n",
        "\n",
        "This package is used to do transcript quantification (as shown in HW 4 Problem 2), aligning sequencing reads to a provided transcriptome to estimate transcript abundances. This produces the gene count matrices we have been working with. kb takes in the raw FASTQ files (the cDNA sequences from the generated cDNA library), aligns the transcript sequences to a reference file for the organism (the kallisto index below), and generates a count matrix of the transcripts (or genes) per cell."
      ]
    },
    {
      "cell_type": "code",
      "execution_count": null,
      "metadata": {
        "colab": {
          "base_uri": "https://localhost:8080/"
        },
        "id": "uwDBoJ3Q1ss8",
        "outputId": "cca855d3-fba9-4211-88af-ceaa73bc8968"
      },
      "outputs": [
        {
          "output_type": "stream",
          "name": "stdout",
          "text": [
            "Collecting kb-python\n",
            "  Downloading kb_python-0.27.1.tar.gz (7.5 MB)\n",
            "\u001b[K     |████████████████████████████████| 7.5 MB 4.0 MB/s \n",
            "\u001b[?25hCollecting anndata>=0.6.22.post1\n",
            "  Downloading anndata-0.7.8-py3-none-any.whl (91 kB)\n",
            "\u001b[K     |████████████████████████████████| 91 kB 7.8 MB/s \n",
            "\u001b[?25hRequirement already satisfied: h5py>=2.10.0 in /usr/local/lib/python3.7/dist-packages (from kb-python) (3.1.0)\n",
            "Requirement already satisfied: Jinja2>2.10.1 in /usr/local/lib/python3.7/dist-packages (from kb-python) (2.11.3)\n",
            "Collecting loompy>=3.0.6\n",
            "  Downloading loompy-3.0.7.tar.gz (4.8 MB)\n",
            "\u001b[K     |████████████████████████████████| 4.8 MB 34.2 MB/s \n",
            "\u001b[?25hRequirement already satisfied: nbconvert>=5.6.0 in /usr/local/lib/python3.7/dist-packages (from kb-python) (5.6.1)\n",
            "Requirement already satisfied: nbformat>=4.4.0 in /usr/local/lib/python3.7/dist-packages (from kb-python) (5.1.3)\n",
            "Collecting ngs-tools>=1.5.13\n",
            "  Downloading ngs-tools-1.5.13.tar.gz (51.7 MB)\n",
            "\u001b[K     |████████████████████████████████| 51.7 MB 1.6 MB/s \n",
            "\u001b[?25hRequirement already satisfied: numpy>=1.17.2 in /usr/local/lib/python3.7/dist-packages (from kb-python) (1.21.5)\n",
            "Requirement already satisfied: pandas>=1.0.0 in /usr/local/lib/python3.7/dist-packages (from kb-python) (1.3.5)\n",
            "Requirement already satisfied: plotly>=4.5.0 in /usr/local/lib/python3.7/dist-packages (from kb-python) (5.5.0)\n",
            "Requirement already satisfied: requests>=2.22.0 in /usr/local/lib/python3.7/dist-packages (from kb-python) (2.23.0)\n",
            "Collecting scanpy>=1.4.4.post1\n",
            "  Downloading scanpy-1.8.2-py3-none-any.whl (2.0 MB)\n",
            "\u001b[K     |████████████████████████████████| 2.0 MB 38.2 MB/s \n",
            "\u001b[?25hRequirement already satisfied: scikit-learn>=0.21.3 in /usr/local/lib/python3.7/dist-packages (from kb-python) (1.0.2)\n",
            "Requirement already satisfied: typing-extensions>=3.7.4 in /usr/local/lib/python3.7/dist-packages (from kb-python) (3.10.0.2)\n",
            "Requirement already satisfied: packaging>=20 in /usr/local/lib/python3.7/dist-packages (from anndata>=0.6.22.post1->kb-python) (21.3)\n",
            "Requirement already satisfied: xlrd<2.0 in /usr/local/lib/python3.7/dist-packages (from anndata>=0.6.22.post1->kb-python) (1.1.0)\n",
            "Requirement already satisfied: natsort in /usr/local/lib/python3.7/dist-packages (from anndata>=0.6.22.post1->kb-python) (5.5.0)\n",
            "Requirement already satisfied: scipy>1.4 in /usr/local/lib/python3.7/dist-packages (from anndata>=0.6.22.post1->kb-python) (1.4.1)\n",
            "Requirement already satisfied: importlib_metadata>=0.7 in /usr/local/lib/python3.7/dist-packages (from anndata>=0.6.22.post1->kb-python) (4.11.2)\n",
            "Requirement already satisfied: cached-property in /usr/local/lib/python3.7/dist-packages (from h5py>=2.10.0->kb-python) (1.5.2)\n",
            "Requirement already satisfied: zipp>=0.5 in /usr/local/lib/python3.7/dist-packages (from importlib_metadata>=0.7->anndata>=0.6.22.post1->kb-python) (3.7.0)\n",
            "Requirement already satisfied: MarkupSafe>=0.23 in /usr/local/lib/python3.7/dist-packages (from Jinja2>2.10.1->kb-python) (2.0.1)\n",
            "Requirement already satisfied: setuptools in /usr/local/lib/python3.7/dist-packages (from loompy>=3.0.6->kb-python) (57.4.0)\n",
            "Requirement already satisfied: numba in /usr/local/lib/python3.7/dist-packages (from loompy>=3.0.6->kb-python) (0.51.2)\n",
            "Requirement already satisfied: click in /usr/local/lib/python3.7/dist-packages (from loompy>=3.0.6->kb-python) (7.1.2)\n",
            "Collecting numpy-groupies\n",
            "  Downloading numpy_groupies-0.9.14.tar.gz (48 kB)\n",
            "\u001b[K     |████████████████████████████████| 48 kB 4.4 MB/s \n",
            "\u001b[?25hRequirement already satisfied: bleach in /usr/local/lib/python3.7/dist-packages (from nbconvert>=5.6.0->kb-python) (4.1.0)\n",
            "Requirement already satisfied: traitlets>=4.2 in /usr/local/lib/python3.7/dist-packages (from nbconvert>=5.6.0->kb-python) (5.1.1)\n",
            "Requirement already satisfied: jupyter-core in /usr/local/lib/python3.7/dist-packages (from nbconvert>=5.6.0->kb-python) (4.9.2)\n",
            "Requirement already satisfied: defusedxml in /usr/local/lib/python3.7/dist-packages (from nbconvert>=5.6.0->kb-python) (0.7.1)\n",
            "Requirement already satisfied: mistune<2,>=0.8.1 in /usr/local/lib/python3.7/dist-packages (from nbconvert>=5.6.0->kb-python) (0.8.4)\n",
            "Requirement already satisfied: pygments in /usr/local/lib/python3.7/dist-packages (from nbconvert>=5.6.0->kb-python) (2.6.1)\n",
            "Requirement already satisfied: testpath in /usr/local/lib/python3.7/dist-packages (from nbconvert>=5.6.0->kb-python) (0.6.0)\n",
            "Requirement already satisfied: pandocfilters>=1.4.1 in /usr/local/lib/python3.7/dist-packages (from nbconvert>=5.6.0->kb-python) (1.5.0)\n",
            "Requirement already satisfied: entrypoints>=0.2.2 in /usr/local/lib/python3.7/dist-packages (from nbconvert>=5.6.0->kb-python) (0.4)\n",
            "Requirement already satisfied: jsonschema!=2.5.0,>=2.4 in /usr/local/lib/python3.7/dist-packages (from nbformat>=4.4.0->kb-python) (4.3.3)\n",
            "Requirement already satisfied: ipython-genutils in /usr/local/lib/python3.7/dist-packages (from nbformat>=4.4.0->kb-python) (0.2.0)\n",
            "Requirement already satisfied: importlib-resources>=1.4.0 in /usr/local/lib/python3.7/dist-packages (from jsonschema!=2.5.0,>=2.4->nbformat>=4.4.0->kb-python) (5.4.0)\n",
            "Requirement already satisfied: pyrsistent!=0.17.0,!=0.17.1,!=0.17.2,>=0.14.0 in /usr/local/lib/python3.7/dist-packages (from jsonschema!=2.5.0,>=2.4->nbformat>=4.4.0->kb-python) (0.18.1)\n",
            "Requirement already satisfied: attrs>=17.4.0 in /usr/local/lib/python3.7/dist-packages (from jsonschema!=2.5.0,>=2.4->nbformat>=4.4.0->kb-python) (21.4.0)\n",
            "Requirement already satisfied: joblib>=1.0.1 in /usr/local/lib/python3.7/dist-packages (from ngs-tools>=1.5.13->kb-python) (1.1.0)\n",
            "Collecting numba\n",
            "  Downloading numba-0.55.1-1-cp37-cp37m-manylinux2014_x86_64.manylinux_2_17_x86_64.whl (3.3 MB)\n",
            "\u001b[K     |████████████████████████████████| 3.3 MB 20.6 MB/s \n",
            "\u001b[?25hCollecting pysam>=0.16.0.1\n",
            "  Downloading pysam-0.18.0-cp37-cp37m-manylinux_2_12_x86_64.manylinux2010_x86_64.whl (14.9 MB)\n",
            "\u001b[K     |████████████████████████████████| 14.9 MB 45.5 MB/s \n",
            "\u001b[?25hCollecting shortuuid>=1.0.1\n",
            "  Downloading shortuuid-1.0.8-py3-none-any.whl (9.5 kB)\n",
            "Requirement already satisfied: tqdm>=4.50.0 in /usr/local/lib/python3.7/dist-packages (from ngs-tools>=1.5.13->kb-python) (4.63.0)\n",
            "Collecting llvmlite<0.39,>=0.38.0rc1\n",
            "  Downloading llvmlite-0.38.0-cp37-cp37m-manylinux_2_17_x86_64.manylinux2014_x86_64.whl (34.5 MB)\n",
            "\u001b[K     |████████████████████████████████| 34.5 MB 16 kB/s \n",
            "\u001b[?25hRequirement already satisfied: pyparsing!=3.0.5,>=2.0.2 in /usr/local/lib/python3.7/dist-packages (from packaging>=20->anndata>=0.6.22.post1->kb-python) (3.0.7)\n",
            "Requirement already satisfied: pytz>=2017.3 in /usr/local/lib/python3.7/dist-packages (from pandas>=1.0.0->kb-python) (2018.9)\n",
            "Requirement already satisfied: python-dateutil>=2.7.3 in /usr/local/lib/python3.7/dist-packages (from pandas>=1.0.0->kb-python) (2.8.2)\n",
            "Requirement already satisfied: six in /usr/local/lib/python3.7/dist-packages (from plotly>=4.5.0->kb-python) (1.15.0)\n",
            "Requirement already satisfied: tenacity>=6.2.0 in /usr/local/lib/python3.7/dist-packages (from plotly>=4.5.0->kb-python) (8.0.1)\n",
            "Requirement already satisfied: certifi>=2017.4.17 in /usr/local/lib/python3.7/dist-packages (from requests>=2.22.0->kb-python) (2021.10.8)\n",
            "Requirement already satisfied: idna<3,>=2.5 in /usr/local/lib/python3.7/dist-packages (from requests>=2.22.0->kb-python) (2.10)\n",
            "Requirement already satisfied: urllib3!=1.25.0,!=1.25.1,<1.26,>=1.21.1 in /usr/local/lib/python3.7/dist-packages (from requests>=2.22.0->kb-python) (1.24.3)\n",
            "Requirement already satisfied: chardet<4,>=3.0.2 in /usr/local/lib/python3.7/dist-packages (from requests>=2.22.0->kb-python) (3.0.4)\n",
            "Requirement already satisfied: tables in /usr/local/lib/python3.7/dist-packages (from scanpy>=1.4.4.post1->kb-python) (3.7.0)\n",
            "Requirement already satisfied: patsy in /usr/local/lib/python3.7/dist-packages (from scanpy>=1.4.4.post1->kb-python) (0.5.2)\n",
            "Requirement already satisfied: matplotlib>=3.1.2 in /usr/local/lib/python3.7/dist-packages (from scanpy>=1.4.4.post1->kb-python) (3.2.2)\n",
            "Requirement already satisfied: seaborn in /usr/local/lib/python3.7/dist-packages (from scanpy>=1.4.4.post1->kb-python) (0.11.2)\n",
            "Requirement already satisfied: statsmodels>=0.10.0rc2 in /usr/local/lib/python3.7/dist-packages (from scanpy>=1.4.4.post1->kb-python) (0.10.2)\n",
            "Collecting sinfo\n",
            "  Downloading sinfo-0.3.4.tar.gz (24 kB)\n",
            "Collecting umap-learn>=0.3.10\n",
            "  Downloading umap-learn-0.5.2.tar.gz (86 kB)\n",
            "\u001b[K     |████████████████████████████████| 86 kB 4.7 MB/s \n",
            "\u001b[?25hRequirement already satisfied: networkx>=2.3 in /usr/local/lib/python3.7/dist-packages (from scanpy>=1.4.4.post1->kb-python) (2.6.3)\n",
            "Requirement already satisfied: cycler>=0.10 in /usr/local/lib/python3.7/dist-packages (from matplotlib>=3.1.2->scanpy>=1.4.4.post1->kb-python) (0.11.0)\n",
            "Requirement already satisfied: kiwisolver>=1.0.1 in /usr/local/lib/python3.7/dist-packages (from matplotlib>=3.1.2->scanpy>=1.4.4.post1->kb-python) (1.3.2)\n",
            "Requirement already satisfied: threadpoolctl>=2.0.0 in /usr/local/lib/python3.7/dist-packages (from scikit-learn>=0.21.3->kb-python) (3.1.0)\n",
            "Collecting pynndescent>=0.5\n",
            "  Downloading pynndescent-0.5.6.tar.gz (1.1 MB)\n",
            "\u001b[K     |████████████████████████████████| 1.1 MB 47.9 MB/s \n",
            "\u001b[?25hRequirement already satisfied: webencodings in /usr/local/lib/python3.7/dist-packages (from bleach->nbconvert>=5.6.0->kb-python) (0.5.1)\n",
            "Collecting stdlib_list\n",
            "  Downloading stdlib_list-0.8.0-py3-none-any.whl (63 kB)\n",
            "\u001b[K     |████████████████████████████████| 63 kB 1.4 MB/s \n",
            "\u001b[?25hRequirement already satisfied: numexpr>=2.6.2 in /usr/local/lib/python3.7/dist-packages (from tables->scanpy>=1.4.4.post1->kb-python) (2.8.1)\n",
            "Building wheels for collected packages: kb-python, loompy, ngs-tools, umap-learn, pynndescent, numpy-groupies, sinfo\n",
            "  Building wheel for kb-python (setup.py) ... \u001b[?25l\u001b[?25hdone\n",
            "  Created wheel for kb-python: filename=kb_python-0.27.1-py3-none-any.whl size=7544017 sha256=b33df8fabee7ab90f9eb7c994d67bfc028cbc046fbca7955b10f84e2414696bf\n",
            "  Stored in directory: /root/.cache/pip/wheels/51/4d/c7/a6e26aabc513e5ea29bc54668114455cb3c3c814369ee31ac6\n",
            "  Building wheel for loompy (setup.py) ... \u001b[?25l\u001b[?25hdone\n",
            "  Created wheel for loompy: filename=loompy-3.0.7-py3-none-any.whl size=52040 sha256=dce69406b0fbd28d67586078990910268bc5138c883ae0e6bc2e98f47604436b\n",
            "  Stored in directory: /root/.cache/pip/wheels/48/36/9f/eb3377d4a7423b96105b6667d36c3faa49ee73b96d8cab80b3\n",
            "  Building wheel for ngs-tools (setup.py) ... \u001b[?25l\u001b[?25hdone\n",
            "  Created wheel for ngs-tools: filename=ngs_tools-1.5.13-py3-none-any.whl size=51735619 sha256=bba59c0cc3cfed033e088ec21c0c18cb43f7b1a9273cc4c0451554dd68f23f2d\n",
            "  Stored in directory: /root/.cache/pip/wheels/aa/6e/a3/8af0606be6dd7236cb008891ba6015cb487b8d7dd0170960f7\n",
            "  Building wheel for umap-learn (setup.py) ... \u001b[?25l\u001b[?25hdone\n",
            "  Created wheel for umap-learn: filename=umap_learn-0.5.2-py3-none-any.whl size=82708 sha256=4b2fd87ae5e5121b6d83c91325ec94bb958ba241230065bcd40d1703a813761e\n",
            "  Stored in directory: /root/.cache/pip/wheels/84/1b/c6/aaf68a748122632967cef4dffef68224eb16798b6793257d82\n",
            "  Building wheel for pynndescent (setup.py) ... \u001b[?25l\u001b[?25hdone\n",
            "  Created wheel for pynndescent: filename=pynndescent-0.5.6-py3-none-any.whl size=53943 sha256=5fbe089eb7fcbad91e368c40f75d04f7526b0ca75507f2aed4e62cf76430b5e2\n",
            "  Stored in directory: /root/.cache/pip/wheels/03/f1/56/f80d72741e400345b5a5b50ec3d929aca581bf45e0225d5c50\n",
            "  Building wheel for numpy-groupies (setup.py) ... \u001b[?25l\u001b[?25hdone\n",
            "  Created wheel for numpy-groupies: filename=numpy_groupies-0.9.14-py3-none-any.whl size=24113 sha256=33e015f0f691fc9a3ccc763479db56e61be8cea052ce8e794ffd660e3cfa710a\n",
            "  Stored in directory: /root/.cache/pip/wheels/e7/68/13/d9f5f7dd1a3aacf8e9c2c12c6e86cceed1c628f4ae60ff5b01\n",
            "  Building wheel for sinfo (setup.py) ... \u001b[?25l\u001b[?25hdone\n",
            "  Created wheel for sinfo: filename=sinfo-0.3.4-py3-none-any.whl size=7899 sha256=1f23f601efd2cf98b590487824f268522551645e4fc1702b35bfa0dd57eb0b7b\n",
            "  Stored in directory: /root/.cache/pip/wheels/68/ca/56/344d532fe53e855ccd6549795d370588ab8123907eecf4cf30\n",
            "Successfully built kb-python loompy ngs-tools umap-learn pynndescent numpy-groupies sinfo\n",
            "Installing collected packages: llvmlite, numba, stdlib-list, pynndescent, umap-learn, sinfo, shortuuid, pysam, numpy-groupies, anndata, scanpy, ngs-tools, loompy, kb-python\n",
            "  Attempting uninstall: llvmlite\n",
            "    Found existing installation: llvmlite 0.34.0\n",
            "    Uninstalling llvmlite-0.34.0:\n",
            "      Successfully uninstalled llvmlite-0.34.0\n",
            "  Attempting uninstall: numba\n",
            "    Found existing installation: numba 0.51.2\n",
            "    Uninstalling numba-0.51.2:\n",
            "      Successfully uninstalled numba-0.51.2\n",
            "Successfully installed anndata-0.7.8 kb-python-0.27.1 llvmlite-0.38.0 loompy-3.0.7 ngs-tools-1.5.13 numba-0.55.1 numpy-groupies-0.9.14 pynndescent-0.5.6 pysam-0.18.0 scanpy-1.8.2 shortuuid-1.0.8 sinfo-0.3.4 stdlib-list-0.8.0 umap-learn-0.5.2\n"
          ]
        }
      ],
      "source": [
        "# Install kb. This package runs kallisto and bustools. \n",
        "# These are programs used to process the single-cell RNA-seq reads to produce count matrices.\n",
        "!pip3 install kb-python "
      ]
    },
    {
      "cell_type": "code",
      "execution_count": null,
      "metadata": {
        "colab": {
          "base_uri": "https://localhost:8080/"
        },
        "id": "IgmwCBzctnDD",
        "outputId": "5c457dd7-c7c6-43eb-b154-b4541770440c"
      },
      "outputs": [
        {
          "name": "stdout",
          "output_type": "stream",
          "text": [
            "\u001b[K     |████████████████████████████████| 10.2 MB 16.0 MB/s \n",
            "\u001b[K     |████████████████████████████████| 69 kB 8.0 MB/s \n",
            "\u001b[?25h  Building wheel for umap-learn (setup.py) ... \u001b[?25l\u001b[?25hdone\n"
          ]
        }
      ],
      "source": [
        "!pip3 install --quiet anndata\n",
        "!pip install --quiet scanpy==1.7.0rc1"
      ]
    },
    {
      "cell_type": "code",
      "execution_count": null,
      "metadata": {
        "id": "rjy8W5hly24q"
      },
      "outputs": [],
      "source": [
        "import numpy as np\n",
        "import scipy.io as sio\n",
        "import pandas as pd\n",
        "import matplotlib.pyplot as plt #Can use other plotting packages like seaborn\n",
        "\n",
        "import anndata\n",
        "import scanpy as sc"
      ]
    },
    {
      "cell_type": "code",
      "execution_count": null,
      "metadata": {
        "id": "0Ep8gQNCNLHr"
      },
      "outputs": [],
      "source": [
        "import time\n",
        "t=time.time()"
      ]
    },
    {
      "cell_type": "markdown",
      "metadata": {
        "id": "PpeuucqgiDPx"
      },
      "source": [
        "## **Read in data for Part a) analysis**\n",
        "#### Running the code for data downloading and count matrix generation may take ~20mins total."
      ]
    },
    {
      "cell_type": "code",
      "execution_count": null,
      "metadata": {
        "colab": {
          "base_uri": "https://localhost:8080/"
        },
        "id": "IUWXJ6GJ2ZbY",
        "outputId": "0fa6f0f1-f8fc-462e-9f14-31244ece98d2"
      },
      "outputs": [
        {
          "name": "stdout",
          "output_type": "stream",
          "text": [
            "--2022-03-07 02:58:24--  ftp://ftp.sra.ebi.ac.uk/vol1/fastq/SRR842/002/SRR8426372/SRR8426372_1.fastq.gz\n",
            "           => ‘SRR8426372_1.fastq.gz’\n",
            "Resolving ftp.sra.ebi.ac.uk (ftp.sra.ebi.ac.uk)... 193.62.193.138\n",
            "Connecting to ftp.sra.ebi.ac.uk (ftp.sra.ebi.ac.uk)|193.62.193.138|:21... connected.\n",
            "Logging in as anonymous ... Logged in!\n",
            "==> SYST ... done.    ==> PWD ... done.\n",
            "==> TYPE I ... done.  ==> CWD (1) /vol1/fastq/SRR842/002/SRR8426372 ... done.\n",
            "==> SIZE SRR8426372_1.fastq.gz ... 2389120304\n",
            "==> PASV ... done.    ==> RETR SRR8426372_1.fastq.gz ... done.\n",
            "Length: 2389120304 (2.2G) (unauthoritative)\n",
            "\n",
            "SRR8426372_1.fastq.  17%[==>                 ] 398.37M  36.6MB/s    eta 81s    ^C\n",
            "--2022-03-07 02:58:42--  ftp://ftp.sra.ebi.ac.uk/vol1/fastq/SRR842/002/SRR8426372/SRR8426372_2.fastq.gz\n",
            "           => ‘SRR8426372_2.fastq.gz’\n",
            "Resolving ftp.sra.ebi.ac.uk (ftp.sra.ebi.ac.uk)... 193.62.193.138\n",
            "Connecting to ftp.sra.ebi.ac.uk (ftp.sra.ebi.ac.uk)|193.62.193.138|:21... connected.\n",
            "Logging in as anonymous ... Logged in!\n",
            "==> SYST ... done.    ==> PWD ... done.\n",
            "==> TYPE I ... done.  ==> CWD (1) /vol1/fastq/SRR842/002/SRR8426372 ... done.\n",
            "==> SIZE SRR8426372_2.fastq.gz ... 3208503807\n",
            "==> PASV ... done.    ==> RETR SRR8426372_2.fastq.gz ... done.\n",
            "Length: 3208503807 (3.0G) (unauthoritative)\n",
            "\n",
            "SRR8426372_2.fastq.  17%[==>                 ] 534.22M  36.1MB/s    eta 75s    ^C\n"
          ]
        }
      ],
      "source": [
        "# Download the data from the ENA for a 3-month mouse\n",
        "# This step should take 5-10mins\n",
        "!wget --continue ftp://ftp.sra.ebi.ac.uk/vol1/fastq/SRR842/002/SRR8426372/SRR8426372_1.fastq.gz\n",
        "!wget --continue ftp://ftp.sra.ebi.ac.uk/vol1/fastq/SRR842/002/SRR8426372/SRR8426372_2.fastq.gz"
      ]
    },
    {
      "cell_type": "markdown",
      "metadata": {
        "id": "48o3Q_8v2o72"
      },
      "source": [
        "Download a kallisto index \n"
      ]
    },
    {
      "cell_type": "code",
      "execution_count": null,
      "metadata": {
        "colab": {
          "base_uri": "https://localhost:8080/"
        },
        "id": "HDmVMTbs3BSV",
        "outputId": "6d4de199-230b-4b8b-bcc1-6a5e15504a00"
      },
      "outputs": [
        {
          "name": "stdout",
          "output_type": "stream",
          "text": [
            "[2022-03-06 01:34:33,446]    INFO [download] Downloading files for mouse from https://caltech.box.com/shared/static/vcaz6cujop0xuapdmz0pplp3aoqc41si.gz to tmp/vcaz6cujop0xuapdmz0pplp3aoqc41si.gz\n",
            "100% 1.89G/1.89G [01:16<00:00, 26.7MB/s]\n",
            "[2022-03-06 01:35:49,553]    INFO [download] Extracting files from tmp/vcaz6cujop0xuapdmz0pplp3aoqc41si.gz\n"
          ]
        }
      ],
      "source": [
        "!kb ref -d mouse -i index.idx -g t2g.txt -f1 transcriptome.fasta"
      ]
    },
    {
      "cell_type": "markdown",
      "metadata": {
        "id": "Yoezewx53Os4"
      },
      "source": [
        "Generate the cell x gene count matrix"
      ]
    },
    {
      "cell_type": "code",
      "execution_count": null,
      "metadata": {
        "colab": {
          "base_uri": "https://localhost:8080/"
        },
        "id": "RtJ_aet53CE8",
        "outputId": "103e6ad0-a16d-4f06-dd15-51e090e45d55"
      },
      "outputs": [
        {
          "name": "stdout",
          "output_type": "stream",
          "text": [
            "[2022-03-06 02:39:23,572]    INFO [count] Using index index.idx to generate BUS file to output from\n",
            "[2022-03-06 02:39:23,572]    INFO [count]         SRR8426372_1.fastq.gz\n",
            "[2022-03-06 02:39:23,572]    INFO [count]         SRR8426372_2.fastq.gz\n",
            "[2022-03-06 02:49:48,681]    INFO [count] Sorting BUS file output/output.bus to output/tmp/output.s.bus\n",
            "[2022-03-06 02:50:06,365]    INFO [count] Whitelist not provided\n",
            "[2022-03-06 02:50:06,365]    INFO [count] Generating whitelist output/whitelist.txt from BUS file output/tmp/output.s.bus\n",
            "[2022-03-06 02:50:07,475]    INFO [count] Inspecting BUS file output/tmp/output.s.bus\n",
            "[2022-03-06 02:50:09,090]    INFO [count] Correcting BUS records in output/tmp/output.s.bus to output/tmp/output.s.c.bus with whitelist output/whitelist.txt\n",
            "[2022-03-06 02:50:12,513]    INFO [count] Sorting BUS file output/tmp/output.s.c.bus to output/output.unfiltered.bus\n",
            "[2022-03-06 02:50:18,452]    INFO [count] Generating count matrix output/counts_unfiltered/cells_x_genes from BUS file output/output.unfiltered.bus\n",
            "[2022-03-06 02:50:23,373]    INFO [count] Reading matrix output/counts_unfiltered/cells_x_genes.mtx\n",
            "[2022-03-06 02:50:25,164]    INFO [count] Writing matrix to h5ad output/counts_unfiltered/adata.h5ad\n",
            "[2022-03-06 02:50:25,348]    INFO [count] Filtering with bustools\n",
            "[2022-03-06 02:50:25,348]    INFO [count] Generating whitelist output/filter_barcodes.txt from BUS file output/output.unfiltered.bus\n",
            "[2022-03-06 02:50:26,475]    INFO [count] Correcting BUS records in output/output.unfiltered.bus to output/tmp/output.unfiltered.c.bus with whitelist output/filter_barcodes.txt\n",
            "[2022-03-06 02:50:29,010]    INFO [count] Sorting BUS file output/tmp/output.unfiltered.c.bus to output/output.filtered.bus\n",
            "[2022-03-06 02:50:36,473]    INFO [count] Generating count matrix output/counts_filtered/cells_x_genes from BUS file output/output.filtered.bus\n",
            "[2022-03-06 02:50:40,753]    INFO [count] Reading matrix output/counts_filtered/cells_x_genes.mtx\n",
            "[2022-03-06 02:50:41,991]    INFO [count] Writing matrix to h5ad output/counts_filtered/adata.h5ad\n",
            "CPU times: user 4.05 s, sys: 543 ms, total: 4.59 s\n",
            "Wall time: 11min 30s\n"
          ]
        }
      ],
      "source": [
        "# This command processes previously downloaded data\n",
        "# This step should take ~11mins\n",
        "%%time\n",
        "!kb count --h5ad -i index.idx -g t2g.txt -x Dropseq -o output --filter bustools -t 2 \\\n",
        "SRR8426372_1.fastq.gz \\\n",
        "SRR8426372_2.fastq.gz\n"
      ]
    },
    {
      "cell_type": "markdown",
      "metadata": {
        "id": "swY2nSDukmXg"
      },
      "source": [
        "**The dataset**"
      ]
    },
    {
      "cell_type": "markdown",
      "metadata": {
        "id": "NKSN3bu8cQ3O"
      },
      "source": [
        "This is a Drop-seq based single-cell RNA-seq dataset produced from tissue extracted from the whole mouse lung, published by [Ilias Angelidis, Lukas M. Simon et al. 2019](https://www.nature.com/articles/s41467-019-08831-9). In the study single-cell suspensions were generated from eight 3-month old mice and seven 24-month old mice and looked for cell type specific effects of aging between the mice i.e. to create a single-cell atlas of the aging lung. \n",
        "\n",
        "For Part a we will only be working with one sample from a 3-month old mouse (though in Parts b-d you will work with the full dataset across both ages and all mice)."
      ]
    },
    {
      "cell_type": "markdown",
      "metadata": {
        "id": "Q1E4wbXtSsJN"
      },
      "source": [
        "<center><img src=\"https://drive.google.com/uc?export=view&id=1O_x3hmDDes7foQVVLcoZVasrVED1L0Al\" alt=\"EMFigure\" width=\"900\" height=\"150\"><center>"
      ]
    },
    {
      "cell_type": "markdown",
      "metadata": {
        "id": "58nQkH9eko4-"
      },
      "source": [
        "**The count matrix**\n",
        "\n",
        "This matrix is 3,839 cells by 55,421 genes for one lung sample from a 3-month old mouse.\n",
        "\n",
        "\n"
      ]
    },
    {
      "cell_type": "code",
      "execution_count": null,
      "metadata": {
        "id": "3_s_MyJp3dj9"
      },
      "outputs": [],
      "source": [
        "# load the raw cell x gene count matrix\n",
        "adata = anndata.read_h5ad(\"output/counts_unfiltered/adata.h5ad\") #This is the output from kb\n",
        "adata.var[\"gene_id\"] = adata.var.index.values\n",
        "\n",
        "t2g = pd.read_csv(\"t2g.txt\", header=None, names=[\"tid\", \"gene_id\", \"gene_name\"], sep=\"\\t\") #Load the transcipt-to-gene name mapping (t2g)\n",
        "t2g.index = t2g.gene_id\n",
        "t2g = t2g.loc[~t2g.index.duplicated(keep='first')]\n",
        "\n",
        "adata.var[\"gene_name\"] = adata.var.gene_id.map(t2g[\"gene_name\"])\n",
        "adata.var.index = adata.var[\"gene_name\"]"
      ]
    },
    {
      "cell_type": "code",
      "execution_count": null,
      "metadata": {
        "colab": {
          "base_uri": "https://localhost:8080/"
        },
        "id": "5tLkEyK3z0GX",
        "outputId": "2f8da414-2b8d-48d8-a426-63b5044d7e96"
      },
      "outputs": [
        {
          "data": {
            "text/plain": [
              "AnnData object with n_obs × n_vars = 3839 × 55421\n",
              "    var: 'gene_name', 'gene_id'"
            ]
          },
          "execution_count": 19,
          "metadata": {},
          "output_type": "execute_result"
        }
      ],
      "source": [
        "adata"
      ]
    },
    {
      "cell_type": "code",
      "execution_count": null,
      "metadata": {
        "colab": {
          "base_uri": "https://localhost:8080/"
        },
        "id": "tegjqi-7rsoq",
        "outputId": "4c3c63c7-37b8-4e38-f558-1705289bbfcd"
      },
      "outputs": [
        {
          "data": {
            "text/plain": [
              "(3839, 55421)"
            ]
          },
          "execution_count": 20,
          "metadata": {},
          "output_type": "execute_result"
        }
      ],
      "source": [
        "count_mat = adata.X #Get the count matrix from this anndata object\n",
        "count_mat.shape"
      ]
    },
    {
      "cell_type": "markdown",
      "metadata": {
        "id": "beHUeEQ0PYnj"
      },
      "source": [
        "**Use this count_mat for Part a.**"
      ]
    },
    {
      "cell_type": "markdown",
      "metadata": {
        "id": "ICnf8oOmNTOy"
      },
      "source": [
        "# **a) Pre-processing: Select real/valid cells i.e. cells that pass a UMI count threshold based on the commonly used 'Knee plot'. (10 points)**"
      ]
    },
    {
      "cell_type": "markdown",
      "metadata": {
        "id": "HTIoUbKGN5UD"
      },
      "source": [
        "Knee plots (described below) are commonly used to filter out cell barcodes that likely correspond to empty droplets that were captured or noisy samples that may be just random transcripts that were picked up in the droplet. We want to only keep cell barcodes that seem to have high enough UMI counts (i.e. molecules detected) which suggest that a real cell was captured in that droplet."
      ]
    },
    {
      "cell_type": "markdown",
      "metadata": {
        "id": "ufFe0UnuOZt9"
      },
      "source": [
        "**To construct a knee plot** we (1) rank cells in *descending* order of their total UMI counts (UMI counts summed across genes). The cell rankings are plotted on the x axis (1 to n cells). On the y-axis we (2) plot the total UMI count of each cell. Thus as we move across the x-axis from left to right, the right end of the plot displays cells with very few UMI counts (noisy/empty droplets to possibly remove from analysis). Often the x and y axis are plotted in a log-log plot."
      ]
    },
    {
      "cell_type": "markdown",
      "metadata": {
        "id": "iQgUATd4O2dT"
      },
      "source": [
        "The inflection point of the graph denotes a separation/drop between the lefthand side of the plot where cell barcodes have high UMI counts and the righthand side where cell barcodes have low associated UMI counts (and are thus considered to have had failure in capture and/or to be too noisy for further analysis.)"
      ]
    },
    {
      "cell_type": "markdown",
      "metadata": {
        "id": "ffP0IA4wQKYQ"
      },
      "source": [
        "**(1) Make one knee plot for the 3,839 cells (which are the cell barcodes) and their total UMI counts across the 55,421 genes (in a log-log plot). (2) Describe what UMI threshold you might use to filter out noisy cell barcodes based on the plot.**"
      ]
    },
    {
      "cell_type": "code",
      "execution_count": null,
      "metadata": {
        "id": "wjOR_hLaPqyx"
      },
      "outputs": [],
      "source": [
        ""
      ]
    },
    {
      "cell_type": "code",
      "execution_count": null,
      "metadata": {
        "id": "mKX2DOqkTnWh"
      },
      "outputs": [],
      "source": [
        ""
      ]
    },
    {
      "cell_type": "markdown",
      "metadata": {
        "id": "OQDAIuPCQze5"
      },
      "source": [
        "# **Read in data for Parts b-d analysis**"
      ]
    },
    {
      "cell_type": "markdown",
      "metadata": {
        "id": "XGPCUCKaTt0R"
      },
      "source": [
        "For Parts b-d you will be using the full gene count matrix across the 3-month and 24-month mouse cells combined, as provided in the original paper, which is 14,813 cells × 21,969 genes. We will filter for the top 2000 highly variable genes, so that you can use this matrix within the Colab environment. (Downloaded below)"
      ]
    },
    {
      "cell_type": "code",
      "execution_count": null,
      "metadata": {
        "colab": {
          "base_uri": "https://localhost:8080/"
        },
        "id": "luQCozWsMUVI",
        "outputId": "e0f50468-eefb-4864-9a1a-e47167935a21"
      },
      "outputs": [
        {
          "name": "stdout",
          "output_type": "stream",
          "text": [
            "--2022-03-07 02:59:11--  https://ftp.ncbi.nlm.nih.gov/geo/series/GSE124nnn/GSE124872/suppl/GSE124872_raw_counts_single_cell.mtx.gz\n",
            "Resolving ftp.ncbi.nlm.nih.gov (ftp.ncbi.nlm.nih.gov)... 165.112.9.230, 130.14.250.7, 2607:f220:41e:250::13, ...\n",
            "Connecting to ftp.ncbi.nlm.nih.gov (ftp.ncbi.nlm.nih.gov)|165.112.9.230|:443... connected.\n",
            "HTTP request sent, awaiting response... 200 OK\n",
            "Length: 20074662 (19M) [application/x-gzip]\n",
            "Saving to: ‘GSE124872_raw_counts_single_cell.mtx.gz’\n",
            "\n",
            "GSE124872_raw_count 100%[===================>]  19.14M  60.1MB/s    in 0.3s    \n",
            "\n",
            "2022-03-07 02:59:11 (60.1 MB/s) - ‘GSE124872_raw_counts_single_cell.mtx.gz’ saved [20074662/20074662]\n",
            "\n"
          ]
        }
      ],
      "source": [
        "#Read in full cell x gene count matrix for 3 and 24 month old mice lung samples\n",
        "!wget --content-disposition https://ftp.ncbi.nlm.nih.gov/geo/series/GSE124nnn/GSE124872/suppl/GSE124872_raw_counts_single_cell.mtx.gz"
      ]
    },
    {
      "cell_type": "code",
      "execution_count": null,
      "metadata": {
        "colab": {
          "base_uri": "https://localhost:8080/"
        },
        "id": "PQsw10rIMUVI",
        "outputId": "052014d8-f9a6-4d4d-fcb3-83f0c3a69ae5"
      },
      "outputs": [
        {
          "name": "stdout",
          "output_type": "stream",
          "text": [
            "--2022-03-07 02:59:16--  https://ftp.ncbi.nlm.nih.gov/geo/series/GSE124nnn/GSE124872/suppl/GSE124872_Angelidis_2018_metadata.csv.gz\n",
            "Resolving ftp.ncbi.nlm.nih.gov (ftp.ncbi.nlm.nih.gov)... 165.112.9.230, 130.14.250.7, 2607:f220:41e:250::7, ...\n",
            "Connecting to ftp.ncbi.nlm.nih.gov (ftp.ncbi.nlm.nih.gov)|165.112.9.230|:443... connected.\n",
            "HTTP request sent, awaiting response... 200 OK\n",
            "Length: 188271 (184K) [application/x-gzip]\n",
            "Saving to: ‘GSE124872_Angelidis_2018_metadata.csv.gz’\n",
            "\n",
            "\r          GSE124872   0%[                    ]       0  --.-KB/s               \rGSE124872_Angelidis 100%[===================>] 183.86K  --.-KB/s    in 0.006s  \n",
            "\n",
            "2022-03-07 02:59:16 (30.1 MB/s) - ‘GSE124872_Angelidis_2018_metadata.csv.gz’ saved [188271/188271]\n",
            "\n"
          ]
        }
      ],
      "source": [
        "#Read in cell metadata\n",
        "!wget --content-disposition https://ftp.ncbi.nlm.nih.gov/geo/series/GSE124nnn/GSE124872/suppl/GSE124872_Angelidis_2018_metadata.csv.gz"
      ]
    },
    {
      "cell_type": "code",
      "execution_count": null,
      "metadata": {
        "id": "X0H4GbBIMUVJ"
      },
      "outputs": [],
      "source": [
        "!gunzip GSE124872_Angelidis_2018_metadata.csv.gz\n",
        "!gunzip GSE124872_raw_counts_single_cell.mtx.gz"
      ]
    },
    {
      "cell_type": "markdown",
      "metadata": {
        "id": "6XidblsX0BcX"
      },
      "source": [
        "Read in metadata of cells: \"grouping\" denotes the age (3m - 3 month, 24m - 24 month) and \"celltype\" denotes the cell type e.g. Plasma_cells"
      ]
    },
    {
      "cell_type": "code",
      "execution_count": null,
      "metadata": {
        "colab": {
          "base_uri": "https://localhost:8080/",
          "height": 221
        },
        "id": "00wWx2nxqZat",
        "outputId": "fa99c69c-3b97-4849-a014-3c1557f6718d"
      },
      "outputs": [
        {
          "data": {
            "text/html": [
              "\n",
              "  <div id=\"df-d248afd7-1792-493b-9f9e-31bd237351ac\">\n",
              "    <div class=\"colab-df-container\">\n",
              "      <div>\n",
              "<style scoped>\n",
              "    .dataframe tbody tr th:only-of-type {\n",
              "        vertical-align: middle;\n",
              "    }\n",
              "\n",
              "    .dataframe tbody tr th {\n",
              "        vertical-align: top;\n",
              "    }\n",
              "\n",
              "    .dataframe thead th {\n",
              "        text-align: right;\n",
              "    }\n",
              "</style>\n",
              "<table border=\"1\" class=\"dataframe\">\n",
              "  <thead>\n",
              "    <tr style=\"text-align: right;\">\n",
              "      <th></th>\n",
              "      <th>Unnamed: 0</th>\n",
              "      <th>nGene</th>\n",
              "      <th>nUMI</th>\n",
              "      <th>orig.ident</th>\n",
              "      <th>identifier</th>\n",
              "      <th>res.2</th>\n",
              "      <th>identifier.1</th>\n",
              "      <th>name</th>\n",
              "      <th>grouping</th>\n",
              "      <th>batch</th>\n",
              "      <th>cells</th>\n",
              "      <th>cluster</th>\n",
              "      <th>celltype</th>\n",
              "    </tr>\n",
              "  </thead>\n",
              "  <tbody>\n",
              "    <tr>\n",
              "      <th>0</th>\n",
              "      <td>muc3838:muc3838:TTCCGTGCCCCT</td>\n",
              "      <td>4255</td>\n",
              "      <td>10691</td>\n",
              "      <td>merged</td>\n",
              "      <td>muc3838</td>\n",
              "      <td>2</td>\n",
              "      <td>muc3838</td>\n",
              "      <td>NaN</td>\n",
              "      <td>24m</td>\n",
              "      <td>good</td>\n",
              "      <td>800</td>\n",
              "      <td>cluster2</td>\n",
              "      <td>Ciliated_cells</td>\n",
              "    </tr>\n",
              "    <tr>\n",
              "      <th>1</th>\n",
              "      <td>muc3838:muc3838:TTGCCCAATTAA</td>\n",
              "      <td>3178</td>\n",
              "      <td>6860</td>\n",
              "      <td>merged</td>\n",
              "      <td>muc3838</td>\n",
              "      <td>2</td>\n",
              "      <td>muc3838</td>\n",
              "      <td>NaN</td>\n",
              "      <td>24m</td>\n",
              "      <td>good</td>\n",
              "      <td>800</td>\n",
              "      <td>cluster2</td>\n",
              "      <td>Ciliated_cells</td>\n",
              "    </tr>\n",
              "    <tr>\n",
              "      <th>2</th>\n",
              "      <td>muc3838:muc3838:AAGCCCAGCTAT</td>\n",
              "      <td>1470</td>\n",
              "      <td>6127</td>\n",
              "      <td>merged</td>\n",
              "      <td>muc3838</td>\n",
              "      <td>24</td>\n",
              "      <td>muc3838</td>\n",
              "      <td>NaN</td>\n",
              "      <td>24m</td>\n",
              "      <td>good</td>\n",
              "      <td>800</td>\n",
              "      <td>cluster24</td>\n",
              "      <td>Plasma_cells</td>\n",
              "    </tr>\n",
              "    <tr>\n",
              "      <th>3</th>\n",
              "      <td>muc3838:muc3838:GCACTTTAGAAT</td>\n",
              "      <td>2348</td>\n",
              "      <td>4359</td>\n",
              "      <td>merged</td>\n",
              "      <td>muc3838</td>\n",
              "      <td>2</td>\n",
              "      <td>muc3838</td>\n",
              "      <td>NaN</td>\n",
              "      <td>24m</td>\n",
              "      <td>good</td>\n",
              "      <td>800</td>\n",
              "      <td>cluster2</td>\n",
              "      <td>Ciliated_cells</td>\n",
              "    </tr>\n",
              "    <tr>\n",
              "      <th>4</th>\n",
              "      <td>muc3838:muc3838:TCCTGCTCCCTT</td>\n",
              "      <td>2439</td>\n",
              "      <td>5293</td>\n",
              "      <td>merged</td>\n",
              "      <td>muc3838</td>\n",
              "      <td>2</td>\n",
              "      <td>muc3838</td>\n",
              "      <td>NaN</td>\n",
              "      <td>24m</td>\n",
              "      <td>good</td>\n",
              "      <td>800</td>\n",
              "      <td>cluster2</td>\n",
              "      <td>Ciliated_cells</td>\n",
              "    </tr>\n",
              "  </tbody>\n",
              "</table>\n",
              "</div>\n",
              "      <button class=\"colab-df-convert\" onclick=\"convertToInteractive('df-d248afd7-1792-493b-9f9e-31bd237351ac')\"\n",
              "              title=\"Convert this dataframe to an interactive table.\"\n",
              "              style=\"display:none;\">\n",
              "        \n",
              "  <svg xmlns=\"http://www.w3.org/2000/svg\" height=\"24px\"viewBox=\"0 0 24 24\"\n",
              "       width=\"24px\">\n",
              "    <path d=\"M0 0h24v24H0V0z\" fill=\"none\"/>\n",
              "    <path d=\"M18.56 5.44l.94 2.06.94-2.06 2.06-.94-2.06-.94-.94-2.06-.94 2.06-2.06.94zm-11 1L8.5 8.5l.94-2.06 2.06-.94-2.06-.94L8.5 2.5l-.94 2.06-2.06.94zm10 10l.94 2.06.94-2.06 2.06-.94-2.06-.94-.94-2.06-.94 2.06-2.06.94z\"/><path d=\"M17.41 7.96l-1.37-1.37c-.4-.4-.92-.59-1.43-.59-.52 0-1.04.2-1.43.59L10.3 9.45l-7.72 7.72c-.78.78-.78 2.05 0 2.83L4 21.41c.39.39.9.59 1.41.59.51 0 1.02-.2 1.41-.59l7.78-7.78 2.81-2.81c.8-.78.8-2.07 0-2.86zM5.41 20L4 18.59l7.72-7.72 1.47 1.35L5.41 20z\"/>\n",
              "  </svg>\n",
              "      </button>\n",
              "      \n",
              "  <style>\n",
              "    .colab-df-container {\n",
              "      display:flex;\n",
              "      flex-wrap:wrap;\n",
              "      gap: 12px;\n",
              "    }\n",
              "\n",
              "    .colab-df-convert {\n",
              "      background-color: #E8F0FE;\n",
              "      border: none;\n",
              "      border-radius: 50%;\n",
              "      cursor: pointer;\n",
              "      display: none;\n",
              "      fill: #1967D2;\n",
              "      height: 32px;\n",
              "      padding: 0 0 0 0;\n",
              "      width: 32px;\n",
              "    }\n",
              "\n",
              "    .colab-df-convert:hover {\n",
              "      background-color: #E2EBFA;\n",
              "      box-shadow: 0px 1px 2px rgba(60, 64, 67, 0.3), 0px 1px 3px 1px rgba(60, 64, 67, 0.15);\n",
              "      fill: #174EA6;\n",
              "    }\n",
              "\n",
              "    [theme=dark] .colab-df-convert {\n",
              "      background-color: #3B4455;\n",
              "      fill: #D2E3FC;\n",
              "    }\n",
              "\n",
              "    [theme=dark] .colab-df-convert:hover {\n",
              "      background-color: #434B5C;\n",
              "      box-shadow: 0px 1px 3px 1px rgba(0, 0, 0, 0.15);\n",
              "      filter: drop-shadow(0px 1px 2px rgba(0, 0, 0, 0.3));\n",
              "      fill: #FFFFFF;\n",
              "    }\n",
              "  </style>\n",
              "\n",
              "      <script>\n",
              "        const buttonEl =\n",
              "          document.querySelector('#df-d248afd7-1792-493b-9f9e-31bd237351ac button.colab-df-convert');\n",
              "        buttonEl.style.display =\n",
              "          google.colab.kernel.accessAllowed ? 'block' : 'none';\n",
              "\n",
              "        async function convertToInteractive(key) {\n",
              "          const element = document.querySelector('#df-d248afd7-1792-493b-9f9e-31bd237351ac');\n",
              "          const dataTable =\n",
              "            await google.colab.kernel.invokeFunction('convertToInteractive',\n",
              "                                                     [key], {});\n",
              "          if (!dataTable) return;\n",
              "\n",
              "          const docLinkHtml = 'Like what you see? Visit the ' +\n",
              "            '<a target=\"_blank\" href=https://colab.research.google.com/notebooks/data_table.ipynb>data table notebook</a>'\n",
              "            + ' to learn more about interactive tables.';\n",
              "          element.innerHTML = '';\n",
              "          dataTable['output_type'] = 'display_data';\n",
              "          await google.colab.output.renderOutput(dataTable, element);\n",
              "          const docLink = document.createElement('div');\n",
              "          docLink.innerHTML = docLinkHtml;\n",
              "          element.appendChild(docLink);\n",
              "        }\n",
              "      </script>\n",
              "    </div>\n",
              "  </div>\n",
              "  "
            ],
            "text/plain": [
              "                     Unnamed: 0  nGene   nUMI orig.ident identifier  res.2  \\\n",
              "0  muc3838:muc3838:TTCCGTGCCCCT   4255  10691     merged    muc3838      2   \n",
              "1  muc3838:muc3838:TTGCCCAATTAA   3178   6860     merged    muc3838      2   \n",
              "2  muc3838:muc3838:AAGCCCAGCTAT   1470   6127     merged    muc3838     24   \n",
              "3  muc3838:muc3838:GCACTTTAGAAT   2348   4359     merged    muc3838      2   \n",
              "4  muc3838:muc3838:TCCTGCTCCCTT   2439   5293     merged    muc3838      2   \n",
              "\n",
              "  identifier.1  name grouping batch  cells    cluster        celltype  \n",
              "0      muc3838   NaN      24m  good    800   cluster2  Ciliated_cells  \n",
              "1      muc3838   NaN      24m  good    800   cluster2  Ciliated_cells  \n",
              "2      muc3838   NaN      24m  good    800  cluster24    Plasma_cells  \n",
              "3      muc3838   NaN      24m  good    800   cluster2  Ciliated_cells  \n",
              "4      muc3838   NaN      24m  good    800   cluster2  Ciliated_cells  "
            ]
          },
          "execution_count": 10,
          "metadata": {},
          "output_type": "execute_result"
        }
      ],
      "source": [
        "meta = pd.read_csv('GSE124872_Angelidis_2018_metadata.csv')\n",
        "meta.head()"
      ]
    },
    {
      "cell_type": "markdown",
      "metadata": {
        "id": "t1yZZZYuMiEO"
      },
      "source": [
        "**The dataset**"
      ]
    },
    {
      "cell_type": "markdown",
      "metadata": {
        "id": "zZ59i_izMiEO"
      },
      "source": [
        "This is a Drop-seq based single-cell RNA-seq dataset produced from tissue extracted from the whole mouse lung, published by [Ilias Angelidis, Lukas M. Simon et al. 2019](https://www.nature.com/articles/s41467-019-08831-9). In the study single-cell suspensions were generated from eight 3-month old mice and seven 24-month old mice and looked for cell type specific effects of aging between the mice i.e. to create a single-cell atlas of the aging lung. \n",
        "\n",
        "For Parts b-c we will only be working with the full dataset across both ages and all mice."
      ]
    },
    {
      "cell_type": "markdown",
      "metadata": {
        "id": "WGSuxY1SMiEP"
      },
      "source": [
        "<center><img src=\"https://drive.google.com/uc?export=view&id=1O_x3hmDDes7foQVVLcoZVasrVED1L0Al\" alt=\"EMFigure\" width=\"900\" height=\"150\"><center>"
      ]
    },
    {
      "cell_type": "markdown",
      "metadata": {
        "id": "nAzghRuSMiEP"
      },
      "source": [
        "**The count matrix**\n",
        "\n",
        "This matrix is 14,813 cells by 21,969 genes across all mouse lung samples as provided in Ilias Angelidis, Lukas M. Simon et al. 2019.\n",
        "\n",
        "\n"
      ]
    },
    {
      "cell_type": "markdown",
      "metadata": {
        "id": "9SGWfbirV8ne"
      },
      "source": [
        "Read in count matrix"
      ]
    },
    {
      "cell_type": "code",
      "execution_count": null,
      "metadata": {
        "colab": {
          "background_save": true,
          "base_uri": "https://localhost:8080/"
        },
        "id": "h3NQrR1zWFqp",
        "outputId": "042eec7a-e986-482b-9990-e6f36bc682e2"
      },
      "outputs": [
        {
          "data": {
            "text/plain": [
              "(14813, 21969)"
            ]
          },
          "execution_count": null,
          "metadata": {},
          "output_type": "execute_result"
        }
      ],
      "source": [
        "import scipy.io as sio\n",
        "count_mat = sio.mmread('GSE124872_raw_counts_single_cell.mtx')\n",
        "count_mat = count_mat.todense().T\n",
        "count_mat.shape"
      ]
    },
    {
      "cell_type": "code",
      "execution_count": null,
      "metadata": {
        "id": "2iimKfnAgxYo"
      },
      "outputs": [],
      "source": [
        ""
      ]
    },
    {
      "cell_type": "markdown",
      "metadata": {
        "id": "I_De9ShHWJo-"
      },
      "source": [
        "Select for top 2000 highly variable genes"
      ]
    },
    {
      "cell_type": "code",
      "execution_count": null,
      "metadata": {
        "colab": {
          "base_uri": "https://localhost:8080/"
        },
        "id": "dpOyRjceWMOd",
        "outputId": "a11c9f11-1a99-4bb3-a01d-5bf78b77770b"
      },
      "outputs": [
        {
          "data": {
            "text/plain": [
              "AnnData object with n_obs × n_vars = 14813 × 21969"
            ]
          },
          "execution_count": 18,
          "metadata": {},
          "output_type": "execute_result"
        }
      ],
      "source": [
        "#Anndata is a common data type for processing and storing single-cell count matrices\n",
        "adata = anndata.AnnData(X = count_mat)\n",
        "adata"
      ]
    },
    {
      "cell_type": "code",
      "execution_count": null,
      "metadata": {
        "id": "uxZCUq45i_NJ"
      },
      "outputs": [],
      "source": [
        "#Select the 'highly variable' genes in the matrix so we don't use 21k genes\n",
        "sc.pp.filter_cells(adata, min_counts=0)\n",
        "sc.pp.filter_genes(adata, min_counts=0)\n",
        "\n",
        "sc.pp.normalize_per_cell(adata, counts_per_cell_after=1e4) #Cell-size normalization\n",
        "sc.pp.log1p(adata) #log-variance stabilization\n",
        "\n",
        "sc.pp.highly_variable_genes(adata,n_top_genes=2000)\n",
        "\n",
        "genesToKeep = adata.var['highly_variable']"
      ]
    },
    {
      "cell_type": "code",
      "execution_count": null,
      "metadata": {
        "colab": {
          "base_uri": "https://localhost:8080/"
        },
        "id": "SkQSSLeoWMUm",
        "outputId": "df197cbd-c355-49d8-9060-c80b55aaaeea"
      },
      "outputs": [
        {
          "data": {
            "text/plain": [
              "(14813, 2000)"
            ]
          },
          "execution_count": 20,
          "metadata": {},
          "output_type": "execute_result"
        }
      ],
      "source": [
        "#Subset original count matrix\n",
        "count_mat = count_mat[:,genesToKeep]\n",
        "count_mat.shape"
      ]
    },
    {
      "cell_type": "markdown",
      "metadata": {
        "id": "fq77aUyOlNds"
      },
      "source": [
        "**Use this 14813 × 2000 count_mat matrix as your count matrix for parts b-d**"
      ]
    },
    {
      "cell_type": "code",
      "execution_count": null,
      "metadata": {
        "id": "b5cWWScjWVUP"
      },
      "outputs": [],
      "source": [
        ""
      ]
    },
    {
      "cell_type": "markdown",
      "metadata": {
        "id": "SxubBCf6NROW"
      },
      "source": [
        "# **b) Normalization (10 points)**"
      ]
    },
    {
      "cell_type": "markdown",
      "metadata": {
        "id": "9M9Gi7mki9bF"
      },
      "source": [
        "Note that we use cell size normalization and then log1p to transform data before selecting highly variable genes, and then we use the indices to subset the raw count matrix. Therefore, the count_mat matrix here is the raw count matrix. \n",
        "\n",
        "In this part, you will do size-normalization and log1p transformations yourself. For size-normalization, normalize the data matrix to 10,000 reads per cell.\n",
        "\n",
        "**Report both the raw count matrix and the normalized matrix (that is size-normalized and then log1p transformed).**"
      ]
    },
    {
      "cell_type": "code",
      "source": [
        "raw = "
      ],
      "metadata": {
        "id": "D7Mudn5AQ647"
      },
      "execution_count": null,
      "outputs": []
    },
    {
      "cell_type": "code",
      "source": [
        "normalize = "
      ],
      "metadata": {
        "id": "7mBQgJlyQ9ry"
      },
      "execution_count": null,
      "outputs": []
    },
    {
      "cell_type": "markdown",
      "metadata": {
        "id": "Fef1K_WBMmQ4"
      },
      "source": [
        "# **c) Clustering (20 points)**"
      ]
    },
    {
      "cell_type": "markdown",
      "source": [
        "In this part, we will do K-means clustering on 4 different count matrices:\n",
        "1. Raw count matix\n",
        "2. Raw count matrix transformed by the first 15 principal components\n",
        "3. Normalized count matix\n",
        "4. Normalized count matix transformed by the first 15 principal components"
      ],
      "metadata": {
        "id": "rHv-fvOcVcD9"
      }
    },
    {
      "cell_type": "markdown",
      "source": [
        "You can use the sklearn for PCA and [KMeans](https://scikit-learn.org/stable/modules/generated/sklearn.cluster.KMeans.html#sklearn.cluster.KMeans.fit_predict). **You can set the cluster number k to 10 and random_state to 0 when using KMeans for simplicity.**\n",
        "\n",
        "Below is an example from sklearn"
      ],
      "metadata": {
        "id": "nkSjyzITVzTf"
      }
    },
    {
      "cell_type": "code",
      "source": [
        "from sklearn.cluster import KMeans\n",
        "from sklearn.decomposition import PCA\n",
        "\n",
        "X = np.array([[1, 2], [1, 4], [1, 0],\n",
        "               [10, 2], [10, 4], [10, \n",
        "                                  0]])\n",
        "kmeans = KMeans(n_clusters=2, random_state=0).fit(X)\n",
        "kmeans.labels_"
      ],
      "metadata": {
        "colab": {
          "base_uri": "https://localhost:8080/"
        },
        "id": "SVDZrPjVVjH1",
        "outputId": "94c06208-93bf-4024-c66f-52c64545b7fa"
      },
      "execution_count": null,
      "outputs": [
        {
          "output_type": "execute_result",
          "data": {
            "text/plain": [
              "array([1, 1, 1, 0, 0, 0], dtype=int32)"
            ]
          },
          "metadata": {},
          "execution_count": 37
        }
      ]
    },
    {
      "cell_type": "markdown",
      "source": [
        "**For each of the four clustering results, compare to given cell types in meta data. Report the majority cell type and the proportion of cells that are that majority in each k-means cluster.**\n",
        "\n",
        "**For the two clusterings done in 15 dimensional PCA space, also plot the transformed data in 2D colored by corresponding k-means clusters (which is done in 15D PCA-space). Comment on the differences between the two plots.**"
      ],
      "metadata": {
        "id": "2WLLcEtmhyf0"
      }
    },
    {
      "cell_type": "markdown",
      "metadata": {
        "id": "4luzBqqrMElW"
      },
      "source": [
        "# **d) Age prediction (60 points)**\n",
        "\n",
        "In their work, [Ilias Angelidis, Lukas M. Simon et al.](https://www.nature.com/articles/s41467-019-08831-9) found that the gene expression pattern for some cell types were different between the two age groups (3 months and 24 months), as shown in the figure below. In the figure below, the x-axis represent different genes and the y-axis represent different cell types, with each color bar representing the logarithm of the fold change in expression level between old and young cells for a particular genes in a particular cell type. Inspired by this result, we will build classification models (using normalized counts) and test how well they can predict the age of a mouse based on the gene expression profile of a single cell.\n",
        "\n",
        "<center><img src=\"https://drive.google.com/uc?export=view&id=17gt0rkWzJmh11GPw6ipehM6miiGTD86e\" alt=\"EMFigure\" width=\"550\" height=\"500\"><center>"
      ]
    },
    {
      "cell_type": "markdown",
      "source": [
        "We will compare the predictive power of two different classes of models: (1) logistic regression and (2) neural network. For each class, we will fit a model using gene expression data from a single cell type to predict the age (3m or 24m) of the mouse from which the cell was taken."
      ],
      "metadata": {
        "id": "jZVB11fIt-3P"
      }
    },
    {
      "cell_type": "markdown",
      "metadata": {
        "id": "5dqq9VguaP-J"
      },
      "source": [
        "**i) What cell type would you choose to build a predictive model of mouse age? Explain your reasoning (10 points)**"
      ]
    },
    {
      "cell_type": "markdown",
      "source": [
        "Answer:"
      ],
      "metadata": {
        "id": "9qHuBsWy4xhb"
      }
    },
    {
      "cell_type": "markdown",
      "source": [
        "To standardize the workflow, we will consider just two cell types: \n",
        "\n",
        "(1) 'Alveolar_macrophage' (AM)\n",
        "\n",
        "(2) 'Type_2_pneumocytes' (T2P) \n",
        "\n",
        "For the rest of the question, you will build a total of **4** models: \n",
        "\n",
        "1.   logistic regression using alveolar macrophage \n",
        "2.   logistic regression using type II pneumocytes \n",
        "3.   neural network using alveolar macrophage\n",
        "4.   neural network using type II pneumocytes"
      ],
      "metadata": {
        "id": "p42bDqN0uCvA"
      }
    },
    {
      "cell_type": "markdown",
      "source": [
        "We first subset our **normalized count matrix** to get out count data for alveolar macrophages (AM) and type II pneumocytes (T2P) sampled from 3 months and 24 months mouse, as well as the corresponding age/label for each cell. AM_3m represents alveolar macrophages from a 3 months old mouse, T2P_24m represents type II pneumocytes from a 24 months old mouse. *Note that we are representing the age class '3m' using the integer 0 and the age class '24m' using the integer 1.*"
      ],
      "metadata": {
        "id": "-kY83NdUuGMg"
      }
    },
    {
      "cell_type": "code",
      "source": [
        "typename = 'Alveolar_macrophage'\n",
        "youngIndex = meta.grouping.isin(['3m'])*meta.celltype.isin([typename])\n",
        "oldIndex = meta.grouping.isin(['24m'])*meta.celltype.isin([typename])\n",
        "\n",
        "# we will assign the number 0 to the age class '3m' and 1 to the age class '24m'\n",
        "AM_3m = normalize[youngIndex,:]\n",
        "AM_3m_label = np.zeros(np.size(AM_3m,0))\n",
        "AM_24m = normalize[oldIndex,:]\n",
        "AM_24m_label = np.ones(np.size(AM_24m,0))\n",
        "\n",
        "typename = 'Type_2_pneumocytes'\n",
        "youngIndex = meta.grouping.isin(['3m'])*meta.celltype.isin([typename])\n",
        "oldIndex = meta.grouping.isin(['24m'])*meta.celltype.isin([typename])\n",
        "\n",
        "T2P_3m = normalize[youngIndex,:]\n",
        "T2P_3m_label = np.zeros(np.size(T2P_3m,0))\n",
        "T2P_24m = normalize[oldIndex,:]\n",
        "T2P_24m_label = np.ones(np.size(T2P_24m,0))"
      ],
      "metadata": {
        "id": "2174-TmsuIyg"
      },
      "execution_count": null,
      "outputs": []
    },
    {
      "cell_type": "markdown",
      "source": [
        "Next, we will split our data evenly into a training set and test set. To allow for a fair comparison between the two cell types, we will use the same number of cells for alveolar macrophage as type II pneumocytes. **Use the code block below to split the data for each cell type into a train set and a test set, make sure you split both the gene expression counts and the corresponding labels.** For both cell types, the training set will consist of the first 550 cells of the 3 month old mouse and the first 250 cells of the 24 month old, the test set will consist of the subsequent 550 cells of the 3 month old mouse and the subsequent 250 cells of the 24 month old mouse."
      ],
      "metadata": {
        "id": "tWvojPpluJ9c"
      }
    },
    {
      "cell_type": "code",
      "source": [
        "#properly subset the data and labels into these variables\n",
        "AM_train = # ENTER CODE HERE\n",
        "AM_trainlabel = # ENTER CODE HERE\n",
        "AM_test = # ENTER CODE HERE\n",
        "AM_testlabel = # ENTER CODE HERE\n",
        "\n",
        "T2P_train = # ENTER CODE HERE\n",
        "T2P_trainlabel = # ENTER CODE HERE\n",
        "T2P_test = # ENTER CODE HERE\n",
        "T2P_testlabel = # ENTER CODE HERE"
      ],
      "metadata": {
        "id": "HHLcYdstuNR-"
      },
      "execution_count": null,
      "outputs": []
    },
    {
      "cell_type": "markdown",
      "metadata": {
        "id": "22fr_rZvMJJA"
      },
      "source": [
        " **ii) Logistic regression models (10 points)**\n",
        "\n",
        " In this section, you will build a logistic regression model to classify mouse age and use it to predict the age of the mouse from the gene expression profile of a cell. Recall that with logistic regression we model a categorical variable (e.g. mouse age - 3m vs 24m) as a continuous value (i.e. the probability of being in the category). In our case, the independent variable will be the collection of count data across all 2000 genes and the dependent variable will be a binary variable, 0 or 1, representing whether the cell was from the 24 month old mouse."
      ]
    },
    {
      "cell_type": "markdown",
      "source": [
        "**For each cell type (AM and T2P), complete the code block below where you will need to:**\n",
        "\n",
        "1) fit a logistic regression model using the training set you created above (hint: you may need to change certain hyperparameter to get convergence)\n",
        "\n",
        "3) evaluating your logistic regression model on the corresponding test set (make sure to use the same cell type as you used to fit the model)\n",
        "\n",
        "4) report the test accuracy of your model as the percent of cells where the age of the mouse was correctly predicted by the model"
      ],
      "metadata": {
        "id": "3MSYvT0yuTjQ"
      }
    },
    {
      "cell_type": "code",
      "execution_count": null,
      "metadata": {
        "id": "4JZ-4qWDbsNz"
      },
      "outputs": [],
      "source": [
        "#Set up model for AM \n",
        "# ENTER CODE HERE\n",
        "\n",
        "#Evaluate logistic regression model on the AM test set\n",
        "# ENTER CODE HERE\n",
        "\n",
        "#Report test accuracy of AM model\n",
        "# ENTER CODE HERE\n",
        "ncorrect = \n",
        "ntotal = \n",
        "print('Test Accuracy: %2.2f %%' % ((100.0 * ncorrect) / ntotal))"
      ]
    },
    {
      "cell_type": "code",
      "source": [
        "#Set up model for T2P\n",
        "# ENTER CODE HERE\n",
        "\n",
        "#Evaluate logistic regression model on the T2P test set\n",
        "# ENTER CODE HERE\n",
        "\n",
        "#Report test accuracy of T2P model\n",
        "# ENTER CODE HERE\n",
        "ncorrect = \n",
        "ntotal =\n",
        "print('Test Accuracy: %2.2f %%' % ((100.0 * ncorrect) / ntotal))"
      ],
      "metadata": {
        "id": "EcNP2PfguWZL"
      },
      "execution_count": null,
      "outputs": []
    },
    {
      "cell_type": "markdown",
      "metadata": {
        "id": "TY6RN5qlMQ2B"
      },
      "source": [
        "**iii) Neural network models - use the code/function below (30 points)**\n",
        "\n",
        "In this section, we will try to predict mouse age by building a Multi-Layer Perceptron (MLP) Model using [Pytorch](https://pytorch.org/docs/stable/index.html). Our MLP will take as input the expression level of the 2000 highly variable genes for a given cell and produce a pair of values corresponding to the probability of the cell being obtain from a 3 months vs. 24 months mouse. Specifically, we will train two separate neural networks using different cell types, one using **alveolar macrophages** and another using **type II pneumocytes**"
      ]
    },
    {
      "cell_type": "markdown",
      "metadata": {
        "id": "U8X4-8_RWzkg"
      },
      "source": [
        "We will start by first importing packages and initialize the random number generator to a fixed constant to ensure reproducibility."
      ]
    },
    {
      "cell_type": "code",
      "execution_count": null,
      "metadata": {
        "colab": {
          "base_uri": "https://localhost:8080/"
        },
        "id": "j7YMofxdbq_o",
        "outputId": "65dfa5bf-75d5-439d-a072-7cdc50a2d700"
      },
      "outputs": [
        {
          "data": {
            "text/plain": [
              "<torch._C.Generator at 0x7f97c682d970>"
            ]
          },
          "execution_count": 2,
          "metadata": {},
          "output_type": "execute_result"
        }
      ],
      "source": [
        "import torch\n",
        "import torch.nn.functional as F\n",
        "from torch import nn\n",
        "from torch import optim\n",
        "from torch.utils.data import Dataset, DataLoader\n",
        "\n",
        "seed = 183\n",
        "torch.manual_seed(seed)"
      ]
    },
    {
      "cell_type": "markdown",
      "source": [
        "#### We will first construct our **neural network model for alveolar macrophages**"
      ],
      "metadata": {
        "id": "F__TdIbQ7jnx"
      }
    },
    {
      "cell_type": "markdown",
      "metadata": {
        "id": "5vnkRThppxDC"
      },
      "source": [
        "When we train and evaluate our model, we will require batches of data to be provided. The Dataloader class can automatically provide batches of data fetched from a `Dataset` objects (which is defined for you as a `CountDataset` class). **Complete the code block below by converting counts and labels into tensors of the appropriate type.** In order for training to run properly, you need to make sure to convert count data to [`tensor` objects](https://pytorch.org/docs/stable/tensors.html#torch.Tensor) of type Float and the labels (age) should also be `tensor` objects of type Integer. **Furthermore, set an appropriate batch size, nbatch.** The batch size represents the number of samples passed through our neural network before an error gradient is computed and the network parameters are updated."
      ]
    },
    {
      "cell_type": "code",
      "execution_count": null,
      "metadata": {
        "id": "8WUUnh30ZH7P"
      },
      "outputs": [],
      "source": [
        "#create a custom dataset object so we can use dataloader for shuffling the data\n",
        "class CountDataset(Dataset):\n",
        "    def __init__(self, count, labels):\n",
        "        self.labels = labels\n",
        "        self.count = count\n",
        "    def __len__(self):\n",
        "        return len(self.labels)\n",
        "    def __getitem__(self, idx):\n",
        "        label = self.labels[idx]\n",
        "        count = self.count[idx]\n",
        "        sample = [count, label]\n",
        "        return sample\n",
        "\n",
        "# convert counts/label into tensors of the appropriate type\n",
        "traindata = # ENTER CODE HERE\n",
        "trainlabel = # ENTER CODE HERE\n",
        "testdata = # ENTER CODE HERE\n",
        "testlabel = # ENTER CODE HERE\n",
        "\n",
        "trainset = CountDataset(count=traindata, labels=trainlabel)\n",
        "testset = CountDataset(count=testdata, labels=testlabel)\n",
        "\n",
        "# create data loaders\n",
        "nbatch = # ENTER CODE HERE\n",
        "trainloader = DataLoader(trainset, batch_size=nbatch, shuffle=True)\n",
        "testloader = DataLoader(testset, batch_size=nbatch, shuffle=True)"
      ]
    },
    {
      "cell_type": "markdown",
      "metadata": {
        "id": "pRNdKS0Qkyjs"
      },
      "source": [
        "We are now ready to create our simple neural network model. We will define our model in a class that extends nn.Module. nn.Module subclasses must do a minimum of one thing: implement the forward method which takes a batch of data and performs the forward-pass. PyTorch's autograd system computes the gradients of the forward pass for us. In the code below we'll also make use of the constructor of our model to instantiate the hidden and output layers.The model is a simple neural network with one hidden layer. A rectifier linear unit (ReLU) activation function is used for the neurons in the hidden layer. The nn.Module class defines a instance variable called training that is set to True when the model is being trained and False when it is being evaluated after being trained. Since we would like our output to represent probabilities of the cell being from either of the two age groups (outputs are between 0 and 1, and sum up to 1), we can use the [softmax activation function](https://pytorch.org/docs/stable/generated/torch.nn.functional.softmax.html#torch.nn.functional.softmax) on our output layer to turn the outputs into probability-like values. **Complete the code below by implementing the softmax function on the output when the model is not being trained.** We do this because we will use PyTorch's implementation of Cross Entropy Loss (nn.CrossEntropyLoss) during training which implicitly adds a softmax before a logarithmic loss."
      ]
    },
    {
      "cell_type": "code",
      "source": [
        "# define MLP model\n",
        "class MLPmodel(nn.Module):\n",
        "    def __init__(self, input_size, hidden_size, num_classes):\n",
        "        super(MLPmodel, self).__init__()\n",
        "        self.fc1 = nn.Linear(input_size, hidden_size) \n",
        "        self.fc2 = nn.Linear(hidden_size, num_classes)  \n",
        "    \n",
        "    def forward(self, x):\n",
        "        out = self.fc1(x)\n",
        "        out = F.relu(out)\n",
        "        out = self.fc2(out)\n",
        "        if not self.training:\n",
        "            # ENTER CODE HERE\n",
        "        return out"
      ],
      "metadata": {
        "id": "oPNaLY6duzaN"
      },
      "execution_count": null,
      "outputs": []
    },
    {
      "cell_type": "markdown",
      "source": [
        "We can now fit and evaluate the model. **In the code below, complete the implementation of the training loop by**\n",
        "\n",
        "(1) Initialize an instance of our MLPmodel class using appropriate choices of the input_size, hidden_size, and num_classes.\n",
        "\n",
        "(2) Define the variables named loss_function and optimiser, we will use the [cross entropy loss](https://pytorch.org/docs/stable/generated/torch.nn.CrossEntropyLoss.html#torch.nn.CrossEntropyLoss) and the [ADAM optimiser](https://pytorch.org/docs/stable/optim.html).\n",
        "\n",
        "(3) Pick an appropriate number of epoch to train for.\n",
        "\n",
        "(4) Make a line plot showing the loss across all training epochs."
      ],
      "metadata": {
        "id": "iI2hmsDYu1jS"
      }
    },
    {
      "cell_type": "code",
      "execution_count": null,
      "metadata": {
        "id": "FpXJARJceXM6"
      },
      "outputs": [],
      "source": [
        "# build the model \n",
        "input_size = # ENTER CODE HERE\n",
        "hidden_size = # ENTER CODE HERE\n",
        "num_classes = # ENTER CODE HERE\n",
        "model = MLPmodel(input_size, hidden_size, num_classes)\n",
        "\n",
        "# define the loss function and the optimiser\n",
        "loss_function =# ENTER CODE HERE\n",
        "optimiser = # ENTER CODE HERE\n",
        "\n",
        "# define number of epochs to train for\n",
        "nepoch =# ENTER CODE HERE\n",
        "\n",
        "# the epoch loop\n",
        "for epoch in range(nepoch):\n",
        "    running_loss = 0.0\n",
        "    for data in trainloader:\n",
        "        # get the inputs\n",
        "        inputs, labels = data\n",
        "\n",
        "        # zero the parameter gradients\n",
        "        optimiser.zero_grad()\n",
        "\n",
        "        # forward + loss + backward + optimise (update weights)\n",
        "        outputs = model(inputs)\n",
        "        loss = loss_function(outputs, labels)\n",
        "        loss.backward()\n",
        "        optimiser.step()\n",
        "\n",
        "        # keep track of the loss this epoch\n",
        "        running_loss += loss.item()\n",
        "\n",
        "# plot epoch vs loss\n",
        "\n"
      ]
    },
    {
      "cell_type": "markdown",
      "source": [
        "Let's evaluate the overall accuracy of our trained network on our test set. Use the following code block to finish implementation of the accuracy computation. Report the test accuracy as the percent of cells where the age of the mouse was correctly predicted by the trained MLP model. Note that before the code you need to implement we've made a call to model.eval() - this sets the model into evaluation mode and supresses non-training things (gradients, dropout being applied/computed, etc.)."
      ],
      "metadata": {
        "id": "sw_W4qN8vNT4"
      }
    },
    {
      "cell_type": "code",
      "source": [
        "model.eval()\n",
        "\n",
        "# Compute the model accuracy on the test set\n",
        "# ENTER CODE HERE\n",
        "ncorrect = \n",
        "ntotal = \n",
        "\n",
        "print('Test Accuracy: %2.2f %%' % ((100.0 * ncorrect) / ntotal))"
      ],
      "metadata": {
        "id": "LHgzcmiHvNsP"
      },
      "execution_count": null,
      "outputs": []
    },
    {
      "cell_type": "markdown",
      "source": [
        "**Repeat the steps above for type II pneumocytes. Use the exact same set of hyperparameters you set for training on alveolar macrophages.**\n",
        "\n",
        "**Show all your code and report the following**:\n",
        "\n",
        "(1) A loss curve showing the loss value for each epoch\n",
        "\n",
        "(2) Test accuracy on the T2P test set"
      ],
      "metadata": {
        "id": "asURYZdRvRu-"
      }
    },
    {
      "cell_type": "code",
      "source": [
        "# train the same MLP model used above for T2P\n",
        "# ENTER CODE HERE\n",
        "\n",
        "# plot loss across epoch\n",
        "# ENTER CODE HERE\n",
        "\n",
        "# report model accuracy on T2P test set\n",
        "# ENTER CODE HERE"
      ],
      "metadata": {
        "id": "j9NsbYcNvVRx"
      },
      "execution_count": null,
      "outputs": []
    },
    {
      "cell_type": "markdown",
      "source": [
        "**iv) Make a bar plot showing the test accuracy across all four models that you built. (10 points)**\n",
        "\n",
        "1.   logistic regression using alveolar macrophage \n",
        "2.   logistic regression using type II pneumocytes \n",
        "3.   neural network using alveolar macrophage\n",
        "4.   neural network using type II pneumocytes"
      ],
      "metadata": {
        "id": "RTqgz0nNvVlU"
      }
    },
    {
      "cell_type": "code",
      "source": [
        "# make bar plot\n",
        "# ENTER CODE HERE\n"
      ],
      "metadata": {
        "id": "qjnqOknNvV9z"
      },
      "execution_count": null,
      "outputs": []
    }
  ],
  "metadata": {
    "colab": {
      "collapsed_sections": [],
      "name": "HW10Final.ipynb",
      "provenance": [],
      "include_colab_link": true
    },
    "kernelspec": {
      "display_name": "Python 3",
      "name": "python3"
    },
    "language_info": {
      "name": "python"
    }
  },
  "nbformat": 4,
  "nbformat_minor": 0
}