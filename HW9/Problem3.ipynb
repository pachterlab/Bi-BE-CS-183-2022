{
  "nbformat": 4,
  "nbformat_minor": 0,
  "metadata": {
    "colab": {
      "name": "Problem3.ipynb",
      "provenance": [],
      "collapsed_sections": [
        "cdVb4nazXHDz"
      ],
      "toc_visible": true,
      "include_colab_link": true
    },
    "kernelspec": {
      "name": "python3",
      "display_name": "Python 3"
    },
    "language_info": {
      "name": "python"
    }
  },
  "cells": [
    {
      "cell_type": "markdown",
      "metadata": {
        "id": "view-in-github",
        "colab_type": "text"
      },
      "source": [
        "<a href=\"https://colab.research.google.com/github/pachterlab/Bi-BE-CS-183-2022/blob/main/HW9/Problem3.ipynb\" target=\"_parent\"><img src=\"https://colab.research.google.com/assets/colab-badge.svg\" alt=\"Open In Colab\"/></a>"
      ]
    },
    {
      "cell_type": "markdown",
      "metadata": {
        "id": "MozW3XxY8ezr"
      },
      "source": [
        "Bi/Be/Cs 183 2021-2022: Intro to Computational Biology\n",
        "TAs: Meichen Fang, Tara Chari, Zitong (Jerry) Wang\n",
        "\n",
        "**Submit your notebooks by sharing a clickable link with Viewer access. Link must be accessible from submitted assignment document.**\n",
        "\n",
        "Make sure Runtime $\\rightarrow$ Restart and run all works without error"
      ]
    },
    {
      "cell_type": "markdown",
      "source": [
        "**HW 9 Problem 3**\n",
        "\n",
        "In this question, you will implement Gillepie's stochastic simulation algorithm and use it to examine the approximate solutions you worked out in Problems 1 and 2.\n"
      ],
      "metadata": {
        "id": "Mu4obGyqS8fh"
      }
    },
    {
      "cell_type": "code",
      "execution_count": null,
      "metadata": {
        "id": "elsk1U0exP97"
      },
      "outputs": [],
      "source": [
        "import numpy as np\n",
        "from numpy import matlib\n",
        "import matplotlib.pyplot as plt\n",
        "import scipy\n",
        "from scipy import stats\n",
        "%config InlineBackend.figure_format = 'retina'"
      ]
    },
    {
      "cell_type": "markdown",
      "source": [
        "#Core simulation code: Gillespie algorithm"
      ],
      "metadata": {
        "id": "MXrWTfgDOf0p"
      }
    },
    {
      "cell_type": "markdown",
      "source": [
        "This is the core of the simulation code, a vectorized version of the procedure described in [Gillespie (1976)](https://www.sciencedirect.com/science/article/pii/0021999176900413). You do not need to make any changes to this, but you should be aware of the following conventions for inputs and outputs:\n",
        "\n",
        "`k`: vector of reaction rates.\n",
        "\n",
        "`tvec`: strictly increasing vector of observation times, length $n$.\n",
        "\n",
        "`S`: stochichiometry matrix, size $n_r \\times n_s$, where $n_r$ is the number of reactions and $n_s$ is the number of species. Tracks the changes in species amounts due to each reaction.\n",
        "\n",
        "`nCells`: integer number of cells to simulate.\n",
        "\n",
        "`propfun`: a function that defines the _propensities_ of reactions enumerated in `S`. As described in lecture, the propensities are instantaneous rates that govern the reaction waiting times."
      ],
      "metadata": {
        "id": "Se5bG9K14FaC"
      }
    },
    {
      "cell_type": "code",
      "source": [
        "def gillvec(k,tvec,S,nCells,propfun):\n",
        "    n_species = S.shape[1]\n",
        "\n",
        "    num_t_pts = len(tvec)\n",
        "    X_mesh = np.zeros((nCells,num_t_pts,n_species),dtype=int) #change to float if storing floats!!!!!!! \n",
        "\n",
        "    t = np.zeros(nCells,dtype=float)\n",
        "    tindex = np.zeros(nCells,dtype=int)\n",
        "\n",
        "    #initialize state: integer unspliced, integer spliced \n",
        "    X = np.zeros((nCells,n_species),dtype=int)\n",
        "\n",
        "\t#initialize list of cells that are being simulated\n",
        "    activecells = np.ones(nCells,dtype=bool)\n",
        "    while any(activecells):\n",
        "        mu = np.zeros(nCells,dtype=int)\n",
        "        n_active_cells = np.sum(activecells)\t\t\n",
        "        (dt,mu_upd) = rxn_calculator(X[activecells,:],k,propfun)\n",
        "\n",
        "        t[activecells] += dt\n",
        "        mu[activecells] = mu_upd\n",
        "\n",
        "        update = np.zeros(nCells,dtype=bool)\n",
        "        update[activecells] = t[activecells] > tvec[tindex[activecells]]\n",
        "        while np.any(update):\n",
        "            X_mesh[update,tindex[update],:] = X[update]\n",
        "            tindex += update\n",
        "            ended_in_update = (tindex==num_t_pts) #less efficient\n",
        "            if np.any(ended_in_update):\n",
        "                activecells[ended_in_update] = False\n",
        "                mu[ended_in_update] = 0\n",
        "                if not np.any(activecells):\n",
        "                    print('end simulation')\n",
        "                    break\n",
        "            update = np.zeros(nCells,dtype=bool)\n",
        "            update[activecells] = t[activecells]>tvec[tindex[activecells]]\n",
        "        # not_burst = mu > 1\n",
        "        # burst = mu == 1\n",
        "\n",
        "        X[activecells] += S[mu[activecells]-1]\n",
        "\t\t# if np.any(burst):\t\t\n",
        "\t\t# \tbs_rxn = np.random.geometric(1/(1+bs),size=sum(burst))-1\t\n",
        "\t\t# \taddn = np.zeros((sum(burst),n_species),dtype='int')\t \n",
        "\t\t# \taddn[:,0] = bs_rxn\n",
        "\t\t# \tX[burst] += addn\n",
        "    return X_mesh\n",
        "\n",
        "def rxn_calculator(X,k,propfun):\n",
        "\tnRxn = len(k)\n",
        "\tnCells = X.shape[0]\n",
        "\n",
        "\ta = np.zeros((nCells,nRxn),dtype=float)\n",
        " ################################\n",
        "\ta = propfun(a, k, X)\n",
        "#################################\n",
        "\ta0 = np.sum(a,1)\n",
        "\tdt = np.log(1./np.random.rand(nCells)) / a0\n",
        "\tr2ao = a0 * np.random.rand(nCells)\n",
        "\tmu = np.sum(np.matlib.repmat(r2ao,nRxn+1,1).T >= np.cumsum(np.matlib.hstack((np.zeros((nCells,1)),a)),1) ,1)\n",
        "\t# print(mu)\n",
        "\treturn (dt,mu)\n"
      ],
      "metadata": {
        "id": "rbp5fAi2xdur"
      },
      "execution_count": null,
      "outputs": []
    },
    {
      "cell_type": "markdown",
      "source": [
        "# Problem 3\n",
        "In this question, we will compare our results to stochastic simulations and see how well the various approximations work. The core of the simulation code is already implemented. It remains for you to write the $\\textit{propensity functions}$ that determine the instantaneous rates of the reactions. This amounts to writing down the individual contributions to the efflux rates in the matrix $\\mathcal{A}$. \n",
        "\n",
        "For example, consider the constitutive production system with transcription rate $k_A$, degradation rate $\\gamma$, and $n$ molecules of RNA. At each instant, it will assign a propensity of $k$ to the transcription reaction and $\\gamma n$ to the degradation reaction. \n",
        "\n",
        "Below is an example of how to do the stochastic simulations.\n",
        "\n"
      ],
      "metadata": {
        "id": "eg2PxtmaCKIl"
      }
    },
    {
      "cell_type": "markdown",
      "source": [
        "\n",
        "## Example: Constitutive production of two independent genes\n",
        "\n",
        "You will need to write down `propfun` functions, which take in a `k` array, defining the parameters, and an `x` array, defining the current state.\n",
        "\n",
        "As an example, you could imagine simulating a system with two independent constitutively produced RNA species with transcription rates $k_{1}, k_{2}$ and degradation rates $\\gamma_1, \\gamma_2$:\n",
        "$$\n",
        "\\varnothing \\xrightarrow{k_1} \\mathcal{T}_1 \\xrightarrow{\\gamma_1} \\varnothing\\\\\n",
        "\\varnothing \\xrightarrow{k_2} \\mathcal{T}_2 \\xrightarrow{\\gamma_2} \\varnothing\n",
        "$$\n",
        "Then `x[0]` will give the copy number of the first mRNA and `x[1]` will report the copy number of the second RNA. The `k` array will be `[k1, k2, g1, g2]`. There are two species and four reactions. We can list them out in order (birth of RNA 1, death of RNA 1, birth of RNA 2, death of RNA 2), along with their effects on the RNA numbers.\n",
        "\n",
        "The stoichiometry matrix will take the following form:\n",
        "$$\\begin{bmatrix} 1 & 0 \\\\ -1 & 0 \\\\ 0 & 1 \\\\ 0 & -1\\end{bmatrix}$$\n",
        "\n",
        "As expected, the birth (transcription) reactions add 1 to the count of the corresponding RNA; the death reactions subtract 1 from the count.\n",
        "\n",
        "The propensity function will take the following form:\n",
        "\n",
        "```\n",
        "def propfun_indep(a,k,x):\n",
        "    k1, k2, g1, g2 = k\n",
        "    ...\n",
        "    #######\n",
        "    #fill in this part\n",
        "    a[0] = k1\n",
        "    a[1] = g1 * x[0]\n",
        "    a[2] = k2 \n",
        "    a[3] = g2 * x[1]\n",
        "    #######\n",
        "    ...\n",
        "    return a\n",
        "```\n",
        "\n"
      ],
      "metadata": {
        "id": "cdVb4nazXHDz"
      }
    },
    {
      "cell_type": "markdown",
      "source": [
        "Let's try this worked example. First, fill in the propensities, so that the rate of each reaction is correctly described by the amounts of the reactants."
      ],
      "metadata": {
        "id": "jYA-dUkVNlsa"
      }
    },
    {
      "cell_type": "code",
      "source": [
        "S = np.array([[1,0],[-1,0],[0,1],[0,-1]])\n",
        "def propfun_indep(a,k,x):\n",
        "    k1, k2, g1, g2 = k\n",
        "    x = x.T\n",
        "    a = a.T\n",
        "    #######\n",
        "    #fill in this part\n",
        "    a[0] = k1\n",
        "    a[1] = g1 * x[0]\n",
        "    a[2] = k2 \n",
        "    a[3] = g2 * x[1]\n",
        "    #######\n",
        "    a = a.T\n",
        "    return a"
      ],
      "metadata": {
        "id": "E_7wIR60NoQO"
      },
      "execution_count": null,
      "outputs": []
    },
    {
      "cell_type": "markdown",
      "source": [
        "Initialize the parameter values. (Please do not change these)."
      ],
      "metadata": {
        "id": "-zvjkdb1PQOl"
      }
    },
    {
      "cell_type": "code",
      "source": [
        "T = 5\n",
        "k = [1,2, 0.75,0.15]\n",
        "k1, k2, g1, g2 = k\n",
        "measure_time = T/min(k)"
      ],
      "metadata": {
        "id": "pz1PqTyhPFbf"
      },
      "execution_count": null,
      "outputs": []
    },
    {
      "cell_type": "markdown",
      "source": [
        "Simulate a single trajectory to equilibrium."
      ],
      "metadata": {
        "id": "q7sQO-mxPTvt"
      }
    },
    {
      "cell_type": "code",
      "source": [
        "fs = 20\n",
        "tvec = np.linspace(0,measure_time,1000,endpoint=True)\n",
        "nCells = 1\n",
        "X=gillvec(k,tvec,S,nCells,propfun_indep) \n",
        "\n",
        "fig1,ax1=plt.subplots(nrows=1,ncols=2,figsize=(20,5))\n",
        "\n",
        "ax1[0].plot(tvec,X[0,:,0],alpha=1,color='k')\n",
        "ax1[0].set_xlabel('Time',fontsize=fs)\n",
        "ax1[0].set_ylabel('Number of RNA 1',fontsize=fs)\n",
        "ax1[0].tick_params(axis='y',labelsize=fs)\n",
        "ax1[0].tick_params(axis='x',labelsize=fs)\n",
        "\n",
        "ax1[1].plot(tvec,X[0,:,1],alpha=1,color='k')\n",
        "ax1[1].set_xlabel('Time',fontsize=fs)\n",
        "ax1[1].set_ylabel('Number of RNA 2',fontsize=fs)\n",
        "ax1[1].tick_params(axis='x',labelsize=fs)\n",
        "ax1[1].tick_params(axis='y',labelsize=fs)"
      ],
      "metadata": {
        "colab": {
          "base_uri": "https://localhost:8080/",
          "height": 371
        },
        "id": "fqb2C5NmOCgq",
        "outputId": "bffcbca0-2d5e-465d-d89c-0f456502ee97"
      },
      "execution_count": null,
      "outputs": [
        {
          "output_type": "stream",
          "name": "stdout",
          "text": [
            "end simulation\n"
          ]
        },
        {
          "output_type": "display_data",
          "data": {
            "image/png": "[encoded data removed]",
            "text/plain": [
              "<Figure size 1440x360 with 2 Axes>"
            ]
          },
          "metadata": {
            "image/png": {
              "width": 1186,
              "height": 337
            },
            "needs_background": "light"
          }
        }
      ]
    },
    {
      "cell_type": "markdown",
      "source": [
        "We will begin with the bursty regime of the telegraph model of transcription."
      ],
      "metadata": {
        "id": "McFw9CqCFZTG"
      }
    },
    {
      "cell_type": "markdown",
      "source": [
        "## Part I telegraph model of transcription"
      ],
      "metadata": {
        "id": "677q1jfcESqu"
      }
    },
    {
      "cell_type": "markdown",
      "source": [
        "Using the above example as a template, we would like to simulate a more complex process with a regulated gene locus:\n",
        "\n",
        "\\begin{split}\n",
        "I &\\xrightarrow{k_{on}} A\\\\\n",
        "A &\\xrightarrow{k_{off}} I\\\\\n",
        "A &\\xrightarrow{k_A} A + \\mathcal{T}\\\\\n",
        "\\mathcal{T} &\\xrightarrow{\\gamma} \\varnothing\n",
        "\\end{split}"
      ],
      "metadata": {
        "id": "HNcGYDzrPfa-"
      }
    },
    {
      "cell_type": "markdown",
      "source": [
        "Write down the stoichiometry matrix for the gene locus/RNA system."
      ],
      "metadata": {
        "id": "hz7Yzwe46xVQ"
      }
    },
    {
      "cell_type": "code",
      "source": [
        "S = np.array([[1,0],[-1,0],[0,1],[0,-1]])"
      ],
      "metadata": {
        "id": "UMNKz9lNxjo4"
      },
      "execution_count": null,
      "outputs": []
    },
    {
      "cell_type": "markdown",
      "source": [
        "Make sure to get an intuition for this. There are four reactions: gene activation, gene inhibition, RNA production from an activated gene, RNA degradation. There are two \"species\" affected by the reactions: the gene state, which only takes on values in $\\{0,1\\}$, and the number of RNA, which can be any integer in $\\mathbb{N}_0$. "
      ],
      "metadata": {
        "id": "SpxpUMTk62yO"
      }
    },
    {
      "cell_type": "markdown",
      "source": [
        "Now, write down the propensity functions corresponding to these four reactions. The input to the function `propfun` will include `k`, defined as the vector of $k_{on}, k_{off}, k_A, \\gamma$ (named in more descriptive terms in the first line of the code proper). \n",
        "\n",
        "You need to define each entry of the vector `a` as a function of the parameter values and the entries of `x`. The entries of `a` are propensities of the four reactions. The entries of `x` are the species (gene state and mRNA count)."
      ],
      "metadata": {
        "id": "Bcawtj_-7oYW"
      }
    },
    {
      "cell_type": "markdown",
      "source": [
        "### (a) Use the code layout provided to make a function that calculates reaction rates for the telegraph model, as outlined in Equations 1 and 3. (5 pts)\n",
        "The parameters are $k_{on}$, $k_{off}$, $k_{A}$, and $\\gamma$. The inputs are $X$, the current state of the random telegraph process (inactive if zero, active if one), and $N$, the number of RNA molecules. The outputs are the propensities of the following reactions: activation, deactivation, transcription from active state, degradation."
      ],
      "metadata": {
        "id": "fkS0DUmO5xFj"
      }
    },
    {
      "cell_type": "code",
      "source": [
        "def propfun_gene(a,k,x):\n",
        "    kon, koff, ktransc, kdeg = k\n",
        "    x = x.T\n",
        "    a = a.T\n",
        "    #######\n",
        "    #fill in this part\n",
        "    \n",
        "    #######\n",
        "    a = a.T\n",
        "\n",
        "    return a"
      ],
      "metadata": {
        "id": "3fjv32Dr7rR9"
      },
      "execution_count": null,
      "outputs": []
    },
    {
      "cell_type": "markdown",
      "source": [
        "### b) Simulate the process and compare your solution to the pre-defined negative binomial approximation. (5 pts)\n",
        "\n",
        "We can use the same template code to study a coupled transcriptional-translational system, which is not tractable analytically. We wish to compare our microscopic, mesoscopic, and macroscopic approximations to the true protein distributions under the assumption of large timescale separation but moderate protein numbers.\n"
      ],
      "metadata": {
        "id": "pnTbM0A1Klwu"
      }
    },
    {
      "cell_type": "code",
      "source": [
        "T = 5\n",
        "k = [0.5,12, 26,2]\n",
        "kon, koff, ktransc, kdeg = k\n",
        "measure_time = T/min(k)"
      ],
      "metadata": {
        "id": "tJFpT5pB8lWM"
      },
      "execution_count": null,
      "outputs": []
    },
    {
      "cell_type": "markdown",
      "source": [
        "## Part 2 telegraph model with constitutive transcription and translation"
      ],
      "metadata": {
        "id": "vXPi-aDUCHXk"
      }
    },
    {
      "cell_type": "markdown",
      "source": [
        "### c) Use the code layout provided to make a function that calculates reaction propensities for the model with constitutive transcription and translation (5 pts)\n",
        "The parameters are $k$, $\\gamma$, $k_t$, and $\\gamma_p$. The inputs are $N$, the current number of RNA molecules and $P$, the current number of protein molecules. The outputs are the propensities of the following reactions: RNA transcription, RNA degradation, protein translation, protein degradation.\n",
        "\\begin{align}\n",
        "        \\varnothing &\\xrightarrow{k} \\mathcal{T}\\\\\n",
        "        \\mathcal{T} &\\xrightarrow{\\gamma} \\varnothing\\\\\n",
        "        \\mathcal{T} &\\xrightarrow{k_t} \\mathcal{T} + \\mathcal{P}\\\\\n",
        "        \\mathcal{P} &\\xrightarrow{\\gamma_p} \\varnothing,\n",
        "\\end{align} "
      ],
      "metadata": {
        "id": "o1fbUS24KwpT"
      }
    },
    {
      "cell_type": "code",
      "source": [
        "S = np.array([[1,0],[-1,0],[0,1],[0,-1]])"
      ],
      "metadata": {
        "id": "xKQTKAyC62O1"
      },
      "execution_count": null,
      "outputs": []
    },
    {
      "cell_type": "markdown",
      "source": [
        "Write down the propensity function for the protein/RNA system."
      ],
      "metadata": {
        "id": "aZe_K8Dw6dTL"
      }
    },
    {
      "cell_type": "code",
      "source": [
        "def propfun_transl(a,k,x):\n",
        "    ktx,kdeg,ktransl,kpdeg = k\n",
        "    x = x.T\n",
        "    a = a.T\n",
        "    #######\n",
        "    #fill in this part\n",
        "    \n",
        "    #######\n",
        "    a = a.T\n",
        "\n",
        "    return a"
      ],
      "metadata": {
        "id": "yP41Kt2k6jb-"
      },
      "execution_count": null,
      "outputs": []
    },
    {
      "cell_type": "markdown",
      "source": [
        "### d) Simulate the process and compare your solution to the three approximations obtained in 2a, 2b, and 2f. (5 pts)\n",
        "Simulate the system. Note that this will take a while if the system is very stiff."
      ],
      "metadata": {
        "id": "paGLwR8nxPAy"
      }
    },
    {
      "cell_type": "code",
      "source": [
        "T = 5\n",
        "# k = [4.1,1.9, 0.15,0.01]\n",
        "k = [4.1,1.9, 0.09,0.01]\n",
        "ktx,kdeg,ktransl,kpdeg = k\n",
        "measure_time = T/min(k)"
      ],
      "metadata": {
        "id": "XuN_ynqox5kp"
      },
      "execution_count": null,
      "outputs": []
    }
  ]
}